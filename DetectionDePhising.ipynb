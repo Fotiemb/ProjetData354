{
  "cells": [
    {
      "cell_type": "code",
      "execution_count": null,
      "metadata": {
        "id": "b7db6923-c3ea-42ac-9a79-a6074f15d504"
      },
      "outputs": [],
      "source": [
        "import numpy as np\n",
        "import pandas as pd\n",
        "import seaborn as sns\n",
        "import matplotlib.pyplot as plt\n",
        "from wordcloud import WordCloud, STOPWORDS"
      ],
      "id": "b7db6923-c3ea-42ac-9a79-a6074f15d504"
    },
    {
      "cell_type": "code",
      "execution_count": null,
      "metadata": {
        "colab": {
          "base_uri": "https://localhost:8080/"
        },
        "id": "kY8r33QmyYwb",
        "outputId": "36b07a1e-dc13-4241-d469-3f79418b6c6a"
      },
      "outputs": [
        {
          "output_type": "stream",
          "name": "stdout",
          "text": [
            "Drive already mounted at /content/drive; to attempt to forcibly remount, call drive.mount(\"/content/drive\", force_remount=True).\n"
          ]
        }
      ],
      "source": [
        "from google.colab import drive\n",
        "drive.mount('/content/drive')"
      ],
      "id": "kY8r33QmyYwb"
    },
    {
      "cell_type": "code",
      "execution_count": null,
      "metadata": {
        "id": "c59ff49d-5c50-4ceb-a5ce-4d2555268d68"
      },
      "outputs": [],
      "source": [
        "df_phish = pd.read_csv(\"/content/drive/MyDrive/ProjetData354/Projet1/fishing-train.csv\")"
      ],
      "id": "c59ff49d-5c50-4ceb-a5ce-4d2555268d68"
    },
    {
      "cell_type": "code",
      "execution_count": null,
      "metadata": {
        "colab": {
          "base_uri": "https://localhost:8080/",
          "height": 206
        },
        "id": "7b635957-250f-4d96-a743-76c94c790523",
        "outputId": "bfa84dc7-5e3d-4a9c-c334-4aba43cbbd9f"
      },
      "outputs": [
        {
          "output_type": "execute_result",
          "data": {
            "text/plain": [
              "                                                 url    label\n",
              "0  http://mylust.com/videos/198456/svelte-nympho-...    legit\n",
              "1  http://serverfault.com/questions/676825/basic-...    legit\n",
              "2  http://otomoto.pl/osobowe/bmw/seria-3/e36-1990...    legit\n",
              "3  http://motthegioi.vn/khoa-hoc-giao-duc/du-hoc/...    legit\n",
              "4        https://att-yahoo-mail-2023.weeblysite.com/  fishing"
            ],
            "text/html": [
              "\n",
              "  <div id=\"df-1355e783-33c8-45d7-b51f-afd652bcb3a1\" class=\"colab-df-container\">\n",
              "    <div>\n",
              "<style scoped>\n",
              "    .dataframe tbody tr th:only-of-type {\n",
              "        vertical-align: middle;\n",
              "    }\n",
              "\n",
              "    .dataframe tbody tr th {\n",
              "        vertical-align: top;\n",
              "    }\n",
              "\n",
              "    .dataframe thead th {\n",
              "        text-align: right;\n",
              "    }\n",
              "</style>\n",
              "<table border=\"1\" class=\"dataframe\">\n",
              "  <thead>\n",
              "    <tr style=\"text-align: right;\">\n",
              "      <th></th>\n",
              "      <th>url</th>\n",
              "      <th>label</th>\n",
              "    </tr>\n",
              "  </thead>\n",
              "  <tbody>\n",
              "    <tr>\n",
              "      <th>0</th>\n",
              "      <td>http://mylust.com/videos/198456/svelte-nympho-...</td>\n",
              "      <td>legit</td>\n",
              "    </tr>\n",
              "    <tr>\n",
              "      <th>1</th>\n",
              "      <td>http://serverfault.com/questions/676825/basic-...</td>\n",
              "      <td>legit</td>\n",
              "    </tr>\n",
              "    <tr>\n",
              "      <th>2</th>\n",
              "      <td>http://otomoto.pl/osobowe/bmw/seria-3/e36-1990...</td>\n",
              "      <td>legit</td>\n",
              "    </tr>\n",
              "    <tr>\n",
              "      <th>3</th>\n",
              "      <td>http://motthegioi.vn/khoa-hoc-giao-duc/du-hoc/...</td>\n",
              "      <td>legit</td>\n",
              "    </tr>\n",
              "    <tr>\n",
              "      <th>4</th>\n",
              "      <td>https://att-yahoo-mail-2023.weeblysite.com/</td>\n",
              "      <td>fishing</td>\n",
              "    </tr>\n",
              "  </tbody>\n",
              "</table>\n",
              "</div>\n",
              "    <div class=\"colab-df-buttons\">\n",
              "\n",
              "  <div class=\"colab-df-container\">\n",
              "    <button class=\"colab-df-convert\" onclick=\"convertToInteractive('df-1355e783-33c8-45d7-b51f-afd652bcb3a1')\"\n",
              "            title=\"Convert this dataframe to an interactive table.\"\n",
              "            style=\"display:none;\">\n",
              "\n",
              "  <svg xmlns=\"http://www.w3.org/2000/svg\" height=\"24px\" viewBox=\"0 -960 960 960\">\n",
              "    <path d=\"M120-120v-720h720v720H120Zm60-500h600v-160H180v160Zm220 220h160v-160H400v160Zm0 220h160v-160H400v160ZM180-400h160v-160H180v160Zm440 0h160v-160H620v160ZM180-180h160v-160H180v160Zm440 0h160v-160H620v160Z\"/>\n",
              "  </svg>\n",
              "    </button>\n",
              "\n",
              "  <style>\n",
              "    .colab-df-container {\n",
              "      display:flex;\n",
              "      gap: 12px;\n",
              "    }\n",
              "\n",
              "    .colab-df-convert {\n",
              "      background-color: #E8F0FE;\n",
              "      border: none;\n",
              "      border-radius: 50%;\n",
              "      cursor: pointer;\n",
              "      display: none;\n",
              "      fill: #1967D2;\n",
              "      height: 32px;\n",
              "      padding: 0 0 0 0;\n",
              "      width: 32px;\n",
              "    }\n",
              "\n",
              "    .colab-df-convert:hover {\n",
              "      background-color: #E2EBFA;\n",
              "      box-shadow: 0px 1px 2px rgba(60, 64, 67, 0.3), 0px 1px 3px 1px rgba(60, 64, 67, 0.15);\n",
              "      fill: #174EA6;\n",
              "    }\n",
              "\n",
              "    .colab-df-buttons div {\n",
              "      margin-bottom: 4px;\n",
              "    }\n",
              "\n",
              "    [theme=dark] .colab-df-convert {\n",
              "      background-color: #3B4455;\n",
              "      fill: #D2E3FC;\n",
              "    }\n",
              "\n",
              "    [theme=dark] .colab-df-convert:hover {\n",
              "      background-color: #434B5C;\n",
              "      box-shadow: 0px 1px 3px 1px rgba(0, 0, 0, 0.15);\n",
              "      filter: drop-shadow(0px 1px 2px rgba(0, 0, 0, 0.3));\n",
              "      fill: #FFFFFF;\n",
              "    }\n",
              "  </style>\n",
              "\n",
              "    <script>\n",
              "      const buttonEl =\n",
              "        document.querySelector('#df-1355e783-33c8-45d7-b51f-afd652bcb3a1 button.colab-df-convert');\n",
              "      buttonEl.style.display =\n",
              "        google.colab.kernel.accessAllowed ? 'block' : 'none';\n",
              "\n",
              "      async function convertToInteractive(key) {\n",
              "        const element = document.querySelector('#df-1355e783-33c8-45d7-b51f-afd652bcb3a1');\n",
              "        const dataTable =\n",
              "          await google.colab.kernel.invokeFunction('convertToInteractive',\n",
              "                                                    [key], {});\n",
              "        if (!dataTable) return;\n",
              "\n",
              "        const docLinkHtml = 'Like what you see? Visit the ' +\n",
              "          '<a target=\"_blank\" href=https://colab.research.google.com/notebooks/data_table.ipynb>data table notebook</a>'\n",
              "          + ' to learn more about interactive tables.';\n",
              "        element.innerHTML = '';\n",
              "        dataTable['output_type'] = 'display_data';\n",
              "        await google.colab.output.renderOutput(dataTable, element);\n",
              "        const docLink = document.createElement('div');\n",
              "        docLink.innerHTML = docLinkHtml;\n",
              "        element.appendChild(docLink);\n",
              "      }\n",
              "    </script>\n",
              "  </div>\n",
              "\n",
              "\n",
              "<div id=\"df-1da1fbdf-dca4-45e9-9d76-ed8f794fcf1b\">\n",
              "  <button class=\"colab-df-quickchart\" onclick=\"quickchart('df-1da1fbdf-dca4-45e9-9d76-ed8f794fcf1b')\"\n",
              "            title=\"Suggest charts\"\n",
              "            style=\"display:none;\">\n",
              "\n",
              "<svg xmlns=\"http://www.w3.org/2000/svg\" height=\"24px\"viewBox=\"0 0 24 24\"\n",
              "     width=\"24px\">\n",
              "    <g>\n",
              "        <path d=\"M19 3H5c-1.1 0-2 .9-2 2v14c0 1.1.9 2 2 2h14c1.1 0 2-.9 2-2V5c0-1.1-.9-2-2-2zM9 17H7v-7h2v7zm4 0h-2V7h2v10zm4 0h-2v-4h2v4z\"/>\n",
              "    </g>\n",
              "</svg>\n",
              "  </button>\n",
              "\n",
              "<style>\n",
              "  .colab-df-quickchart {\n",
              "      --bg-color: #E8F0FE;\n",
              "      --fill-color: #1967D2;\n",
              "      --hover-bg-color: #E2EBFA;\n",
              "      --hover-fill-color: #174EA6;\n",
              "      --disabled-fill-color: #AAA;\n",
              "      --disabled-bg-color: #DDD;\n",
              "  }\n",
              "\n",
              "  [theme=dark] .colab-df-quickchart {\n",
              "      --bg-color: #3B4455;\n",
              "      --fill-color: #D2E3FC;\n",
              "      --hover-bg-color: #434B5C;\n",
              "      --hover-fill-color: #FFFFFF;\n",
              "      --disabled-bg-color: #3B4455;\n",
              "      --disabled-fill-color: #666;\n",
              "  }\n",
              "\n",
              "  .colab-df-quickchart {\n",
              "    background-color: var(--bg-color);\n",
              "    border: none;\n",
              "    border-radius: 50%;\n",
              "    cursor: pointer;\n",
              "    display: none;\n",
              "    fill: var(--fill-color);\n",
              "    height: 32px;\n",
              "    padding: 0;\n",
              "    width: 32px;\n",
              "  }\n",
              "\n",
              "  .colab-df-quickchart:hover {\n",
              "    background-color: var(--hover-bg-color);\n",
              "    box-shadow: 0 1px 2px rgba(60, 64, 67, 0.3), 0 1px 3px 1px rgba(60, 64, 67, 0.15);\n",
              "    fill: var(--button-hover-fill-color);\n",
              "  }\n",
              "\n",
              "  .colab-df-quickchart-complete:disabled,\n",
              "  .colab-df-quickchart-complete:disabled:hover {\n",
              "    background-color: var(--disabled-bg-color);\n",
              "    fill: var(--disabled-fill-color);\n",
              "    box-shadow: none;\n",
              "  }\n",
              "\n",
              "  .colab-df-spinner {\n",
              "    border: 2px solid var(--fill-color);\n",
              "    border-color: transparent;\n",
              "    border-bottom-color: var(--fill-color);\n",
              "    animation:\n",
              "      spin 1s steps(1) infinite;\n",
              "  }\n",
              "\n",
              "  @keyframes spin {\n",
              "    0% {\n",
              "      border-color: transparent;\n",
              "      border-bottom-color: var(--fill-color);\n",
              "      border-left-color: var(--fill-color);\n",
              "    }\n",
              "    20% {\n",
              "      border-color: transparent;\n",
              "      border-left-color: var(--fill-color);\n",
              "      border-top-color: var(--fill-color);\n",
              "    }\n",
              "    30% {\n",
              "      border-color: transparent;\n",
              "      border-left-color: var(--fill-color);\n",
              "      border-top-color: var(--fill-color);\n",
              "      border-right-color: var(--fill-color);\n",
              "    }\n",
              "    40% {\n",
              "      border-color: transparent;\n",
              "      border-right-color: var(--fill-color);\n",
              "      border-top-color: var(--fill-color);\n",
              "    }\n",
              "    60% {\n",
              "      border-color: transparent;\n",
              "      border-right-color: var(--fill-color);\n",
              "    }\n",
              "    80% {\n",
              "      border-color: transparent;\n",
              "      border-right-color: var(--fill-color);\n",
              "      border-bottom-color: var(--fill-color);\n",
              "    }\n",
              "    90% {\n",
              "      border-color: transparent;\n",
              "      border-bottom-color: var(--fill-color);\n",
              "    }\n",
              "  }\n",
              "</style>\n",
              "\n",
              "  <script>\n",
              "    async function quickchart(key) {\n",
              "      const quickchartButtonEl =\n",
              "        document.querySelector('#' + key + ' button');\n",
              "      quickchartButtonEl.disabled = true;  // To prevent multiple clicks.\n",
              "      quickchartButtonEl.classList.add('colab-df-spinner');\n",
              "      try {\n",
              "        const charts = await google.colab.kernel.invokeFunction(\n",
              "            'suggestCharts', [key], {});\n",
              "      } catch (error) {\n",
              "        console.error('Error during call to suggestCharts:', error);\n",
              "      }\n",
              "      quickchartButtonEl.classList.remove('colab-df-spinner');\n",
              "      quickchartButtonEl.classList.add('colab-df-quickchart-complete');\n",
              "    }\n",
              "    (() => {\n",
              "      let quickchartButtonEl =\n",
              "        document.querySelector('#df-1da1fbdf-dca4-45e9-9d76-ed8f794fcf1b button');\n",
              "      quickchartButtonEl.style.display =\n",
              "        google.colab.kernel.accessAllowed ? 'block' : 'none';\n",
              "    })();\n",
              "  </script>\n",
              "</div>\n",
              "    </div>\n",
              "  </div>\n"
            ]
          },
          "metadata": {},
          "execution_count": 7
        }
      ],
      "source": [
        "df_phish.head(5)"
      ],
      "id": "7b635957-250f-4d96-a743-76c94c790523"
    },
    {
      "cell_type": "markdown",
      "source": [
        "# Analyse des données"
      ],
      "metadata": {
        "id": "trI2q5EOkVe6"
      },
      "id": "trI2q5EOkVe6"
    },
    {
      "cell_type": "code",
      "execution_count": null,
      "metadata": {
        "colab": {
          "base_uri": "https://localhost:8080/"
        },
        "id": "8f9c5bcf-ab29-4d6a-8369-b61afeb0548d",
        "outputId": "9b15aa7e-3a0c-4a98-f3ef-6050af64b5e3"
      },
      "outputs": [
        {
          "output_type": "execute_result",
          "data": {
            "text/plain": [
              "(23523, 2)"
            ]
          },
          "metadata": {},
          "execution_count": 8
        }
      ],
      "source": [
        "# Afficher le nombre de lignes et de colonnes de mon dataset\n",
        "df_phish.shape"
      ],
      "id": "8f9c5bcf-ab29-4d6a-8369-b61afeb0548d"
    },
    {
      "cell_type": "code",
      "execution_count": null,
      "metadata": {
        "colab": {
          "base_uri": "https://localhost:8080/",
          "height": 206
        },
        "id": "8960c343-b749-4608-969a-46ff82a09648",
        "outputId": "8eeb9175-fb32-4b7b-f1c0-591582ed795a"
      },
      "outputs": [
        {
          "output_type": "execute_result",
          "data": {
            "text/plain": [
              "                                                     url  label\n",
              "23518  http://buzzfil.net/article/5285/c-mignon/ce-ch...  legit\n",
              "23519  http://kenh14.vn/doi-song/trao-luu-luon-song-c...  legit\n",
              "23520  http://abcnews.go.com/US/wireStory/exterminato...  legit\n",
              "23521  http://thenextweb.com/apps/2015/05/07/massive-...  legit\n",
              "23522  http://themeforest.net/item/mist-30-business-e...  legit"
            ],
            "text/html": [
              "\n",
              "  <div id=\"df-d7324f1a-e2fc-4d4b-85cb-81df05b6e3dd\" class=\"colab-df-container\">\n",
              "    <div>\n",
              "<style scoped>\n",
              "    .dataframe tbody tr th:only-of-type {\n",
              "        vertical-align: middle;\n",
              "    }\n",
              "\n",
              "    .dataframe tbody tr th {\n",
              "        vertical-align: top;\n",
              "    }\n",
              "\n",
              "    .dataframe thead th {\n",
              "        text-align: right;\n",
              "    }\n",
              "</style>\n",
              "<table border=\"1\" class=\"dataframe\">\n",
              "  <thead>\n",
              "    <tr style=\"text-align: right;\">\n",
              "      <th></th>\n",
              "      <th>url</th>\n",
              "      <th>label</th>\n",
              "    </tr>\n",
              "  </thead>\n",
              "  <tbody>\n",
              "    <tr>\n",
              "      <th>23518</th>\n",
              "      <td>http://buzzfil.net/article/5285/c-mignon/ce-ch...</td>\n",
              "      <td>legit</td>\n",
              "    </tr>\n",
              "    <tr>\n",
              "      <th>23519</th>\n",
              "      <td>http://kenh14.vn/doi-song/trao-luu-luon-song-c...</td>\n",
              "      <td>legit</td>\n",
              "    </tr>\n",
              "    <tr>\n",
              "      <th>23520</th>\n",
              "      <td>http://abcnews.go.com/US/wireStory/exterminato...</td>\n",
              "      <td>legit</td>\n",
              "    </tr>\n",
              "    <tr>\n",
              "      <th>23521</th>\n",
              "      <td>http://thenextweb.com/apps/2015/05/07/massive-...</td>\n",
              "      <td>legit</td>\n",
              "    </tr>\n",
              "    <tr>\n",
              "      <th>23522</th>\n",
              "      <td>http://themeforest.net/item/mist-30-business-e...</td>\n",
              "      <td>legit</td>\n",
              "    </tr>\n",
              "  </tbody>\n",
              "</table>\n",
              "</div>\n",
              "    <div class=\"colab-df-buttons\">\n",
              "\n",
              "  <div class=\"colab-df-container\">\n",
              "    <button class=\"colab-df-convert\" onclick=\"convertToInteractive('df-d7324f1a-e2fc-4d4b-85cb-81df05b6e3dd')\"\n",
              "            title=\"Convert this dataframe to an interactive table.\"\n",
              "            style=\"display:none;\">\n",
              "\n",
              "  <svg xmlns=\"http://www.w3.org/2000/svg\" height=\"24px\" viewBox=\"0 -960 960 960\">\n",
              "    <path d=\"M120-120v-720h720v720H120Zm60-500h600v-160H180v160Zm220 220h160v-160H400v160Zm0 220h160v-160H400v160ZM180-400h160v-160H180v160Zm440 0h160v-160H620v160ZM180-180h160v-160H180v160Zm440 0h160v-160H620v160Z\"/>\n",
              "  </svg>\n",
              "    </button>\n",
              "\n",
              "  <style>\n",
              "    .colab-df-container {\n",
              "      display:flex;\n",
              "      gap: 12px;\n",
              "    }\n",
              "\n",
              "    .colab-df-convert {\n",
              "      background-color: #E8F0FE;\n",
              "      border: none;\n",
              "      border-radius: 50%;\n",
              "      cursor: pointer;\n",
              "      display: none;\n",
              "      fill: #1967D2;\n",
              "      height: 32px;\n",
              "      padding: 0 0 0 0;\n",
              "      width: 32px;\n",
              "    }\n",
              "\n",
              "    .colab-df-convert:hover {\n",
              "      background-color: #E2EBFA;\n",
              "      box-shadow: 0px 1px 2px rgba(60, 64, 67, 0.3), 0px 1px 3px 1px rgba(60, 64, 67, 0.15);\n",
              "      fill: #174EA6;\n",
              "    }\n",
              "\n",
              "    .colab-df-buttons div {\n",
              "      margin-bottom: 4px;\n",
              "    }\n",
              "\n",
              "    [theme=dark] .colab-df-convert {\n",
              "      background-color: #3B4455;\n",
              "      fill: #D2E3FC;\n",
              "    }\n",
              "\n",
              "    [theme=dark] .colab-df-convert:hover {\n",
              "      background-color: #434B5C;\n",
              "      box-shadow: 0px 1px 3px 1px rgba(0, 0, 0, 0.15);\n",
              "      filter: drop-shadow(0px 1px 2px rgba(0, 0, 0, 0.3));\n",
              "      fill: #FFFFFF;\n",
              "    }\n",
              "  </style>\n",
              "\n",
              "    <script>\n",
              "      const buttonEl =\n",
              "        document.querySelector('#df-d7324f1a-e2fc-4d4b-85cb-81df05b6e3dd button.colab-df-convert');\n",
              "      buttonEl.style.display =\n",
              "        google.colab.kernel.accessAllowed ? 'block' : 'none';\n",
              "\n",
              "      async function convertToInteractive(key) {\n",
              "        const element = document.querySelector('#df-d7324f1a-e2fc-4d4b-85cb-81df05b6e3dd');\n",
              "        const dataTable =\n",
              "          await google.colab.kernel.invokeFunction('convertToInteractive',\n",
              "                                                    [key], {});\n",
              "        if (!dataTable) return;\n",
              "\n",
              "        const docLinkHtml = 'Like what you see? Visit the ' +\n",
              "          '<a target=\"_blank\" href=https://colab.research.google.com/notebooks/data_table.ipynb>data table notebook</a>'\n",
              "          + ' to learn more about interactive tables.';\n",
              "        element.innerHTML = '';\n",
              "        dataTable['output_type'] = 'display_data';\n",
              "        await google.colab.output.renderOutput(dataTable, element);\n",
              "        const docLink = document.createElement('div');\n",
              "        docLink.innerHTML = docLinkHtml;\n",
              "        element.appendChild(docLink);\n",
              "      }\n",
              "    </script>\n",
              "  </div>\n",
              "\n",
              "\n",
              "<div id=\"df-2b80a863-3132-4051-93b1-888ae08dcc7b\">\n",
              "  <button class=\"colab-df-quickchart\" onclick=\"quickchart('df-2b80a863-3132-4051-93b1-888ae08dcc7b')\"\n",
              "            title=\"Suggest charts\"\n",
              "            style=\"display:none;\">\n",
              "\n",
              "<svg xmlns=\"http://www.w3.org/2000/svg\" height=\"24px\"viewBox=\"0 0 24 24\"\n",
              "     width=\"24px\">\n",
              "    <g>\n",
              "        <path d=\"M19 3H5c-1.1 0-2 .9-2 2v14c0 1.1.9 2 2 2h14c1.1 0 2-.9 2-2V5c0-1.1-.9-2-2-2zM9 17H7v-7h2v7zm4 0h-2V7h2v10zm4 0h-2v-4h2v4z\"/>\n",
              "    </g>\n",
              "</svg>\n",
              "  </button>\n",
              "\n",
              "<style>\n",
              "  .colab-df-quickchart {\n",
              "      --bg-color: #E8F0FE;\n",
              "      --fill-color: #1967D2;\n",
              "      --hover-bg-color: #E2EBFA;\n",
              "      --hover-fill-color: #174EA6;\n",
              "      --disabled-fill-color: #AAA;\n",
              "      --disabled-bg-color: #DDD;\n",
              "  }\n",
              "\n",
              "  [theme=dark] .colab-df-quickchart {\n",
              "      --bg-color: #3B4455;\n",
              "      --fill-color: #D2E3FC;\n",
              "      --hover-bg-color: #434B5C;\n",
              "      --hover-fill-color: #FFFFFF;\n",
              "      --disabled-bg-color: #3B4455;\n",
              "      --disabled-fill-color: #666;\n",
              "  }\n",
              "\n",
              "  .colab-df-quickchart {\n",
              "    background-color: var(--bg-color);\n",
              "    border: none;\n",
              "    border-radius: 50%;\n",
              "    cursor: pointer;\n",
              "    display: none;\n",
              "    fill: var(--fill-color);\n",
              "    height: 32px;\n",
              "    padding: 0;\n",
              "    width: 32px;\n",
              "  }\n",
              "\n",
              "  .colab-df-quickchart:hover {\n",
              "    background-color: var(--hover-bg-color);\n",
              "    box-shadow: 0 1px 2px rgba(60, 64, 67, 0.3), 0 1px 3px 1px rgba(60, 64, 67, 0.15);\n",
              "    fill: var(--button-hover-fill-color);\n",
              "  }\n",
              "\n",
              "  .colab-df-quickchart-complete:disabled,\n",
              "  .colab-df-quickchart-complete:disabled:hover {\n",
              "    background-color: var(--disabled-bg-color);\n",
              "    fill: var(--disabled-fill-color);\n",
              "    box-shadow: none;\n",
              "  }\n",
              "\n",
              "  .colab-df-spinner {\n",
              "    border: 2px solid var(--fill-color);\n",
              "    border-color: transparent;\n",
              "    border-bottom-color: var(--fill-color);\n",
              "    animation:\n",
              "      spin 1s steps(1) infinite;\n",
              "  }\n",
              "\n",
              "  @keyframes spin {\n",
              "    0% {\n",
              "      border-color: transparent;\n",
              "      border-bottom-color: var(--fill-color);\n",
              "      border-left-color: var(--fill-color);\n",
              "    }\n",
              "    20% {\n",
              "      border-color: transparent;\n",
              "      border-left-color: var(--fill-color);\n",
              "      border-top-color: var(--fill-color);\n",
              "    }\n",
              "    30% {\n",
              "      border-color: transparent;\n",
              "      border-left-color: var(--fill-color);\n",
              "      border-top-color: var(--fill-color);\n",
              "      border-right-color: var(--fill-color);\n",
              "    }\n",
              "    40% {\n",
              "      border-color: transparent;\n",
              "      border-right-color: var(--fill-color);\n",
              "      border-top-color: var(--fill-color);\n",
              "    }\n",
              "    60% {\n",
              "      border-color: transparent;\n",
              "      border-right-color: var(--fill-color);\n",
              "    }\n",
              "    80% {\n",
              "      border-color: transparent;\n",
              "      border-right-color: var(--fill-color);\n",
              "      border-bottom-color: var(--fill-color);\n",
              "    }\n",
              "    90% {\n",
              "      border-color: transparent;\n",
              "      border-bottom-color: var(--fill-color);\n",
              "    }\n",
              "  }\n",
              "</style>\n",
              "\n",
              "  <script>\n",
              "    async function quickchart(key) {\n",
              "      const quickchartButtonEl =\n",
              "        document.querySelector('#' + key + ' button');\n",
              "      quickchartButtonEl.disabled = true;  // To prevent multiple clicks.\n",
              "      quickchartButtonEl.classList.add('colab-df-spinner');\n",
              "      try {\n",
              "        const charts = await google.colab.kernel.invokeFunction(\n",
              "            'suggestCharts', [key], {});\n",
              "      } catch (error) {\n",
              "        console.error('Error during call to suggestCharts:', error);\n",
              "      }\n",
              "      quickchartButtonEl.classList.remove('colab-df-spinner');\n",
              "      quickchartButtonEl.classList.add('colab-df-quickchart-complete');\n",
              "    }\n",
              "    (() => {\n",
              "      let quickchartButtonEl =\n",
              "        document.querySelector('#df-2b80a863-3132-4051-93b1-888ae08dcc7b button');\n",
              "      quickchartButtonEl.style.display =\n",
              "        google.colab.kernel.accessAllowed ? 'block' : 'none';\n",
              "    })();\n",
              "  </script>\n",
              "</div>\n",
              "    </div>\n",
              "  </div>\n"
            ]
          },
          "metadata": {},
          "execution_count": 9
        }
      ],
      "source": [
        "# Afficher les dernières lignes du DataFrame\n",
        "df_phish.tail()"
      ],
      "id": "8960c343-b749-4608-969a-46ff82a09648"
    },
    {
      "cell_type": "code",
      "source": [
        "# renvoyer le décompte du nombre d'occurrences de chaque valeur unique dans la colonne 'label' du DataFrame\n",
        "df_phish.label.value_counts()"
      ],
      "metadata": {
        "colab": {
          "base_uri": "https://localhost:8080/"
        },
        "id": "LOUigZrInZMJ",
        "outputId": "0f35bf94-52fb-4943-a228-e3212edafdb0"
      },
      "id": "LOUigZrInZMJ",
      "execution_count": null,
      "outputs": [
        {
          "output_type": "execute_result",
          "data": {
            "text/plain": [
              "legit      17688\n",
              "fishing     5835\n",
              "Name: label, dtype: int64"
            ]
          },
          "metadata": {},
          "execution_count": 10
        }
      ]
    },
    {
      "cell_type": "code",
      "execution_count": null,
      "metadata": {
        "colab": {
          "base_uri": "https://localhost:8080/"
        },
        "id": "e52cf522-669c-41cd-a9f8-ddd57e0bbac0",
        "outputId": "36d1c095-58bb-4fb9-ad68-9f3e913c8b01"
      },
      "outputs": [
        {
          "output_type": "execute_result",
          "data": {
            "text/plain": [
              "Index(['url', 'label'], dtype='object')"
            ]
          },
          "metadata": {},
          "execution_count": 11
        }
      ],
      "source": [
        "# Afficher les colonnes\n",
        "df_phish.columns"
      ],
      "id": "e52cf522-669c-41cd-a9f8-ddd57e0bbac0"
    },
    {
      "cell_type": "code",
      "execution_count": null,
      "metadata": {
        "colab": {
          "base_uri": "https://localhost:8080/"
        },
        "id": "efbee4a5-5b2b-43a5-bb19-120e464423e7",
        "outputId": "88479d2d-6022-4ad8-f40c-6cbb46c79f0a"
      },
      "outputs": [
        {
          "output_type": "stream",
          "name": "stdout",
          "text": [
            "<class 'pandas.core.frame.DataFrame'>\n",
            "RangeIndex: 23523 entries, 0 to 23522\n",
            "Data columns (total 2 columns):\n",
            " #   Column  Non-Null Count  Dtype \n",
            "---  ------  --------------  ----- \n",
            " 0   url     23523 non-null  object\n",
            " 1   label   23523 non-null  object\n",
            "dtypes: object(2)\n",
            "memory usage: 367.7+ KB\n"
          ]
        }
      ],
      "source": [
        "# Information sur le DataFrame\n",
        "df_phish.info()"
      ],
      "id": "efbee4a5-5b2b-43a5-bb19-120e464423e7"
    },
    {
      "cell_type": "markdown",
      "metadata": {
        "id": "7ec80c57-ad8d-441f-96f2-8fc0f9e53843"
      },
      "source": [
        "À propos de l'ensemble de données nous avons 23523 entrées uniques.\n",
        "Il y a deux colonnes, la colonne d'étiquette est une colonne de prédiction donc 2 catégories:\n",
        "- `legit`, ce qui signifie que les URL ne contiennent pas d'éléments malveillants et que ce site n'est pas un phishing.\n",
        "\n",
        "- `fishing` , ce qui signifie que les URL contiennent des éléments malveillants et que ce site est un site de phishing.\n",
        "\n",
        "Il n'y a aucune valeur manquante dans l'ensemble de données."
      ],
      "id": "7ec80c57-ad8d-441f-96f2-8fc0f9e53843"
    },
    {
      "cell_type": "code",
      "execution_count": null,
      "metadata": {
        "colab": {
          "base_uri": "https://localhost:8080/"
        },
        "id": "2610a865-b72d-48d7-a100-a0bddae1cbec",
        "outputId": "8bdcac15-0022-488c-b21e-e17e3936efbc"
      },
      "outputs": [
        {
          "output_type": "execute_result",
          "data": {
            "text/plain": [
              "url      0\n",
              "label    0\n",
              "dtype: int64"
            ]
          },
          "metadata": {},
          "execution_count": 13
        }
      ],
      "source": [
        "# compter le nombre de valeurs nulles dans chaque colonne du DataFrame\n",
        "df_phish.isnull().sum()"
      ],
      "id": "2610a865-b72d-48d7-a100-a0bddae1cbec"
    },
    {
      "cell_type": "code",
      "execution_count": null,
      "metadata": {
        "colab": {
          "base_uri": "https://localhost:8080/"
        },
        "id": "-824knU4Tvz-",
        "outputId": "f9fe0807-924c-4aa9-a46b-a04553e2da68"
      },
      "outputs": [
        {
          "output_type": "execute_result",
          "data": {
            "text/plain": [
              "0"
            ]
          },
          "metadata": {},
          "execution_count": 14
        }
      ],
      "source": [
        "# compter le nombre de valeurs dupliquées dans la colonne \"url\" du DataFrame.\n",
        "df_phish.url.duplicated().sum()"
      ],
      "id": "-824knU4Tvz-"
    },
    {
      "cell_type": "code",
      "execution_count": null,
      "metadata": {
        "colab": {
          "base_uri": "https://localhost:8080/",
          "height": 385
        },
        "id": "2d844c68-2864-4483-ad6d-9dac8c0c1095",
        "outputId": "0ab6c169-09b7-47f2-ccd5-c9d1d9f005c6"
      },
      "outputs": [
        {
          "output_type": "execute_result",
          "data": {
            "text/plain": [
              "<Axes: >"
            ]
          },
          "metadata": {},
          "execution_count": 15
        },
        {
          "output_type": "display_data",
          "data": {
            "text/plain": [
              "<Figure size 800x400 with 1 Axes>"
            ],
            "image/png": "[encoded data removed]"
          },
          "metadata": {}
        }
      ],
      "source": [
        "# Créer une figure avec une taille de 8x4 pouces\n",
        "plt.figure(figsize=(8, 4))\n",
        "\n",
        "# Créer une carte thermique (heatmap) pour visualiser les valeurs nulles dans le DataFrame df_phish\n",
        "# yticklabels=False : Ne pas afficher les étiquettes sur l'axe des y\n",
        "# cbar=False : Ne pas afficher la barre de couleur sur le côté\n",
        "# cmap='plasma' : Utiliser la palette de couleurs 'plasma'\n",
        "sns.heatmap(df_phish.isnull(), yticklabels=False, cbar=False, cmap='plasma')\n"
      ],
      "id": "2d844c68-2864-4483-ad6d-9dac8c0c1095"
    },
    {
      "cell_type": "code",
      "execution_count": null,
      "metadata": {
        "colab": {
          "base_uri": "https://localhost:8080/",
          "height": 175
        },
        "id": "7cb495b4-5cca-4845-a554-bbbbe87ce155",
        "outputId": "b80347f8-691b-4a1e-f5f8-74dbe1ebc1d6"
      },
      "outputs": [
        {
          "output_type": "execute_result",
          "data": {
            "text/plain": [
              "                                                      url  label\n",
              "count                                               23523  23523\n",
              "unique                                              23523      2\n",
              "top     http://mylust.com/videos/198456/svelte-nympho-...  legit\n",
              "freq                                                    1  17688"
            ],
            "text/html": [
              "\n",
              "  <div id=\"df-28d4b918-5997-4493-b85c-5e79deaa8e6f\" class=\"colab-df-container\">\n",
              "    <div>\n",
              "<style scoped>\n",
              "    .dataframe tbody tr th:only-of-type {\n",
              "        vertical-align: middle;\n",
              "    }\n",
              "\n",
              "    .dataframe tbody tr th {\n",
              "        vertical-align: top;\n",
              "    }\n",
              "\n",
              "    .dataframe thead th {\n",
              "        text-align: right;\n",
              "    }\n",
              "</style>\n",
              "<table border=\"1\" class=\"dataframe\">\n",
              "  <thead>\n",
              "    <tr style=\"text-align: right;\">\n",
              "      <th></th>\n",
              "      <th>url</th>\n",
              "      <th>label</th>\n",
              "    </tr>\n",
              "  </thead>\n",
              "  <tbody>\n",
              "    <tr>\n",
              "      <th>count</th>\n",
              "      <td>23523</td>\n",
              "      <td>23523</td>\n",
              "    </tr>\n",
              "    <tr>\n",
              "      <th>unique</th>\n",
              "      <td>23523</td>\n",
              "      <td>2</td>\n",
              "    </tr>\n",
              "    <tr>\n",
              "      <th>top</th>\n",
              "      <td>http://mylust.com/videos/198456/svelte-nympho-...</td>\n",
              "      <td>legit</td>\n",
              "    </tr>\n",
              "    <tr>\n",
              "      <th>freq</th>\n",
              "      <td>1</td>\n",
              "      <td>17688</td>\n",
              "    </tr>\n",
              "  </tbody>\n",
              "</table>\n",
              "</div>\n",
              "    <div class=\"colab-df-buttons\">\n",
              "\n",
              "  <div class=\"colab-df-container\">\n",
              "    <button class=\"colab-df-convert\" onclick=\"convertToInteractive('df-28d4b918-5997-4493-b85c-5e79deaa8e6f')\"\n",
              "            title=\"Convert this dataframe to an interactive table.\"\n",
              "            style=\"display:none;\">\n",
              "\n",
              "  <svg xmlns=\"http://www.w3.org/2000/svg\" height=\"24px\" viewBox=\"0 -960 960 960\">\n",
              "    <path d=\"M120-120v-720h720v720H120Zm60-500h600v-160H180v160Zm220 220h160v-160H400v160Zm0 220h160v-160H400v160ZM180-400h160v-160H180v160Zm440 0h160v-160H620v160ZM180-180h160v-160H180v160Zm440 0h160v-160H620v160Z\"/>\n",
              "  </svg>\n",
              "    </button>\n",
              "\n",
              "  <style>\n",
              "    .colab-df-container {\n",
              "      display:flex;\n",
              "      gap: 12px;\n",
              "    }\n",
              "\n",
              "    .colab-df-convert {\n",
              "      background-color: #E8F0FE;\n",
              "      border: none;\n",
              "      border-radius: 50%;\n",
              "      cursor: pointer;\n",
              "      display: none;\n",
              "      fill: #1967D2;\n",
              "      height: 32px;\n",
              "      padding: 0 0 0 0;\n",
              "      width: 32px;\n",
              "    }\n",
              "\n",
              "    .colab-df-convert:hover {\n",
              "      background-color: #E2EBFA;\n",
              "      box-shadow: 0px 1px 2px rgba(60, 64, 67, 0.3), 0px 1px 3px 1px rgba(60, 64, 67, 0.15);\n",
              "      fill: #174EA6;\n",
              "    }\n",
              "\n",
              "    .colab-df-buttons div {\n",
              "      margin-bottom: 4px;\n",
              "    }\n",
              "\n",
              "    [theme=dark] .colab-df-convert {\n",
              "      background-color: #3B4455;\n",
              "      fill: #D2E3FC;\n",
              "    }\n",
              "\n",
              "    [theme=dark] .colab-df-convert:hover {\n",
              "      background-color: #434B5C;\n",
              "      box-shadow: 0px 1px 3px 1px rgba(0, 0, 0, 0.15);\n",
              "      filter: drop-shadow(0px 1px 2px rgba(0, 0, 0, 0.3));\n",
              "      fill: #FFFFFF;\n",
              "    }\n",
              "  </style>\n",
              "\n",
              "    <script>\n",
              "      const buttonEl =\n",
              "        document.querySelector('#df-28d4b918-5997-4493-b85c-5e79deaa8e6f button.colab-df-convert');\n",
              "      buttonEl.style.display =\n",
              "        google.colab.kernel.accessAllowed ? 'block' : 'none';\n",
              "\n",
              "      async function convertToInteractive(key) {\n",
              "        const element = document.querySelector('#df-28d4b918-5997-4493-b85c-5e79deaa8e6f');\n",
              "        const dataTable =\n",
              "          await google.colab.kernel.invokeFunction('convertToInteractive',\n",
              "                                                    [key], {});\n",
              "        if (!dataTable) return;\n",
              "\n",
              "        const docLinkHtml = 'Like what you see? Visit the ' +\n",
              "          '<a target=\"_blank\" href=https://colab.research.google.com/notebooks/data_table.ipynb>data table notebook</a>'\n",
              "          + ' to learn more about interactive tables.';\n",
              "        element.innerHTML = '';\n",
              "        dataTable['output_type'] = 'display_data';\n",
              "        await google.colab.output.renderOutput(dataTable, element);\n",
              "        const docLink = document.createElement('div');\n",
              "        docLink.innerHTML = docLinkHtml;\n",
              "        element.appendChild(docLink);\n",
              "      }\n",
              "    </script>\n",
              "  </div>\n",
              "\n",
              "\n",
              "<div id=\"df-037eff2f-5473-4a76-9b40-f2b8456c3985\">\n",
              "  <button class=\"colab-df-quickchart\" onclick=\"quickchart('df-037eff2f-5473-4a76-9b40-f2b8456c3985')\"\n",
              "            title=\"Suggest charts\"\n",
              "            style=\"display:none;\">\n",
              "\n",
              "<svg xmlns=\"http://www.w3.org/2000/svg\" height=\"24px\"viewBox=\"0 0 24 24\"\n",
              "     width=\"24px\">\n",
              "    <g>\n",
              "        <path d=\"M19 3H5c-1.1 0-2 .9-2 2v14c0 1.1.9 2 2 2h14c1.1 0 2-.9 2-2V5c0-1.1-.9-2-2-2zM9 17H7v-7h2v7zm4 0h-2V7h2v10zm4 0h-2v-4h2v4z\"/>\n",
              "    </g>\n",
              "</svg>\n",
              "  </button>\n",
              "\n",
              "<style>\n",
              "  .colab-df-quickchart {\n",
              "      --bg-color: #E8F0FE;\n",
              "      --fill-color: #1967D2;\n",
              "      --hover-bg-color: #E2EBFA;\n",
              "      --hover-fill-color: #174EA6;\n",
              "      --disabled-fill-color: #AAA;\n",
              "      --disabled-bg-color: #DDD;\n",
              "  }\n",
              "\n",
              "  [theme=dark] .colab-df-quickchart {\n",
              "      --bg-color: #3B4455;\n",
              "      --fill-color: #D2E3FC;\n",
              "      --hover-bg-color: #434B5C;\n",
              "      --hover-fill-color: #FFFFFF;\n",
              "      --disabled-bg-color: #3B4455;\n",
              "      --disabled-fill-color: #666;\n",
              "  }\n",
              "\n",
              "  .colab-df-quickchart {\n",
              "    background-color: var(--bg-color);\n",
              "    border: none;\n",
              "    border-radius: 50%;\n",
              "    cursor: pointer;\n",
              "    display: none;\n",
              "    fill: var(--fill-color);\n",
              "    height: 32px;\n",
              "    padding: 0;\n",
              "    width: 32px;\n",
              "  }\n",
              "\n",
              "  .colab-df-quickchart:hover {\n",
              "    background-color: var(--hover-bg-color);\n",
              "    box-shadow: 0 1px 2px rgba(60, 64, 67, 0.3), 0 1px 3px 1px rgba(60, 64, 67, 0.15);\n",
              "    fill: var(--button-hover-fill-color);\n",
              "  }\n",
              "\n",
              "  .colab-df-quickchart-complete:disabled,\n",
              "  .colab-df-quickchart-complete:disabled:hover {\n",
              "    background-color: var(--disabled-bg-color);\n",
              "    fill: var(--disabled-fill-color);\n",
              "    box-shadow: none;\n",
              "  }\n",
              "\n",
              "  .colab-df-spinner {\n",
              "    border: 2px solid var(--fill-color);\n",
              "    border-color: transparent;\n",
              "    border-bottom-color: var(--fill-color);\n",
              "    animation:\n",
              "      spin 1s steps(1) infinite;\n",
              "  }\n",
              "\n",
              "  @keyframes spin {\n",
              "    0% {\n",
              "      border-color: transparent;\n",
              "      border-bottom-color: var(--fill-color);\n",
              "      border-left-color: var(--fill-color);\n",
              "    }\n",
              "    20% {\n",
              "      border-color: transparent;\n",
              "      border-left-color: var(--fill-color);\n",
              "      border-top-color: var(--fill-color);\n",
              "    }\n",
              "    30% {\n",
              "      border-color: transparent;\n",
              "      border-left-color: var(--fill-color);\n",
              "      border-top-color: var(--fill-color);\n",
              "      border-right-color: var(--fill-color);\n",
              "    }\n",
              "    40% {\n",
              "      border-color: transparent;\n",
              "      border-right-color: var(--fill-color);\n",
              "      border-top-color: var(--fill-color);\n",
              "    }\n",
              "    60% {\n",
              "      border-color: transparent;\n",
              "      border-right-color: var(--fill-color);\n",
              "    }\n",
              "    80% {\n",
              "      border-color: transparent;\n",
              "      border-right-color: var(--fill-color);\n",
              "      border-bottom-color: var(--fill-color);\n",
              "    }\n",
              "    90% {\n",
              "      border-color: transparent;\n",
              "      border-bottom-color: var(--fill-color);\n",
              "    }\n",
              "  }\n",
              "</style>\n",
              "\n",
              "  <script>\n",
              "    async function quickchart(key) {\n",
              "      const quickchartButtonEl =\n",
              "        document.querySelector('#' + key + ' button');\n",
              "      quickchartButtonEl.disabled = true;  // To prevent multiple clicks.\n",
              "      quickchartButtonEl.classList.add('colab-df-spinner');\n",
              "      try {\n",
              "        const charts = await google.colab.kernel.invokeFunction(\n",
              "            'suggestCharts', [key], {});\n",
              "      } catch (error) {\n",
              "        console.error('Error during call to suggestCharts:', error);\n",
              "      }\n",
              "      quickchartButtonEl.classList.remove('colab-df-spinner');\n",
              "      quickchartButtonEl.classList.add('colab-df-quickchart-complete');\n",
              "    }\n",
              "    (() => {\n",
              "      let quickchartButtonEl =\n",
              "        document.querySelector('#df-037eff2f-5473-4a76-9b40-f2b8456c3985 button');\n",
              "      quickchartButtonEl.style.display =\n",
              "        google.colab.kernel.accessAllowed ? 'block' : 'none';\n",
              "    })();\n",
              "  </script>\n",
              "</div>\n",
              "    </div>\n",
              "  </div>\n"
            ]
          },
          "metadata": {},
          "execution_count": 16
        }
      ],
      "source": [
        "# Affiche les statistiques descriptives du DataFrame df_phish\n",
        "df_phish.describe()"
      ],
      "id": "7cb495b4-5cca-4845-a554-bbbbe87ce155"
    },
    {
      "cell_type": "code",
      "execution_count": null,
      "metadata": {
        "colab": {
          "base_uri": "https://localhost:8080/",
          "height": 474
        },
        "id": "19b74dec-5f30-4d06-9310-71ef5f24ca17",
        "outputId": "41049635-c73b-410e-e330-9dd20db3db6f"
      },
      "outputs": [
        {
          "output_type": "display_data",
          "data": {
            "text/plain": [
              "<Figure size 640x480 with 1 Axes>"
            ],
            "image/png": "[encoded data removed]"
          },
          "metadata": {}
        }
      ],
      "source": [
        "# Extraction de la colonne des étiquettes du DataFrame\n",
        "labels = df_phish.label\n",
        "\n",
        "# Création d'un nouveau DataFrame à partir de la colonne des étiquettes\n",
        "labels = pd.DataFrame(labels)\n",
        "\n",
        "# Calcul de la fréquence et du pourcentage des différentes étiquettes\n",
        "labels_count = labels[\"label\"].value_counts()\n",
        "labels_percentage = labels_count / len(labels) * 100\n",
        "\n",
        "# Affichage de la fréquence des étiquettes sous forme de diagramme à barres avec le pourcentage\n",
        "fig, ax = plt.subplots()\n",
        "bars = ax.bar(labels_count.index, labels_count.values, color=['green', 'red'])\n",
        "\n",
        "# Ajout des étiquettes de pourcentage au-dessus des barres\n",
        "for bar, percentage in zip(bars, labels_percentage):\n",
        "    height = bar.get_height()\n",
        "    ax.text(bar.get_x() + bar.get_width() / 2, height, f'{percentage:.2f}%',\n",
        "            ha='center', va='bottom', fontsize=10, color='black')\n",
        "\n",
        "# Configuration du diagramme\n",
        "ax.set_xlabel(\"Label\")  # Axe des x : Étiquettes\n",
        "ax.set_ylabel(\"Fréquences\")  # Axe des y : Fréquences\n",
        "ax.set_title(\"Fréquence des Étiquettes dans le Jeu de Données\")  # Titre du diagramme\n",
        "plt.show()"
      ],
      "id": "19b74dec-5f30-4d06-9310-71ef5f24ca17"
    },
    {
      "cell_type": "markdown",
      "source": [
        "### Remplacer les étiquettes"
      ],
      "metadata": {
        "id": "EvTrvxEI7fM5"
      },
      "id": "EvTrvxEI7fM5"
    },
    {
      "cell_type": "code",
      "source": [
        "# legit: 0 et fishing: 1\n",
        "df_phish.replace({'legit':0, 'fishing':1}, inplace=True)"
      ],
      "metadata": {
        "id": "X14lG6FU7LQw"
      },
      "id": "X14lG6FU7LQw",
      "execution_count": null,
      "outputs": []
    },
    {
      "cell_type": "markdown",
      "metadata": {
        "id": "34f3fc41-2391-4397-91f1-f7fa68b1fea0"
      },
      "source": [
        "# Prétraitement"
      ],
      "id": "34f3fc41-2391-4397-91f1-f7fa68b1fea0"
    },
    {
      "cell_type": "code",
      "source": [
        "import nltk\n",
        "from nltk.tokenize import RegexpTokenizer\n",
        "from nltk.stem import SnowballStemmer\n",
        "from nltk.corpus import stopwords\n",
        "from sklearn.feature_extraction.text import TfidfVectorizer\n",
        "\n",
        "# Télécharger les stopwords\n",
        "nltk.download('stopwords')"
      ],
      "metadata": {
        "id": "XRSWvVpVUIZJ",
        "colab": {
          "base_uri": "https://localhost:8080/"
        },
        "outputId": "ff64d6a7-eac7-406c-83cd-b9b09c64b9e5"
      },
      "id": "XRSWvVpVUIZJ",
      "execution_count": null,
      "outputs": [
        {
          "output_type": "stream",
          "name": "stderr",
          "text": [
            "[nltk_data] Downloading package stopwords to /root/nltk_data...\n",
            "[nltk_data]   Package stopwords is already up-to-date!\n"
          ]
        },
        {
          "output_type": "execute_result",
          "data": {
            "text/plain": [
              "True"
            ]
          },
          "metadata": {},
          "execution_count": 19
        }
      ]
    },
    {
      "cell_type": "markdown",
      "source": [
        "La fonction `preprocess_initial` effectue la tokenization et la racinisation initiales sur une URL. Elle utilise un tokenizer pour diviser l'URL en mots, un stemmer pour réduire les mots à leur racine, et elle supprime ensuite les stopwords spécifiques aux URL. Enfin, elle concatène les mots résultants pour former une version traitée de l'URL."
      ],
      "metadata": {
        "id": "t7U-uwddnrbI"
      },
      "id": "t7U-uwddnrbI"
    },
    {
      "cell_type": "code",
      "source": [
        "def preprocess_initial(url):\n",
        "    \"\"\"\n",
        "    Fonction pour effectuer la tokenization et la racinisation initiales sur une URL.\n",
        "\n",
        "    Parameters:\n",
        "    - url: URL à traiter.\n",
        "\n",
        "    Returns:\n",
        "    - Texte tokenisé et racinisé.\n",
        "    \"\"\"\n",
        "\n",
        "    # Créer le tokenizer\n",
        "    tokenizer = RegexpTokenizer(r'[A-Za-z]+')\n",
        "\n",
        "    # Appliquer la tokenization à l'URL\n",
        "    text_tokenise = tokenizer.tokenize(url)\n",
        "\n",
        "    # Créer le stemmer\n",
        "    stemmer = SnowballStemmer(\"english\")\n",
        "\n",
        "    # Appliquer la racinisation à l'URL\n",
        "    text_stemmed = [stemmer.stem(word) for word in text_tokenise]\n",
        "\n",
        "    # Enlever les stopwords spécifiques aux URL\n",
        "    url_specific_stopwords = set(stopwords.words('english') + ['www', 'http', 'https', 'com', 'org', 'net', 'html', 'php','cf', 'ipf'])\n",
        "    text_stemmed = [word for word in text_stemmed if word.lower() not in url_specific_stopwords]\n",
        "\n",
        "    # Appliquer la concaténation\n",
        "    text_sent = ' '.join(text_stemmed)\n",
        "\n",
        "    return text_sent"
      ],
      "metadata": {
        "id": "zLp1UhkCUM23"
      },
      "id": "zLp1UhkCUM23",
      "execution_count": null,
      "outputs": []
    },
    {
      "cell_type": "markdown",
      "source": [
        "Le code ci-dessous crée un nouveau DataFrame appelé `df_phish_processed` et y ajoute les colonnes 'url' et 'label' du DataFrame d'origine `df_phish`. Ensuite, il applique la fonction `preprocess_initial` à la colonne 'url' du DataFrame d'origine pour créer une nouvelle colonne 'text_sent' dans le DataFrame `df_phish_processed`, qui contient les URLs prétraitées."
      ],
      "metadata": {
        "id": "LclW60p6ofFp"
      },
      "id": "LclW60p6ofFp"
    },
    {
      "cell_type": "code",
      "source": [
        "# Créez un nouveau DataFrame vide\n",
        "df_phish_processed = pd.DataFrame()\n",
        "\n",
        "# Ajoutez la colonne 'url' à partir de notre DataFrame d'origine\n",
        "df_phish_processed['url'] = df_phish['url']\n",
        "\n",
        "# Ajoutez la colonne 'label' à partir de votre DataFrame d'origine\n",
        "df_phish_processed['label'] = df_phish['label']\n",
        "\n",
        "# Appliquez la fonction preprocess_initial à la colonne 'url' pour créer la nouvelle colonne 'text_sent'\n",
        "df_phish_processed['text_sent'] = df_phish['url'].apply(preprocess_initial)"
      ],
      "metadata": {
        "id": "j6QYZmGrsmE8"
      },
      "id": "j6QYZmGrsmE8",
      "execution_count": null,
      "outputs": []
    },
    {
      "cell_type": "code",
      "source": [
        "# afficher les cinq premières lignes du DataFrame df_phish_processed.\n",
        "df_phish_processed.head(5)"
      ],
      "metadata": {
        "colab": {
          "base_uri": "https://localhost:8080/",
          "height": 206
        },
        "id": "aI5N__YHt7Cc",
        "outputId": "d2849f2f-c2c9-40b8-9e3e-550ad361ee09"
      },
      "id": "aI5N__YHt7Cc",
      "execution_count": null,
      "outputs": [
        {
          "output_type": "execute_result",
          "data": {
            "text/plain": [
              "                                                 url  label  \\\n",
              "0  http://mylust.com/videos/198456/svelte-nympho-...      0   \n",
              "1  http://serverfault.com/questions/676825/basic-...      0   \n",
              "2  http://otomoto.pl/osobowe/bmw/seria-3/e36-1990...      0   \n",
              "3  http://motthegioi.vn/khoa-hoc-giao-duc/du-hoc/...      0   \n",
              "4        https://att-yahoo-mail-2023.weeblysite.com/      1   \n",
              "\n",
              "                                           text_sent  \n",
              "0  mylust video svelt nympho ride lover prick fav...  \n",
              "1  serverfault question basic ncsa authent workl ...  \n",
              "2  otomoto pl osobow bmw seria e sportowi coup ew...  \n",
              "3  motthegioi vn khoa hoc giao duc du hoc nhung d...  \n",
              "4                           att yahoo mail weeblysit  "
            ],
            "text/html": [
              "\n",
              "  <div id=\"df-37ed0bfa-b9de-4113-b8cb-9848b4e6b5b9\" class=\"colab-df-container\">\n",
              "    <div>\n",
              "<style scoped>\n",
              "    .dataframe tbody tr th:only-of-type {\n",
              "        vertical-align: middle;\n",
              "    }\n",
              "\n",
              "    .dataframe tbody tr th {\n",
              "        vertical-align: top;\n",
              "    }\n",
              "\n",
              "    .dataframe thead th {\n",
              "        text-align: right;\n",
              "    }\n",
              "</style>\n",
              "<table border=\"1\" class=\"dataframe\">\n",
              "  <thead>\n",
              "    <tr style=\"text-align: right;\">\n",
              "      <th></th>\n",
              "      <th>url</th>\n",
              "      <th>label</th>\n",
              "      <th>text_sent</th>\n",
              "    </tr>\n",
              "  </thead>\n",
              "  <tbody>\n",
              "    <tr>\n",
              "      <th>0</th>\n",
              "      <td>http://mylust.com/videos/198456/svelte-nympho-...</td>\n",
              "      <td>0</td>\n",
              "      <td>mylust video svelt nympho ride lover prick fav...</td>\n",
              "    </tr>\n",
              "    <tr>\n",
              "      <th>1</th>\n",
              "      <td>http://serverfault.com/questions/676825/basic-...</td>\n",
              "      <td>0</td>\n",
              "      <td>serverfault question basic ncsa authent workl ...</td>\n",
              "    </tr>\n",
              "    <tr>\n",
              "      <th>2</th>\n",
              "      <td>http://otomoto.pl/osobowe/bmw/seria-3/e36-1990...</td>\n",
              "      <td>0</td>\n",
              "      <td>otomoto pl osobow bmw seria e sportowi coup ew...</td>\n",
              "    </tr>\n",
              "    <tr>\n",
              "      <th>3</th>\n",
              "      <td>http://motthegioi.vn/khoa-hoc-giao-duc/du-hoc/...</td>\n",
              "      <td>0</td>\n",
              "      <td>motthegioi vn khoa hoc giao duc du hoc nhung d...</td>\n",
              "    </tr>\n",
              "    <tr>\n",
              "      <th>4</th>\n",
              "      <td>https://att-yahoo-mail-2023.weeblysite.com/</td>\n",
              "      <td>1</td>\n",
              "      <td>att yahoo mail weeblysit</td>\n",
              "    </tr>\n",
              "  </tbody>\n",
              "</table>\n",
              "</div>\n",
              "    <div class=\"colab-df-buttons\">\n",
              "\n",
              "  <div class=\"colab-df-container\">\n",
              "    <button class=\"colab-df-convert\" onclick=\"convertToInteractive('df-37ed0bfa-b9de-4113-b8cb-9848b4e6b5b9')\"\n",
              "            title=\"Convert this dataframe to an interactive table.\"\n",
              "            style=\"display:none;\">\n",
              "\n",
              "  <svg xmlns=\"http://www.w3.org/2000/svg\" height=\"24px\" viewBox=\"0 -960 960 960\">\n",
              "    <path d=\"M120-120v-720h720v720H120Zm60-500h600v-160H180v160Zm220 220h160v-160H400v160Zm0 220h160v-160H400v160ZM180-400h160v-160H180v160Zm440 0h160v-160H620v160ZM180-180h160v-160H180v160Zm440 0h160v-160H620v160Z\"/>\n",
              "  </svg>\n",
              "    </button>\n",
              "\n",
              "  <style>\n",
              "    .colab-df-container {\n",
              "      display:flex;\n",
              "      gap: 12px;\n",
              "    }\n",
              "\n",
              "    .colab-df-convert {\n",
              "      background-color: #E8F0FE;\n",
              "      border: none;\n",
              "      border-radius: 50%;\n",
              "      cursor: pointer;\n",
              "      display: none;\n",
              "      fill: #1967D2;\n",
              "      height: 32px;\n",
              "      padding: 0 0 0 0;\n",
              "      width: 32px;\n",
              "    }\n",
              "\n",
              "    .colab-df-convert:hover {\n",
              "      background-color: #E2EBFA;\n",
              "      box-shadow: 0px 1px 2px rgba(60, 64, 67, 0.3), 0px 1px 3px 1px rgba(60, 64, 67, 0.15);\n",
              "      fill: #174EA6;\n",
              "    }\n",
              "\n",
              "    .colab-df-buttons div {\n",
              "      margin-bottom: 4px;\n",
              "    }\n",
              "\n",
              "    [theme=dark] .colab-df-convert {\n",
              "      background-color: #3B4455;\n",
              "      fill: #D2E3FC;\n",
              "    }\n",
              "\n",
              "    [theme=dark] .colab-df-convert:hover {\n",
              "      background-color: #434B5C;\n",
              "      box-shadow: 0px 1px 3px 1px rgba(0, 0, 0, 0.15);\n",
              "      filter: drop-shadow(0px 1px 2px rgba(0, 0, 0, 0.3));\n",
              "      fill: #FFFFFF;\n",
              "    }\n",
              "  </style>\n",
              "\n",
              "    <script>\n",
              "      const buttonEl =\n",
              "        document.querySelector('#df-37ed0bfa-b9de-4113-b8cb-9848b4e6b5b9 button.colab-df-convert');\n",
              "      buttonEl.style.display =\n",
              "        google.colab.kernel.accessAllowed ? 'block' : 'none';\n",
              "\n",
              "      async function convertToInteractive(key) {\n",
              "        const element = document.querySelector('#df-37ed0bfa-b9de-4113-b8cb-9848b4e6b5b9');\n",
              "        const dataTable =\n",
              "          await google.colab.kernel.invokeFunction('convertToInteractive',\n",
              "                                                    [key], {});\n",
              "        if (!dataTable) return;\n",
              "\n",
              "        const docLinkHtml = 'Like what you see? Visit the ' +\n",
              "          '<a target=\"_blank\" href=https://colab.research.google.com/notebooks/data_table.ipynb>data table notebook</a>'\n",
              "          + ' to learn more about interactive tables.';\n",
              "        element.innerHTML = '';\n",
              "        dataTable['output_type'] = 'display_data';\n",
              "        await google.colab.output.renderOutput(dataTable, element);\n",
              "        const docLink = document.createElement('div');\n",
              "        docLink.innerHTML = docLinkHtml;\n",
              "        element.appendChild(docLink);\n",
              "      }\n",
              "    </script>\n",
              "  </div>\n",
              "\n",
              "\n",
              "<div id=\"df-858c5991-552d-447d-8aed-c0cd136527e5\">\n",
              "  <button class=\"colab-df-quickchart\" onclick=\"quickchart('df-858c5991-552d-447d-8aed-c0cd136527e5')\"\n",
              "            title=\"Suggest charts\"\n",
              "            style=\"display:none;\">\n",
              "\n",
              "<svg xmlns=\"http://www.w3.org/2000/svg\" height=\"24px\"viewBox=\"0 0 24 24\"\n",
              "     width=\"24px\">\n",
              "    <g>\n",
              "        <path d=\"M19 3H5c-1.1 0-2 .9-2 2v14c0 1.1.9 2 2 2h14c1.1 0 2-.9 2-2V5c0-1.1-.9-2-2-2zM9 17H7v-7h2v7zm4 0h-2V7h2v10zm4 0h-2v-4h2v4z\"/>\n",
              "    </g>\n",
              "</svg>\n",
              "  </button>\n",
              "\n",
              "<style>\n",
              "  .colab-df-quickchart {\n",
              "      --bg-color: #E8F0FE;\n",
              "      --fill-color: #1967D2;\n",
              "      --hover-bg-color: #E2EBFA;\n",
              "      --hover-fill-color: #174EA6;\n",
              "      --disabled-fill-color: #AAA;\n",
              "      --disabled-bg-color: #DDD;\n",
              "  }\n",
              "\n",
              "  [theme=dark] .colab-df-quickchart {\n",
              "      --bg-color: #3B4455;\n",
              "      --fill-color: #D2E3FC;\n",
              "      --hover-bg-color: #434B5C;\n",
              "      --hover-fill-color: #FFFFFF;\n",
              "      --disabled-bg-color: #3B4455;\n",
              "      --disabled-fill-color: #666;\n",
              "  }\n",
              "\n",
              "  .colab-df-quickchart {\n",
              "    background-color: var(--bg-color);\n",
              "    border: none;\n",
              "    border-radius: 50%;\n",
              "    cursor: pointer;\n",
              "    display: none;\n",
              "    fill: var(--fill-color);\n",
              "    height: 32px;\n",
              "    padding: 0;\n",
              "    width: 32px;\n",
              "  }\n",
              "\n",
              "  .colab-df-quickchart:hover {\n",
              "    background-color: var(--hover-bg-color);\n",
              "    box-shadow: 0 1px 2px rgba(60, 64, 67, 0.3), 0 1px 3px 1px rgba(60, 64, 67, 0.15);\n",
              "    fill: var(--button-hover-fill-color);\n",
              "  }\n",
              "\n",
              "  .colab-df-quickchart-complete:disabled,\n",
              "  .colab-df-quickchart-complete:disabled:hover {\n",
              "    background-color: var(--disabled-bg-color);\n",
              "    fill: var(--disabled-fill-color);\n",
              "    box-shadow: none;\n",
              "  }\n",
              "\n",
              "  .colab-df-spinner {\n",
              "    border: 2px solid var(--fill-color);\n",
              "    border-color: transparent;\n",
              "    border-bottom-color: var(--fill-color);\n",
              "    animation:\n",
              "      spin 1s steps(1) infinite;\n",
              "  }\n",
              "\n",
              "  @keyframes spin {\n",
              "    0% {\n",
              "      border-color: transparent;\n",
              "      border-bottom-color: var(--fill-color);\n",
              "      border-left-color: var(--fill-color);\n",
              "    }\n",
              "    20% {\n",
              "      border-color: transparent;\n",
              "      border-left-color: var(--fill-color);\n",
              "      border-top-color: var(--fill-color);\n",
              "    }\n",
              "    30% {\n",
              "      border-color: transparent;\n",
              "      border-left-color: var(--fill-color);\n",
              "      border-top-color: var(--fill-color);\n",
              "      border-right-color: var(--fill-color);\n",
              "    }\n",
              "    40% {\n",
              "      border-color: transparent;\n",
              "      border-right-color: var(--fill-color);\n",
              "      border-top-color: var(--fill-color);\n",
              "    }\n",
              "    60% {\n",
              "      border-color: transparent;\n",
              "      border-right-color: var(--fill-color);\n",
              "    }\n",
              "    80% {\n",
              "      border-color: transparent;\n",
              "      border-right-color: var(--fill-color);\n",
              "      border-bottom-color: var(--fill-color);\n",
              "    }\n",
              "    90% {\n",
              "      border-color: transparent;\n",
              "      border-bottom-color: var(--fill-color);\n",
              "    }\n",
              "  }\n",
              "</style>\n",
              "\n",
              "  <script>\n",
              "    async function quickchart(key) {\n",
              "      const quickchartButtonEl =\n",
              "        document.querySelector('#' + key + ' button');\n",
              "      quickchartButtonEl.disabled = true;  // To prevent multiple clicks.\n",
              "      quickchartButtonEl.classList.add('colab-df-spinner');\n",
              "      try {\n",
              "        const charts = await google.colab.kernel.invokeFunction(\n",
              "            'suggestCharts', [key], {});\n",
              "      } catch (error) {\n",
              "        console.error('Error during call to suggestCharts:', error);\n",
              "      }\n",
              "      quickchartButtonEl.classList.remove('colab-df-spinner');\n",
              "      quickchartButtonEl.classList.add('colab-df-quickchart-complete');\n",
              "    }\n",
              "    (() => {\n",
              "      let quickchartButtonEl =\n",
              "        document.querySelector('#df-858c5991-552d-447d-8aed-c0cd136527e5 button');\n",
              "      quickchartButtonEl.style.display =\n",
              "        google.colab.kernel.accessAllowed ? 'block' : 'none';\n",
              "    })();\n",
              "  </script>\n",
              "</div>\n",
              "    </div>\n",
              "  </div>\n"
            ]
          },
          "metadata": {},
          "execution_count": 23
        }
      ]
    },
    {
      "cell_type": "markdown",
      "source": [
        "Regardons si nous avons le résulat escompté"
      ],
      "metadata": {
        "id": "MdacYcHHsK1Z"
      },
      "id": "MdacYcHHsK1Z"
    },
    {
      "cell_type": "code",
      "source": [
        "df_phish['url'].head(3)"
      ],
      "metadata": {
        "colab": {
          "base_uri": "https://localhost:8080/"
        },
        "id": "W1qpEuXQunV4",
        "outputId": "3505497c-1504-426b-d4ea-427701e639ab"
      },
      "id": "W1qpEuXQunV4",
      "execution_count": null,
      "outputs": [
        {
          "output_type": "execute_result",
          "data": {
            "text/plain": [
              "0    http://mylust.com/videos/198456/svelte-nympho-...\n",
              "1    http://serverfault.com/questions/676825/basic-...\n",
              "2    http://otomoto.pl/osobowe/bmw/seria-3/e36-1990...\n",
              "Name: url, dtype: object"
            ]
          },
          "metadata": {},
          "execution_count": 24
        }
      ]
    },
    {
      "cell_type": "code",
      "source": [
        "df_phish_processed['text_sent'].head(3)"
      ],
      "metadata": {
        "colab": {
          "base_uri": "https://localhost:8080/"
        },
        "id": "sAVWEOyXuMuV",
        "outputId": "992c3031-6c4a-4f5f-89ef-4cf1ba058b26"
      },
      "id": "sAVWEOyXuMuV",
      "execution_count": null,
      "outputs": [
        {
          "output_type": "execute_result",
          "data": {
            "text/plain": [
              "0    mylust video svelt nympho ride lover prick fav...\n",
              "1    serverfault question basic ncsa authent workl ...\n",
              "2    otomoto pl osobow bmw seria e sportowi coup ew...\n",
              "Name: text_sent, dtype: object"
            ]
          },
          "metadata": {},
          "execution_count": 25
        }
      ]
    },
    {
      "cell_type": "markdown",
      "source": [
        "crée un nouveau DataFrame appelé bad_sites, qui contient uniquement les lignes du DataFrame original df_phish_processed où la colonne 'label' a la valeur 1.\n",
        "Cela sera utile pour la visualisation de nos URLs pretraitées, voir s'il n'y pas de stopwords"
      ],
      "metadata": {
        "id": "yZ1ApYM7svMx"
      },
      "id": "yZ1ApYM7svMx"
    },
    {
      "cell_type": "code",
      "source": [
        "bad_sites = df_phish_processed[df_phish_processed.label == 1]"
      ],
      "metadata": {
        "id": "TNBxMaFvu2_M"
      },
      "id": "TNBxMaFvu2_M",
      "execution_count": null,
      "outputs": []
    },
    {
      "cell_type": "code",
      "source": [
        "bad_sites.head(3)"
      ],
      "metadata": {
        "colab": {
          "base_uri": "https://localhost:8080/",
          "height": 143
        },
        "id": "b3cgJv9RvXSO",
        "outputId": "f362f0f7-4bf7-4125-95d8-026bcdc4b4d4"
      },
      "id": "b3cgJv9RvXSO",
      "execution_count": null,
      "outputs": [
        {
          "output_type": "execute_result",
          "data": {
            "text/plain": [
              "                                                  url  label  \\\n",
              "4         https://att-yahoo-mail-2023.weeblysite.com/      1   \n",
              "8   https://new.express.adobe.com/webpage/kz4V6Dar...      1   \n",
              "14  http://vpn287980672.softether.net/~pc119/ANZ/a...      1   \n",
              "\n",
              "                                    text_sent  \n",
              "4                    att yahoo mail weeblysit  \n",
              "8       new express adob webpag kz v darbjh v  \n",
              "14  vpn softeth pc anz apib anzapinetbank htm  "
            ],
            "text/html": [
              "\n",
              "  <div id=\"df-e5ff714f-86d2-46d0-856c-de2e9fde3170\" class=\"colab-df-container\">\n",
              "    <div>\n",
              "<style scoped>\n",
              "    .dataframe tbody tr th:only-of-type {\n",
              "        vertical-align: middle;\n",
              "    }\n",
              "\n",
              "    .dataframe tbody tr th {\n",
              "        vertical-align: top;\n",
              "    }\n",
              "\n",
              "    .dataframe thead th {\n",
              "        text-align: right;\n",
              "    }\n",
              "</style>\n",
              "<table border=\"1\" class=\"dataframe\">\n",
              "  <thead>\n",
              "    <tr style=\"text-align: right;\">\n",
              "      <th></th>\n",
              "      <th>url</th>\n",
              "      <th>label</th>\n",
              "      <th>text_sent</th>\n",
              "    </tr>\n",
              "  </thead>\n",
              "  <tbody>\n",
              "    <tr>\n",
              "      <th>4</th>\n",
              "      <td>https://att-yahoo-mail-2023.weeblysite.com/</td>\n",
              "      <td>1</td>\n",
              "      <td>att yahoo mail weeblysit</td>\n",
              "    </tr>\n",
              "    <tr>\n",
              "      <th>8</th>\n",
              "      <td>https://new.express.adobe.com/webpage/kz4V6Dar...</td>\n",
              "      <td>1</td>\n",
              "      <td>new express adob webpag kz v darbjh v</td>\n",
              "    </tr>\n",
              "    <tr>\n",
              "      <th>14</th>\n",
              "      <td>http://vpn287980672.softether.net/~pc119/ANZ/a...</td>\n",
              "      <td>1</td>\n",
              "      <td>vpn softeth pc anz apib anzapinetbank htm</td>\n",
              "    </tr>\n",
              "  </tbody>\n",
              "</table>\n",
              "</div>\n",
              "    <div class=\"colab-df-buttons\">\n",
              "\n",
              "  <div class=\"colab-df-container\">\n",
              "    <button class=\"colab-df-convert\" onclick=\"convertToInteractive('df-e5ff714f-86d2-46d0-856c-de2e9fde3170')\"\n",
              "            title=\"Convert this dataframe to an interactive table.\"\n",
              "            style=\"display:none;\">\n",
              "\n",
              "  <svg xmlns=\"http://www.w3.org/2000/svg\" height=\"24px\" viewBox=\"0 -960 960 960\">\n",
              "    <path d=\"M120-120v-720h720v720H120Zm60-500h600v-160H180v160Zm220 220h160v-160H400v160Zm0 220h160v-160H400v160ZM180-400h160v-160H180v160Zm440 0h160v-160H620v160ZM180-180h160v-160H180v160Zm440 0h160v-160H620v160Z\"/>\n",
              "  </svg>\n",
              "    </button>\n",
              "\n",
              "  <style>\n",
              "    .colab-df-container {\n",
              "      display:flex;\n",
              "      gap: 12px;\n",
              "    }\n",
              "\n",
              "    .colab-df-convert {\n",
              "      background-color: #E8F0FE;\n",
              "      border: none;\n",
              "      border-radius: 50%;\n",
              "      cursor: pointer;\n",
              "      display: none;\n",
              "      fill: #1967D2;\n",
              "      height: 32px;\n",
              "      padding: 0 0 0 0;\n",
              "      width: 32px;\n",
              "    }\n",
              "\n",
              "    .colab-df-convert:hover {\n",
              "      background-color: #E2EBFA;\n",
              "      box-shadow: 0px 1px 2px rgba(60, 64, 67, 0.3), 0px 1px 3px 1px rgba(60, 64, 67, 0.15);\n",
              "      fill: #174EA6;\n",
              "    }\n",
              "\n",
              "    .colab-df-buttons div {\n",
              "      margin-bottom: 4px;\n",
              "    }\n",
              "\n",
              "    [theme=dark] .colab-df-convert {\n",
              "      background-color: #3B4455;\n",
              "      fill: #D2E3FC;\n",
              "    }\n",
              "\n",
              "    [theme=dark] .colab-df-convert:hover {\n",
              "      background-color: #434B5C;\n",
              "      box-shadow: 0px 1px 3px 1px rgba(0, 0, 0, 0.15);\n",
              "      filter: drop-shadow(0px 1px 2px rgba(0, 0, 0, 0.3));\n",
              "      fill: #FFFFFF;\n",
              "    }\n",
              "  </style>\n",
              "\n",
              "    <script>\n",
              "      const buttonEl =\n",
              "        document.querySelector('#df-e5ff714f-86d2-46d0-856c-de2e9fde3170 button.colab-df-convert');\n",
              "      buttonEl.style.display =\n",
              "        google.colab.kernel.accessAllowed ? 'block' : 'none';\n",
              "\n",
              "      async function convertToInteractive(key) {\n",
              "        const element = document.querySelector('#df-e5ff714f-86d2-46d0-856c-de2e9fde3170');\n",
              "        const dataTable =\n",
              "          await google.colab.kernel.invokeFunction('convertToInteractive',\n",
              "                                                    [key], {});\n",
              "        if (!dataTable) return;\n",
              "\n",
              "        const docLinkHtml = 'Like what you see? Visit the ' +\n",
              "          '<a target=\"_blank\" href=https://colab.research.google.com/notebooks/data_table.ipynb>data table notebook</a>'\n",
              "          + ' to learn more about interactive tables.';\n",
              "        element.innerHTML = '';\n",
              "        dataTable['output_type'] = 'display_data';\n",
              "        await google.colab.output.renderOutput(dataTable, element);\n",
              "        const docLink = document.createElement('div');\n",
              "        docLink.innerHTML = docLinkHtml;\n",
              "        element.appendChild(docLink);\n",
              "      }\n",
              "    </script>\n",
              "  </div>\n",
              "\n",
              "\n",
              "<div id=\"df-26284f87-45a3-429b-b726-d5e7417d483f\">\n",
              "  <button class=\"colab-df-quickchart\" onclick=\"quickchart('df-26284f87-45a3-429b-b726-d5e7417d483f')\"\n",
              "            title=\"Suggest charts\"\n",
              "            style=\"display:none;\">\n",
              "\n",
              "<svg xmlns=\"http://www.w3.org/2000/svg\" height=\"24px\"viewBox=\"0 0 24 24\"\n",
              "     width=\"24px\">\n",
              "    <g>\n",
              "        <path d=\"M19 3H5c-1.1 0-2 .9-2 2v14c0 1.1.9 2 2 2h14c1.1 0 2-.9 2-2V5c0-1.1-.9-2-2-2zM9 17H7v-7h2v7zm4 0h-2V7h2v10zm4 0h-2v-4h2v4z\"/>\n",
              "    </g>\n",
              "</svg>\n",
              "  </button>\n",
              "\n",
              "<style>\n",
              "  .colab-df-quickchart {\n",
              "      --bg-color: #E8F0FE;\n",
              "      --fill-color: #1967D2;\n",
              "      --hover-bg-color: #E2EBFA;\n",
              "      --hover-fill-color: #174EA6;\n",
              "      --disabled-fill-color: #AAA;\n",
              "      --disabled-bg-color: #DDD;\n",
              "  }\n",
              "\n",
              "  [theme=dark] .colab-df-quickchart {\n",
              "      --bg-color: #3B4455;\n",
              "      --fill-color: #D2E3FC;\n",
              "      --hover-bg-color: #434B5C;\n",
              "      --hover-fill-color: #FFFFFF;\n",
              "      --disabled-bg-color: #3B4455;\n",
              "      --disabled-fill-color: #666;\n",
              "  }\n",
              "\n",
              "  .colab-df-quickchart {\n",
              "    background-color: var(--bg-color);\n",
              "    border: none;\n",
              "    border-radius: 50%;\n",
              "    cursor: pointer;\n",
              "    display: none;\n",
              "    fill: var(--fill-color);\n",
              "    height: 32px;\n",
              "    padding: 0;\n",
              "    width: 32px;\n",
              "  }\n",
              "\n",
              "  .colab-df-quickchart:hover {\n",
              "    background-color: var(--hover-bg-color);\n",
              "    box-shadow: 0 1px 2px rgba(60, 64, 67, 0.3), 0 1px 3px 1px rgba(60, 64, 67, 0.15);\n",
              "    fill: var(--button-hover-fill-color);\n",
              "  }\n",
              "\n",
              "  .colab-df-quickchart-complete:disabled,\n",
              "  .colab-df-quickchart-complete:disabled:hover {\n",
              "    background-color: var(--disabled-bg-color);\n",
              "    fill: var(--disabled-fill-color);\n",
              "    box-shadow: none;\n",
              "  }\n",
              "\n",
              "  .colab-df-spinner {\n",
              "    border: 2px solid var(--fill-color);\n",
              "    border-color: transparent;\n",
              "    border-bottom-color: var(--fill-color);\n",
              "    animation:\n",
              "      spin 1s steps(1) infinite;\n",
              "  }\n",
              "\n",
              "  @keyframes spin {\n",
              "    0% {\n",
              "      border-color: transparent;\n",
              "      border-bottom-color: var(--fill-color);\n",
              "      border-left-color: var(--fill-color);\n",
              "    }\n",
              "    20% {\n",
              "      border-color: transparent;\n",
              "      border-left-color: var(--fill-color);\n",
              "      border-top-color: var(--fill-color);\n",
              "    }\n",
              "    30% {\n",
              "      border-color: transparent;\n",
              "      border-left-color: var(--fill-color);\n",
              "      border-top-color: var(--fill-color);\n",
              "      border-right-color: var(--fill-color);\n",
              "    }\n",
              "    40% {\n",
              "      border-color: transparent;\n",
              "      border-right-color: var(--fill-color);\n",
              "      border-top-color: var(--fill-color);\n",
              "    }\n",
              "    60% {\n",
              "      border-color: transparent;\n",
              "      border-right-color: var(--fill-color);\n",
              "    }\n",
              "    80% {\n",
              "      border-color: transparent;\n",
              "      border-right-color: var(--fill-color);\n",
              "      border-bottom-color: var(--fill-color);\n",
              "    }\n",
              "    90% {\n",
              "      border-color: transparent;\n",
              "      border-bottom-color: var(--fill-color);\n",
              "    }\n",
              "  }\n",
              "</style>\n",
              "\n",
              "  <script>\n",
              "    async function quickchart(key) {\n",
              "      const quickchartButtonEl =\n",
              "        document.querySelector('#' + key + ' button');\n",
              "      quickchartButtonEl.disabled = true;  // To prevent multiple clicks.\n",
              "      quickchartButtonEl.classList.add('colab-df-spinner');\n",
              "      try {\n",
              "        const charts = await google.colab.kernel.invokeFunction(\n",
              "            'suggestCharts', [key], {});\n",
              "      } catch (error) {\n",
              "        console.error('Error during call to suggestCharts:', error);\n",
              "      }\n",
              "      quickchartButtonEl.classList.remove('colab-df-spinner');\n",
              "      quickchartButtonEl.classList.add('colab-df-quickchart-complete');\n",
              "    }\n",
              "    (() => {\n",
              "      let quickchartButtonEl =\n",
              "        document.querySelector('#df-26284f87-45a3-429b-b726-d5e7417d483f button');\n",
              "      quickchartButtonEl.style.display =\n",
              "        google.colab.kernel.accessAllowed ? 'block' : 'none';\n",
              "    })();\n",
              "  </script>\n",
              "</div>\n",
              "    </div>\n",
              "  </div>\n"
            ]
          },
          "metadata": {},
          "execution_count": 27
        }
      ]
    },
    {
      "cell_type": "markdown",
      "source": [
        "Ce code permet de visualiser les mots les plus fréquents dans les URLs des sites de phishing sous forme d'un nuage de mots. Etant donné que nous avons déjà pretraité les données l'on de devrait pas avoir de stopwods."
      ],
      "metadata": {
        "id": "qDCvDad5p8qx"
      },
      "id": "qDCvDad5p8qx"
    },
    {
      "cell_type": "code",
      "source": [
        "\n",
        "phishing = bad_sites['text_sent']\n",
        "\n",
        "# Création d'un objet WordCloud avec des paramètres spécifiés\n",
        "phishing_cloud = WordCloud(\n",
        "    width=800, height=500, background_color='white', max_words=50\n",
        ").generate(' '.join(phishing))\n",
        "\n",
        "# Configuration de la taille de la figure du graphique et de la couleur de fond\n",
        "plt.figure(figsize=(10, 8), facecolor='r')\n",
        "\n",
        "# Affichage de l'image WordCloud\n",
        "plt.imshow(phishing_cloud)\n",
        "\n",
        "# Ajout d'un titre au graphique\n",
        "plt.title(\"Comprendre les mots forts dans l'url\", fontsize=20)\n",
        "\n",
        "# Désactivation des étiquettes des axes\n",
        "plt.axis('off')\n",
        "\n",
        "# Ajustement de la mise en page pour une meilleure apparence\n",
        "plt.tight_layout(pad=0)\n",
        "\n",
        "# Affichage du graphique\n",
        "plt.show()"
      ],
      "metadata": {
        "colab": {
          "base_uri": "https://localhost:8080/",
          "height": 692
        },
        "id": "9Wbr1ol5veoP",
        "outputId": "7bc403a7-b80c-4be7-b54d-9eea0445e1ef"
      },
      "id": "9Wbr1ol5veoP",
      "execution_count": null,
      "outputs": [
        {
          "output_type": "display_data",
          "data": {
            "text/plain": [
              "<Figure size 1000x800 with 1 Axes>"
            ],
            "image/png": "[encoded data removed]"
          },
          "metadata": {}
        }
      ]
    },
    {
      "cell_type": "markdown",
      "source": [
        "## Vectoriser les données"
      ],
      "metadata": {
        "id": "sdGp3FmfvsgE"
      },
      "id": "sdGp3FmfvsgE"
    },
    {
      "cell_type": "code",
      "source": [
        "# Créer une instance du vectoriseur TF-IDF\n",
        "vectorizer = TfidfVectorizer()"
      ],
      "metadata": {
        "id": "uwX1fagevy4b"
      },
      "id": "uwX1fagevy4b",
      "execution_count": null,
      "outputs": []
    },
    {
      "cell_type": "code",
      "source": [
        "\n",
        "# Appliquer le vectoriseur aux données textuelles de la colonne 'text_sent'\n",
        "feature = vectorizer.fit_transform(df_phish_processed['text_sent'])"
      ],
      "metadata": {
        "id": "rGh_7ajtv30r"
      },
      "id": "rGh_7ajtv30r",
      "execution_count": null,
      "outputs": []
    },
    {
      "cell_type": "markdown",
      "source": [
        "# Tester et évaluer les modèles"
      ],
      "metadata": {
        "id": "mPTSJZfHwejd"
      },
      "id": "mPTSJZfHwejd"
    },
    {
      "cell_type": "code",
      "source": [
        "# Define report generator\n",
        "\n",
        "def generer_rapport(matrice_confusion, score, rapport_classification):\n",
        "    \"\"\"\n",
        "    Génère et affiche des rapports graphiques\n",
        "    Arguments par mot-clé :\n",
        "        matrice_confusion - Matrice de confusion générée par le modèle\n",
        "        score --- Score généré par le modèle\n",
        "        rapport_classification - Rapport de classification généré par le modèle\n",
        "\n",
        "    \"\"\"\n",
        "\n",
        "    # Générer la carte thermique de la matrice de confusion\n",
        "    plt.figure(figsize=(5, 5))\n",
        "    sns.heatmap(matrice_confusion,\n",
        "                annot=True,\n",
        "                fmt=\"d\",\n",
        "                linewidths=.5,\n",
        "                square=True,\n",
        "                cmap='viridis',\n",
        "                annot_kws={\"size\": 13},\n",
        "                xticklabels=['fishing', 'legit'],\n",
        "                yticklabels=['fishing', 'legit'])\n",
        "\n",
        "    plt.xticks(rotation='horizontal', fontsize=13)\n",
        "    plt.yticks(rotation='horizontal', fontsize=13)\n",
        "    plt.xlabel('Étiquette Réelle', size=10);\n",
        "    plt.ylabel('Étiquette Prédite', size=10);\n",
        "\n",
        "    titre = 'Score de Précision : {0:.4f}'.format(score)\n",
        "    plt.title(titre, size=15);\n",
        "\n",
        "    # Afficher le rapport de classification et la matrice de confusion\n",
        "    print(rapport_classification)\n",
        "    plt.show()\n"
      ],
      "metadata": {
        "id": "3HvWFDql1HTi"
      },
      "id": "3HvWFDql1HTi",
      "execution_count": null,
      "outputs": []
    },
    {
      "cell_type": "markdown",
      "source": [
        "## Importation des modèles"
      ],
      "metadata": {
        "id": "hw0iPV7u10vC"
      },
      "id": "hw0iPV7u10vC"
    },
    {
      "cell_type": "code",
      "source": [
        "from sklearn.ensemble import RandomForestClassifier, VotingClassifier\n",
        "from sklearn.metrics import accuracy_score, confusion_matrix, classification_report\n",
        "from sklearn.model_selection import RepeatedStratifiedKFold, cross_val_score, GridSearchCV, train_test_split\n",
        "from sklearn.svm import SVC\n",
        "from sklearn.linear_model import LogisticRegression\n",
        "from sklearn.naive_bayes import MultinomialNB\n",
        "from sklearn.neighbors import KNeighborsClassifier\n",
        "from sklearn.tree import DecisionTreeClassifier"
      ],
      "metadata": {
        "id": "ot9u-pXS16cQ"
      },
      "id": "ot9u-pXS16cQ",
      "execution_count": null,
      "outputs": []
    },
    {
      "cell_type": "markdown",
      "source": [
        "### Division des données"
      ],
      "metadata": {
        "id": "tacoML9FmoY8"
      },
      "id": "tacoML9FmoY8"
    },
    {
      "cell_type": "code",
      "source": [
        "# Diviser les données en ensembles d'entraînement et de test\n",
        "X_train, X_test, y_train, y_test = train_test_split(feature, df_phish_processed.label, test_size=0.2, random_state=42)"
      ],
      "metadata": {
        "id": "2yhRW_OjmuX2"
      },
      "id": "2yhRW_OjmuX2",
      "execution_count": null,
      "outputs": []
    },
    {
      "cell_type": "markdown",
      "source": [
        "####  LogisticRegression"
      ],
      "metadata": {
        "id": "LQKI3QWunYDx"
      },
      "id": "LQKI3QWunYDx"
    },
    {
      "cell_type": "code",
      "source": [
        "# Créer une instance du modèle LogisticRegression\n",
        "model_lr = LogisticRegression()\n",
        "\n",
        "# Définir la validation croisée RepeatedStratifiedKFold\n",
        "cv_lr = RepeatedStratifiedKFold(n_splits=5, n_repeats=3, random_state=42)\n",
        "\n",
        "# Liste pour stocker les résultats d'accuracy\n",
        "accuracies = []\n",
        "\n",
        "# Effectuer la validation croisée\n",
        "for train_index, test_index in cv_lr.split(X_train, y_train):\n",
        "    X_train_fold, X_val_fold = X_train[train_index], X_train[test_index]\n",
        "    y_train_fold, y_val_fold = y_train.iloc[train_index], y_train.iloc[test_index]\n",
        "\n",
        "    # Ajuster le modèle sur le fold d'entraînement\n",
        "    model_lr.fit(X_train_fold, y_train_fold)\n",
        "\n",
        "    # Prédire sur le fold de validation\n",
        "    predictions_fold = model_lr.predict(X_val_fold)\n",
        "\n",
        "    # Calculer l'accuracy sur le fold de validation\n",
        "    fold_accuracy = accuracy_score(y_val_fold, predictions_fold)\n",
        "    accuracies.append(fold_accuracy)"
      ],
      "metadata": {
        "id": "tk3n7_NCtq5T"
      },
      "id": "tk3n7_NCtq5T",
      "execution_count": null,
      "outputs": []
    },
    {
      "cell_type": "code",
      "source": [
        "# Afficher la moyenne des accuracies sur les différents folds\n",
        "print(\"Moyenne des accuracies:\", np.mean(accuracies))"
      ],
      "metadata": {
        "colab": {
          "base_uri": "https://localhost:8080/"
        },
        "id": "ySEm3ZSWt3TI",
        "outputId": "f69ef693-8a06-4755-eefd-a98dfa252408"
      },
      "id": "ySEm3ZSWt3TI",
      "execution_count": null,
      "outputs": [
        {
          "output_type": "stream",
          "name": "stdout",
          "text": [
            "Moyenne des accuracies: 0.9389412488001212\n"
          ]
        }
      ]
    },
    {
      "cell_type": "code",
      "source": [
        "# Tester le modèle sur l'ensemble de test\n",
        "predictions_lr_test = model_lr.predict(X_test)\n",
        "score_lr_test = accuracy_score(y_test, predictions_lr_test)\n",
        "cmatrix_lr_test = confusion_matrix(y_test, predictions_lr_test)\n",
        "creport_lr_test = classification_report(y_test, predictions_lr_test)"
      ],
      "metadata": {
        "id": "AJc4L_NJt9K5"
      },
      "id": "AJc4L_NJt9K5",
      "execution_count": null,
      "outputs": []
    },
    {
      "cell_type": "code",
      "source": [
        "print(\"Evaluation\")\n",
        "generer_rapport(cmatrix_lr_test, score_lr_test, creport_lr_test)"
      ],
      "metadata": {
        "colab": {
          "base_uri": "https://localhost:8080/",
          "height": 611
        },
        "id": "Xl8IUW7z8tH4",
        "outputId": "1b58e3c9-618f-4b08-8f1e-8d5e72c1a707"
      },
      "id": "Xl8IUW7z8tH4",
      "execution_count": null,
      "outputs": [
        {
          "output_type": "stream",
          "name": "stdout",
          "text": [
            "Evaluation\n",
            "              precision    recall  f1-score   support\n",
            "\n",
            "           0       0.93      1.00      0.96      3519\n",
            "           1       1.00      0.77      0.87      1186\n",
            "\n",
            "    accuracy                           0.94      4705\n",
            "   macro avg       0.96      0.89      0.92      4705\n",
            "weighted avg       0.95      0.94      0.94      4705\n",
            "\n"
          ]
        },
        {
          "output_type": "display_data",
          "data": {
            "text/plain": [
              "<Figure size 500x500 with 2 Axes>"
            ],
            "image/png": "[encoded data removed]"
          },
          "metadata": {}
        }
      ]
    },
    {
      "cell_type": "markdown",
      "source": [
        "#### DecisionTreeClassifier"
      ],
      "metadata": {
        "id": "ZumtDlEgxtD4"
      },
      "id": "ZumtDlEgxtD4"
    },
    {
      "cell_type": "code",
      "source": [
        "# Créer une instance du modèle DecisionTreeClassifier avec des hyperparamètres spécifiés\n",
        "model_dt = DecisionTreeClassifier(\n",
        "    criterion='gini',       # Critère de sélection des features ('gini' ou 'entropy')\n",
        "    splitter='best',        # Stratégie utilisée pour choisir la division à chaque noeud ('best' ou 'random')\n",
        "    max_depth=None,         # Profondeur maximale de l'arbre (None signifie aucune limite)\n",
        "    min_samples_split=2,    # Nombre minimum d'échantillons requis pour diviser un nœud interne\n",
        "    min_samples_leaf=1,     # Nombre minimum d'échantillons requis pour être une feuille\n",
        "    max_features=None,      # Nombre de fonctionnalités à considérer pour la meilleure division\n",
        "    random_state=42\n",
        ")\n",
        "\n",
        "# Définir la validation croisée RepeatedStratifiedKFold\n",
        "cv_dt = RepeatedStratifiedKFold(n_splits=5, n_repeats=3, random_state=42)\n",
        "\n",
        "# Liste pour stocker les résultats d'accuracy\n",
        "accuracies_dt = []\n",
        "\n",
        "# Effectuer la validation croisée\n",
        "for train_index, test_index in cv_dt.split(X_train, y_train):\n",
        "    X_train_fold, X_val_fold = X_train[train_index], X_train[test_index]\n",
        "    y_train_fold, y_val_fold = y_train.iloc[train_index], y_train.iloc[test_index]\n",
        "\n",
        "    # Ajuster le modèle sur le fold d'entraînement\n",
        "    model_dt.fit(X_train_fold, y_train_fold)\n",
        "\n",
        "    # Prédire sur le fold de validation\n",
        "    predictions_fold_dt = model_dt.predict(X_val_fold)\n",
        "\n",
        "    # Calculer l'accuracy sur le fold de validation\n",
        "    fold_accuracy_dt = accuracy_score(y_val_fold, predictions_fold_dt)\n",
        "    accuracies_dt.append(fold_accuracy_dt)\n",
        "\n",
        "# Afficher les accuracies de chaque fold\n",
        "print(\"Accuracies for each fold with DecisionTreeClassifier:\", accuracies_dt)\n"
      ],
      "metadata": {
        "colab": {
          "base_uri": "https://localhost:8080/"
        },
        "id": "OQScrii_yQ_Q",
        "outputId": "8d20df96-f52a-4fea-8123-eb8d0e85eb76"
      },
      "id": "OQScrii_yQ_Q",
      "execution_count": null,
      "outputs": [
        {
          "output_type": "stream",
          "name": "stdout",
          "text": [
            "Accuracies for each fold with DecisionTreeClassifier: [0.9824654622741764, 0.9840595111583422, 0.9819341126461212, 0.9832580387988307, 0.9837895296306138, 0.9883103081827843, 0.9840595111583422, 0.9808714133900106, 0.9798033483922403, 0.9840552750465055, 0.9800743889479278, 0.9821997874601488, 0.9795430393198725, 0.9837895296306138, 0.9848525112941802]\n"
          ]
        }
      ]
    },
    {
      "cell_type": "code",
      "source": [
        "# Afficher la moyenne des accuracies sur les différents folds\n",
        "print(\"Moyenne des accuracies:\", np.mean(accuracies_dt))"
      ],
      "metadata": {
        "id": "sZrk2wEV43Mw",
        "colab": {
          "base_uri": "https://localhost:8080/"
        },
        "outputId": "d1a97143-dc5a-4377-a0dc-3cb36e5b33a6"
      },
      "id": "sZrk2wEV43Mw",
      "execution_count": null,
      "outputs": [
        {
          "output_type": "stream",
          "name": "stdout",
          "text": [
            "Moyenne des accuracies: 0.9828710511553808\n"
          ]
        }
      ]
    },
    {
      "cell_type": "code",
      "source": [
        "# Tester le meilleur modèle sur l'ensemble de test\n",
        "predictions_rf_test = model_dt.predict(X_test)\n",
        "score_rf_test = accuracy_score(y_test, predictions_rf_test)\n",
        "cmatrix_rf_test = confusion_matrix(y_test, predictions_rf_test)\n",
        "creport_rf_test = classification_report(y_test, predictions_rf_test)"
      ],
      "metadata": {
        "id": "dl_b76q1ylkL"
      },
      "id": "dl_b76q1ylkL",
      "execution_count": null,
      "outputs": []
    },
    {
      "cell_type": "code",
      "source": [
        "print(\"Evaluation\")\n",
        "generer_rapport(cmatrix_rf_test, score_rf_test, creport_rf_test)"
      ],
      "metadata": {
        "colab": {
          "base_uri": "https://localhost:8080/",
          "height": 607
        },
        "id": "ycPmfv7iy1Z5",
        "outputId": "1c3a9cc5-a8dc-4102-869b-834da384c4cb"
      },
      "id": "ycPmfv7iy1Z5",
      "execution_count": null,
      "outputs": [
        {
          "output_type": "stream",
          "name": "stdout",
          "text": [
            "Evaluation\n",
            "              precision    recall  f1-score   support\n",
            "\n",
            "           0       0.99      0.99      0.99      3519\n",
            "           1       0.96      0.98      0.97      1186\n",
            "\n",
            "    accuracy                           0.98      4705\n",
            "   macro avg       0.98      0.98      0.98      4705\n",
            "weighted avg       0.98      0.98      0.98      4705\n",
            "\n"
          ]
        },
        {
          "output_type": "display_data",
          "data": {
            "text/plain": [
              "<Figure size 500x500 with 2 Axes>"
            ],
            "image/png": "[encoded data removed]"
          },
          "metadata": {}
        }
      ]
    },
    {
      "cell_type": "markdown",
      "source": [
        "#### MultinomialNB"
      ],
      "metadata": {
        "id": "LeGYMrV4ETfn"
      },
      "id": "LeGYMrV4ETfn"
    },
    {
      "cell_type": "code",
      "source": [
        "# Définir le classificateur MultinomialNB\n",
        "model_nb = MultinomialNB()\n",
        "\n",
        "\n",
        "# Définir les hyperparamètres à tester\n",
        "param_grid_nb = {'alpha': [0.001, 0.01, 0.1, 0.5, 1.0], 'fit_prior': [True, False]}\n",
        "\n",
        "# Définir la validation croisée RepeatedStratifiedKFold\n",
        "cv_nb = RepeatedStratifiedKFold(n_splits=5, n_repeats=3, random_state=42)\n",
        "\n",
        "# Créer une instance du modèle MultinomialNB\n",
        "model_nb = MultinomialNB()\n",
        "\n",
        "# Créer l'instance GridSearchCV\n",
        "grid_search_nb = GridSearchCV(estimator=model_nb, param_grid=param_grid_nb, cv=cv_nb, scoring='accuracy', n_jobs=-1)\n",
        "\n",
        "# Ajuster le modèle avec GridSearchCV sur les données d'entraînement\n",
        "grid_result_nb = grid_search_nb.fit(X_train, y_train)\n",
        "\n",
        "# Obtenir le meilleur modèle\n",
        "best_model_nb = grid_result_nb.best_estimator_\n",
        "\n",
        "# Tester le meilleur modèle sur l'ensemble de test\n",
        "predictions_nb_test = best_model_nb.predict(X_test)\n",
        "score_nb_test = accuracy_score(y_test, predictions_nb_test)"
      ],
      "metadata": {
        "id": "hLzJmECiEQ3Q"
      },
      "id": "hLzJmECiEQ3Q",
      "execution_count": null,
      "outputs": []
    },
    {
      "cell_type": "code",
      "source": [
        "# Afficher les résultats sur l'ensemble de test\n",
        "print(\"Meilleur modèle MultinomialNB - Résultats sur l'ensemble de test:\")\n",
        "print(\"Accuracy sur l'ensemble de test:\", score_nb_test)"
      ],
      "metadata": {
        "colab": {
          "base_uri": "https://localhost:8080/"
        },
        "id": "rMKgtJHmExzh",
        "outputId": "4c08dbba-23f2-479c-cc87-9083ad452320"
      },
      "id": "rMKgtJHmExzh",
      "execution_count": null,
      "outputs": [
        {
          "output_type": "stream",
          "name": "stdout",
          "text": [
            "Meilleur modèle MultinomialNB - Résultats sur l'ensemble de test:\n",
            "Accuracy sur l'ensemble de test: 0.9849096705632306\n"
          ]
        }
      ]
    },
    {
      "cell_type": "code",
      "source": [
        "# Tester le meilleur modèle sur l'ensemble de test\n",
        "predictions_nb_test = best_model_nb.predict(X_test)\n",
        "score_nb_test = accuracy_score(y_test, predictions_nb_test)\n",
        "cmatrix_nb_test = confusion_matrix(y_test, predictions_nb_test)\n",
        "creport_nb_test = classification_report(y_test, predictions_nb_test)"
      ],
      "metadata": {
        "id": "B73THQCNEsVg"
      },
      "id": "B73THQCNEsVg",
      "execution_count": null,
      "outputs": []
    },
    {
      "cell_type": "code",
      "source": [
        "print(\"Evaluation\")\n",
        "generer_rapport(cmatrix_nb_test, score_nb_test, creport_nb_test)"
      ],
      "metadata": {
        "colab": {
          "base_uri": "https://localhost:8080/",
          "height": 612
        },
        "id": "dl3CLI3fFrip",
        "outputId": "6591ec77-3161-4a56-e58d-9b5d18efaba5"
      },
      "id": "dl3CLI3fFrip",
      "execution_count": null,
      "outputs": [
        {
          "output_type": "stream",
          "name": "stdout",
          "text": [
            "Evaluation\n",
            "              precision    recall  f1-score   support\n",
            "\n",
            "           0       0.98      1.00      0.99      3519\n",
            "           1       0.99      0.95      0.97      1186\n",
            "\n",
            "    accuracy                           0.98      4705\n",
            "   macro avg       0.99      0.97      0.98      4705\n",
            "weighted avg       0.98      0.98      0.98      4705\n",
            "\n"
          ]
        },
        {
          "output_type": "display_data",
          "data": {
            "text/plain": [
              "<Figure size 500x500 with 2 Axes>"
            ],
            "image/png": "[encoded data removed]"
          },
          "metadata": {}
        }
      ]
    },
    {
      "cell_type": "markdown",
      "source": [
        "## Autres techniques (optionnelles)"
      ],
      "metadata": {
        "id": "eHXmaxtLcp6Y"
      },
      "id": "eHXmaxtLcp6Y"
    },
    {
      "cell_type": "markdown",
      "source": [
        "#### Bagging"
      ],
      "metadata": {
        "id": "7ruA8L_Pqevd"
      },
      "id": "7ruA8L_Pqevd"
    },
    {
      "cell_type": "code",
      "source": [
        "# Initialisez vos modèles\n",
        "random_forest = RandomForestClassifier(n_estimators=100, max_depth=3)\n",
        "decision_tree = DecisionTreeClassifier()\n",
        "logistic_regression = LogisticRegression()\n",
        "naive_bayes = MultinomialNB()\n",
        "\n",
        "# Créez un ensemble de modèles\n",
        "ensemble_model = VotingClassifier(estimators=[\n",
        "    ('rf', random_forest),\n",
        "    ('dt', decision_tree),  # Remplacez 'svm' par 'dt'\n",
        "    ('lr', logistic_regression),\n",
        "    ('nb', naive_bayes)\n",
        "], voting='soft')\n",
        "\n",
        "# Entraînez l'ensemble sur vos données d'entraînement\n",
        "ensemble_model.fit(X_train, y_train)\n",
        "\n",
        "# Faites des prédictions\n",
        "predictions = ensemble_model.predict(X_test)\n",
        "\n",
        "# Évaluez la performance\n",
        "accuracy = accuracy_score(y_test, predictions)\n",
        "print(f\"Accuracy of Ensemble Model: {accuracy}\")\n"
      ],
      "metadata": {
        "colab": {
          "base_uri": "https://localhost:8080/"
        },
        "id": "ru3jWpXHqjIO",
        "outputId": "03f94140-0a2f-4453-8297-b2b2ee7c7108"
      },
      "id": "ru3jWpXHqjIO",
      "execution_count": null,
      "outputs": [
        {
          "output_type": "stream",
          "name": "stdout",
          "text": [
            "Accuracy of Ensemble Model: 0.9925611052072264\n"
          ]
        }
      ]
    },
    {
      "cell_type": "markdown",
      "source": [
        "### Test sur de nouvelles donndonnées"
      ],
      "metadata": {
        "id": "N7aNdYlkE3Nm"
      },
      "id": "N7aNdYlkE3Nm"
    },
    {
      "cell_type": "code",
      "source": [
        "predict_good = ['youtube.com/','youtube.com/watch?v=qI0TQJI3vdU','retailhellunderground.com/','restorevisioncenters.com/html/technology.html']\n",
        "predict_bad = ['yeniik.com.tr/wp-admin/js/login.alibaba.com/login.jsp.php','fazan-pacir.rs/temp/libraries/ipad','tubemoviez.exe','svision-online.de/mgfi/administrator/components/com_babackup/classes/fx29id1.txt']"
      ],
      "metadata": {
        "id": "ZRKU-irv3qic"
      },
      "id": "ZRKU-irv3qic",
      "execution_count": null,
      "outputs": []
    },
    {
      "cell_type": "code",
      "source": [
        "# Assurez-vous de transformer les nouvelles données de la même manière que vos données d'entraînement\n",
        "X_predict = vectorizer.transform(predict_bad)\n",
        "\n",
        "# Effectuez la prédiction\n",
        "predictions = xgb_model.predict(X_predict)\n",
        "\n",
        "# Affichez les prédictions\n",
        "print(predictions)"
      ],
      "metadata": {
        "colab": {
          "base_uri": "https://localhost:8080/"
        },
        "id": "GFVMZu223yC9",
        "outputId": "d9e7f51f-84ae-4d28-d35f-3c88abd87e86"
      },
      "id": "GFVMZu223yC9",
      "execution_count": null,
      "outputs": [
        {
          "output_type": "stream",
          "name": "stdout",
          "text": [
            "[1 0 0 0]\n"
          ]
        }
      ]
    },
    {
      "cell_type": "markdown",
      "source": [
        "## Préduction du label - fichier de soumission"
      ],
      "metadata": {
        "id": "Ac4gkjmtu0eR"
      },
      "id": "Ac4gkjmtu0eR"
    },
    {
      "cell_type": "code",
      "source": [
        "submission = pd.read_csv('/content/drive/MyDrive/ProjetData354/Projet1/fishing-submission.csv')"
      ],
      "metadata": {
        "id": "V4CZHh7ovt7b"
      },
      "id": "V4CZHh7ovt7b",
      "execution_count": null,
      "outputs": []
    },
    {
      "cell_type": "code",
      "source": [
        "submission.head(3)"
      ],
      "metadata": {
        "colab": {
          "base_uri": "https://localhost:8080/",
          "height": 143
        },
        "id": "qGLE5P-SPRUO",
        "outputId": "cb703b89-4548-4657-e841-63d364c6b10e"
      },
      "id": "qGLE5P-SPRUO",
      "execution_count": null,
      "outputs": [
        {
          "output_type": "execute_result",
          "data": {
            "text/plain": [
              "      id                                                url  label\n",
              "0  30508  https://pub-54efd4aa11884bfb834031d41082f502.r...    NaN\n",
              "1   1173      https://rectify-assets-dapps.firebaseapp.com/    NaN\n",
              "2   2736             https://mynumbercardpoint-sounu-go.jp/    NaN"
            ],
            "text/html": [
              "\n",
              "  <div id=\"df-8ee34fff-c987-4995-9bc0-9faa3be513e5\" class=\"colab-df-container\">\n",
              "    <div>\n",
              "<style scoped>\n",
              "    .dataframe tbody tr th:only-of-type {\n",
              "        vertical-align: middle;\n",
              "    }\n",
              "\n",
              "    .dataframe tbody tr th {\n",
              "        vertical-align: top;\n",
              "    }\n",
              "\n",
              "    .dataframe thead th {\n",
              "        text-align: right;\n",
              "    }\n",
              "</style>\n",
              "<table border=\"1\" class=\"dataframe\">\n",
              "  <thead>\n",
              "    <tr style=\"text-align: right;\">\n",
              "      <th></th>\n",
              "      <th>id</th>\n",
              "      <th>url</th>\n",
              "      <th>label</th>\n",
              "    </tr>\n",
              "  </thead>\n",
              "  <tbody>\n",
              "    <tr>\n",
              "      <th>0</th>\n",
              "      <td>30508</td>\n",
              "      <td>https://pub-54efd4aa11884bfb834031d41082f502.r...</td>\n",
              "      <td>NaN</td>\n",
              "    </tr>\n",
              "    <tr>\n",
              "      <th>1</th>\n",
              "      <td>1173</td>\n",
              "      <td>https://rectify-assets-dapps.firebaseapp.com/</td>\n",
              "      <td>NaN</td>\n",
              "    </tr>\n",
              "    <tr>\n",
              "      <th>2</th>\n",
              "      <td>2736</td>\n",
              "      <td>https://mynumbercardpoint-sounu-go.jp/</td>\n",
              "      <td>NaN</td>\n",
              "    </tr>\n",
              "  </tbody>\n",
              "</table>\n",
              "</div>\n",
              "    <div class=\"colab-df-buttons\">\n",
              "\n",
              "  <div class=\"colab-df-container\">\n",
              "    <button class=\"colab-df-convert\" onclick=\"convertToInteractive('df-8ee34fff-c987-4995-9bc0-9faa3be513e5')\"\n",
              "            title=\"Convert this dataframe to an interactive table.\"\n",
              "            style=\"display:none;\">\n",
              "\n",
              "  <svg xmlns=\"http://www.w3.org/2000/svg\" height=\"24px\" viewBox=\"0 -960 960 960\">\n",
              "    <path d=\"M120-120v-720h720v720H120Zm60-500h600v-160H180v160Zm220 220h160v-160H400v160Zm0 220h160v-160H400v160ZM180-400h160v-160H180v160Zm440 0h160v-160H620v160ZM180-180h160v-160H180v160Zm440 0h160v-160H620v160Z\"/>\n",
              "  </svg>\n",
              "    </button>\n",
              "\n",
              "  <style>\n",
              "    .colab-df-container {\n",
              "      display:flex;\n",
              "      gap: 12px;\n",
              "    }\n",
              "\n",
              "    .colab-df-convert {\n",
              "      background-color: #E8F0FE;\n",
              "      border: none;\n",
              "      border-radius: 50%;\n",
              "      cursor: pointer;\n",
              "      display: none;\n",
              "      fill: #1967D2;\n",
              "      height: 32px;\n",
              "      padding: 0 0 0 0;\n",
              "      width: 32px;\n",
              "    }\n",
              "\n",
              "    .colab-df-convert:hover {\n",
              "      background-color: #E2EBFA;\n",
              "      box-shadow: 0px 1px 2px rgba(60, 64, 67, 0.3), 0px 1px 3px 1px rgba(60, 64, 67, 0.15);\n",
              "      fill: #174EA6;\n",
              "    }\n",
              "\n",
              "    .colab-df-buttons div {\n",
              "      margin-bottom: 4px;\n",
              "    }\n",
              "\n",
              "    [theme=dark] .colab-df-convert {\n",
              "      background-color: #3B4455;\n",
              "      fill: #D2E3FC;\n",
              "    }\n",
              "\n",
              "    [theme=dark] .colab-df-convert:hover {\n",
              "      background-color: #434B5C;\n",
              "      box-shadow: 0px 1px 3px 1px rgba(0, 0, 0, 0.15);\n",
              "      filter: drop-shadow(0px 1px 2px rgba(0, 0, 0, 0.3));\n",
              "      fill: #FFFFFF;\n",
              "    }\n",
              "  </style>\n",
              "\n",
              "    <script>\n",
              "      const buttonEl =\n",
              "        document.querySelector('#df-8ee34fff-c987-4995-9bc0-9faa3be513e5 button.colab-df-convert');\n",
              "      buttonEl.style.display =\n",
              "        google.colab.kernel.accessAllowed ? 'block' : 'none';\n",
              "\n",
              "      async function convertToInteractive(key) {\n",
              "        const element = document.querySelector('#df-8ee34fff-c987-4995-9bc0-9faa3be513e5');\n",
              "        const dataTable =\n",
              "          await google.colab.kernel.invokeFunction('convertToInteractive',\n",
              "                                                    [key], {});\n",
              "        if (!dataTable) return;\n",
              "\n",
              "        const docLinkHtml = 'Like what you see? Visit the ' +\n",
              "          '<a target=\"_blank\" href=https://colab.research.google.com/notebooks/data_table.ipynb>data table notebook</a>'\n",
              "          + ' to learn more about interactive tables.';\n",
              "        element.innerHTML = '';\n",
              "        dataTable['output_type'] = 'display_data';\n",
              "        await google.colab.output.renderOutput(dataTable, element);\n",
              "        const docLink = document.createElement('div');\n",
              "        docLink.innerHTML = docLinkHtml;\n",
              "        element.appendChild(docLink);\n",
              "      }\n",
              "    </script>\n",
              "  </div>\n",
              "\n",
              "\n",
              "<div id=\"df-913b0026-1722-40b3-82b0-1a5e93c5d423\">\n",
              "  <button class=\"colab-df-quickchart\" onclick=\"quickchart('df-913b0026-1722-40b3-82b0-1a5e93c5d423')\"\n",
              "            title=\"Suggest charts\"\n",
              "            style=\"display:none;\">\n",
              "\n",
              "<svg xmlns=\"http://www.w3.org/2000/svg\" height=\"24px\"viewBox=\"0 0 24 24\"\n",
              "     width=\"24px\">\n",
              "    <g>\n",
              "        <path d=\"M19 3H5c-1.1 0-2 .9-2 2v14c0 1.1.9 2 2 2h14c1.1 0 2-.9 2-2V5c0-1.1-.9-2-2-2zM9 17H7v-7h2v7zm4 0h-2V7h2v10zm4 0h-2v-4h2v4z\"/>\n",
              "    </g>\n",
              "</svg>\n",
              "  </button>\n",
              "\n",
              "<style>\n",
              "  .colab-df-quickchart {\n",
              "      --bg-color: #E8F0FE;\n",
              "      --fill-color: #1967D2;\n",
              "      --hover-bg-color: #E2EBFA;\n",
              "      --hover-fill-color: #174EA6;\n",
              "      --disabled-fill-color: #AAA;\n",
              "      --disabled-bg-color: #DDD;\n",
              "  }\n",
              "\n",
              "  [theme=dark] .colab-df-quickchart {\n",
              "      --bg-color: #3B4455;\n",
              "      --fill-color: #D2E3FC;\n",
              "      --hover-bg-color: #434B5C;\n",
              "      --hover-fill-color: #FFFFFF;\n",
              "      --disabled-bg-color: #3B4455;\n",
              "      --disabled-fill-color: #666;\n",
              "  }\n",
              "\n",
              "  .colab-df-quickchart {\n",
              "    background-color: var(--bg-color);\n",
              "    border: none;\n",
              "    border-radius: 50%;\n",
              "    cursor: pointer;\n",
              "    display: none;\n",
              "    fill: var(--fill-color);\n",
              "    height: 32px;\n",
              "    padding: 0;\n",
              "    width: 32px;\n",
              "  }\n",
              "\n",
              "  .colab-df-quickchart:hover {\n",
              "    background-color: var(--hover-bg-color);\n",
              "    box-shadow: 0 1px 2px rgba(60, 64, 67, 0.3), 0 1px 3px 1px rgba(60, 64, 67, 0.15);\n",
              "    fill: var(--button-hover-fill-color);\n",
              "  }\n",
              "\n",
              "  .colab-df-quickchart-complete:disabled,\n",
              "  .colab-df-quickchart-complete:disabled:hover {\n",
              "    background-color: var(--disabled-bg-color);\n",
              "    fill: var(--disabled-fill-color);\n",
              "    box-shadow: none;\n",
              "  }\n",
              "\n",
              "  .colab-df-spinner {\n",
              "    border: 2px solid var(--fill-color);\n",
              "    border-color: transparent;\n",
              "    border-bottom-color: var(--fill-color);\n",
              "    animation:\n",
              "      spin 1s steps(1) infinite;\n",
              "  }\n",
              "\n",
              "  @keyframes spin {\n",
              "    0% {\n",
              "      border-color: transparent;\n",
              "      border-bottom-color: var(--fill-color);\n",
              "      border-left-color: var(--fill-color);\n",
              "    }\n",
              "    20% {\n",
              "      border-color: transparent;\n",
              "      border-left-color: var(--fill-color);\n",
              "      border-top-color: var(--fill-color);\n",
              "    }\n",
              "    30% {\n",
              "      border-color: transparent;\n",
              "      border-left-color: var(--fill-color);\n",
              "      border-top-color: var(--fill-color);\n",
              "      border-right-color: var(--fill-color);\n",
              "    }\n",
              "    40% {\n",
              "      border-color: transparent;\n",
              "      border-right-color: var(--fill-color);\n",
              "      border-top-color: var(--fill-color);\n",
              "    }\n",
              "    60% {\n",
              "      border-color: transparent;\n",
              "      border-right-color: var(--fill-color);\n",
              "    }\n",
              "    80% {\n",
              "      border-color: transparent;\n",
              "      border-right-color: var(--fill-color);\n",
              "      border-bottom-color: var(--fill-color);\n",
              "    }\n",
              "    90% {\n",
              "      border-color: transparent;\n",
              "      border-bottom-color: var(--fill-color);\n",
              "    }\n",
              "  }\n",
              "</style>\n",
              "\n",
              "  <script>\n",
              "    async function quickchart(key) {\n",
              "      const quickchartButtonEl =\n",
              "        document.querySelector('#' + key + ' button');\n",
              "      quickchartButtonEl.disabled = true;  // To prevent multiple clicks.\n",
              "      quickchartButtonEl.classList.add('colab-df-spinner');\n",
              "      try {\n",
              "        const charts = await google.colab.kernel.invokeFunction(\n",
              "            'suggestCharts', [key], {});\n",
              "      } catch (error) {\n",
              "        console.error('Error during call to suggestCharts:', error);\n",
              "      }\n",
              "      quickchartButtonEl.classList.remove('colab-df-spinner');\n",
              "      quickchartButtonEl.classList.add('colab-df-quickchart-complete');\n",
              "    }\n",
              "    (() => {\n",
              "      let quickchartButtonEl =\n",
              "        document.querySelector('#df-913b0026-1722-40b3-82b0-1a5e93c5d423 button');\n",
              "      quickchartButtonEl.style.display =\n",
              "        google.colab.kernel.accessAllowed ? 'block' : 'none';\n",
              "    })();\n",
              "  </script>\n",
              "</div>\n",
              "    </div>\n",
              "  </div>\n"
            ]
          },
          "metadata": {},
          "execution_count": 57
        }
      ]
    },
    {
      "cell_type": "code",
      "source": [
        "# Supposons que 'url' est la colonne contenant les URL dans votre DataFrame\n",
        "submission['text_sent'] = submission['url'].apply(preprocess_initial)\n",
        "\n",
        "# Transformez les nouvelles données en utilisant le même vectorizer que celui utilisé pour les données d'entraînement\n",
        "X_submission = vectorizer.transform(submission['text_sent'])"
      ],
      "metadata": {
        "id": "I0sfDZLWwhYx"
      },
      "id": "I0sfDZLWwhYx",
      "execution_count": null,
      "outputs": []
    },
    {
      "cell_type": "code",
      "source": [
        "submission.head(3)"
      ],
      "metadata": {
        "colab": {
          "base_uri": "https://localhost:8080/",
          "height": 143
        },
        "id": "zXa7KeyoPgqz",
        "outputId": "ae962361-a9cb-44fc-efb8-b3c9cad38176"
      },
      "id": "zXa7KeyoPgqz",
      "execution_count": null,
      "outputs": [
        {
          "output_type": "execute_result",
          "data": {
            "text/plain": [
              "      id                                                url  label  \\\n",
              "0  30508  https://pub-54efd4aa11884bfb834031d41082f502.r...    NaN   \n",
              "1   1173      https://rectify-assets-dapps.firebaseapp.com/    NaN   \n",
              "2   2736             https://mynumbercardpoint-sounu-go.jp/    NaN   \n",
              "\n",
              "                        text_sent  prediction  \n",
              "0      pub efd aa bfb f r dev res           1  \n",
              "1  rectifi asset dapp firebaseapp           1  \n",
              "2   mynumbercardpoint sounu go jp           1  "
            ],
            "text/html": [
              "\n",
              "  <div id=\"df-eda30f2f-5fde-4224-a254-cf08ad7d3f34\" class=\"colab-df-container\">\n",
              "    <div>\n",
              "<style scoped>\n",
              "    .dataframe tbody tr th:only-of-type {\n",
              "        vertical-align: middle;\n",
              "    }\n",
              "\n",
              "    .dataframe tbody tr th {\n",
              "        vertical-align: top;\n",
              "    }\n",
              "\n",
              "    .dataframe thead th {\n",
              "        text-align: right;\n",
              "    }\n",
              "</style>\n",
              "<table border=\"1\" class=\"dataframe\">\n",
              "  <thead>\n",
              "    <tr style=\"text-align: right;\">\n",
              "      <th></th>\n",
              "      <th>id</th>\n",
              "      <th>url</th>\n",
              "      <th>label</th>\n",
              "      <th>text_sent</th>\n",
              "      <th>prediction</th>\n",
              "    </tr>\n",
              "  </thead>\n",
              "  <tbody>\n",
              "    <tr>\n",
              "      <th>0</th>\n",
              "      <td>30508</td>\n",
              "      <td>https://pub-54efd4aa11884bfb834031d41082f502.r...</td>\n",
              "      <td>NaN</td>\n",
              "      <td>pub efd aa bfb f r dev res</td>\n",
              "      <td>1</td>\n",
              "    </tr>\n",
              "    <tr>\n",
              "      <th>1</th>\n",
              "      <td>1173</td>\n",
              "      <td>https://rectify-assets-dapps.firebaseapp.com/</td>\n",
              "      <td>NaN</td>\n",
              "      <td>rectifi asset dapp firebaseapp</td>\n",
              "      <td>1</td>\n",
              "    </tr>\n",
              "    <tr>\n",
              "      <th>2</th>\n",
              "      <td>2736</td>\n",
              "      <td>https://mynumbercardpoint-sounu-go.jp/</td>\n",
              "      <td>NaN</td>\n",
              "      <td>mynumbercardpoint sounu go jp</td>\n",
              "      <td>1</td>\n",
              "    </tr>\n",
              "  </tbody>\n",
              "</table>\n",
              "</div>\n",
              "    <div class=\"colab-df-buttons\">\n",
              "\n",
              "  <div class=\"colab-df-container\">\n",
              "    <button class=\"colab-df-convert\" onclick=\"convertToInteractive('df-eda30f2f-5fde-4224-a254-cf08ad7d3f34')\"\n",
              "            title=\"Convert this dataframe to an interactive table.\"\n",
              "            style=\"display:none;\">\n",
              "\n",
              "  <svg xmlns=\"http://www.w3.org/2000/svg\" height=\"24px\" viewBox=\"0 -960 960 960\">\n",
              "    <path d=\"M120-120v-720h720v720H120Zm60-500h600v-160H180v160Zm220 220h160v-160H400v160Zm0 220h160v-160H400v160ZM180-400h160v-160H180v160Zm440 0h160v-160H620v160ZM180-180h160v-160H180v160Zm440 0h160v-160H620v160Z\"/>\n",
              "  </svg>\n",
              "    </button>\n",
              "\n",
              "  <style>\n",
              "    .colab-df-container {\n",
              "      display:flex;\n",
              "      gap: 12px;\n",
              "    }\n",
              "\n",
              "    .colab-df-convert {\n",
              "      background-color: #E8F0FE;\n",
              "      border: none;\n",
              "      border-radius: 50%;\n",
              "      cursor: pointer;\n",
              "      display: none;\n",
              "      fill: #1967D2;\n",
              "      height: 32px;\n",
              "      padding: 0 0 0 0;\n",
              "      width: 32px;\n",
              "    }\n",
              "\n",
              "    .colab-df-convert:hover {\n",
              "      background-color: #E2EBFA;\n",
              "      box-shadow: 0px 1px 2px rgba(60, 64, 67, 0.3), 0px 1px 3px 1px rgba(60, 64, 67, 0.15);\n",
              "      fill: #174EA6;\n",
              "    }\n",
              "\n",
              "    .colab-df-buttons div {\n",
              "      margin-bottom: 4px;\n",
              "    }\n",
              "\n",
              "    [theme=dark] .colab-df-convert {\n",
              "      background-color: #3B4455;\n",
              "      fill: #D2E3FC;\n",
              "    }\n",
              "\n",
              "    [theme=dark] .colab-df-convert:hover {\n",
              "      background-color: #434B5C;\n",
              "      box-shadow: 0px 1px 3px 1px rgba(0, 0, 0, 0.15);\n",
              "      filter: drop-shadow(0px 1px 2px rgba(0, 0, 0, 0.3));\n",
              "      fill: #FFFFFF;\n",
              "    }\n",
              "  </style>\n",
              "\n",
              "    <script>\n",
              "      const buttonEl =\n",
              "        document.querySelector('#df-eda30f2f-5fde-4224-a254-cf08ad7d3f34 button.colab-df-convert');\n",
              "      buttonEl.style.display =\n",
              "        google.colab.kernel.accessAllowed ? 'block' : 'none';\n",
              "\n",
              "      async function convertToInteractive(key) {\n",
              "        const element = document.querySelector('#df-eda30f2f-5fde-4224-a254-cf08ad7d3f34');\n",
              "        const dataTable =\n",
              "          await google.colab.kernel.invokeFunction('convertToInteractive',\n",
              "                                                    [key], {});\n",
              "        if (!dataTable) return;\n",
              "\n",
              "        const docLinkHtml = 'Like what you see? Visit the ' +\n",
              "          '<a target=\"_blank\" href=https://colab.research.google.com/notebooks/data_table.ipynb>data table notebook</a>'\n",
              "          + ' to learn more about interactive tables.';\n",
              "        element.innerHTML = '';\n",
              "        dataTable['output_type'] = 'display_data';\n",
              "        await google.colab.output.renderOutput(dataTable, element);\n",
              "        const docLink = document.createElement('div');\n",
              "        docLink.innerHTML = docLinkHtml;\n",
              "        element.appendChild(docLink);\n",
              "      }\n",
              "    </script>\n",
              "  </div>\n",
              "\n",
              "\n",
              "<div id=\"df-240de14f-8651-4d87-ab22-8efca6babfce\">\n",
              "  <button class=\"colab-df-quickchart\" onclick=\"quickchart('df-240de14f-8651-4d87-ab22-8efca6babfce')\"\n",
              "            title=\"Suggest charts\"\n",
              "            style=\"display:none;\">\n",
              "\n",
              "<svg xmlns=\"http://www.w3.org/2000/svg\" height=\"24px\"viewBox=\"0 0 24 24\"\n",
              "     width=\"24px\">\n",
              "    <g>\n",
              "        <path d=\"M19 3H5c-1.1 0-2 .9-2 2v14c0 1.1.9 2 2 2h14c1.1 0 2-.9 2-2V5c0-1.1-.9-2-2-2zM9 17H7v-7h2v7zm4 0h-2V7h2v10zm4 0h-2v-4h2v4z\"/>\n",
              "    </g>\n",
              "</svg>\n",
              "  </button>\n",
              "\n",
              "<style>\n",
              "  .colab-df-quickchart {\n",
              "      --bg-color: #E8F0FE;\n",
              "      --fill-color: #1967D2;\n",
              "      --hover-bg-color: #E2EBFA;\n",
              "      --hover-fill-color: #174EA6;\n",
              "      --disabled-fill-color: #AAA;\n",
              "      --disabled-bg-color: #DDD;\n",
              "  }\n",
              "\n",
              "  [theme=dark] .colab-df-quickchart {\n",
              "      --bg-color: #3B4455;\n",
              "      --fill-color: #D2E3FC;\n",
              "      --hover-bg-color: #434B5C;\n",
              "      --hover-fill-color: #FFFFFF;\n",
              "      --disabled-bg-color: #3B4455;\n",
              "      --disabled-fill-color: #666;\n",
              "  }\n",
              "\n",
              "  .colab-df-quickchart {\n",
              "    background-color: var(--bg-color);\n",
              "    border: none;\n",
              "    border-radius: 50%;\n",
              "    cursor: pointer;\n",
              "    display: none;\n",
              "    fill: var(--fill-color);\n",
              "    height: 32px;\n",
              "    padding: 0;\n",
              "    width: 32px;\n",
              "  }\n",
              "\n",
              "  .colab-df-quickchart:hover {\n",
              "    background-color: var(--hover-bg-color);\n",
              "    box-shadow: 0 1px 2px rgba(60, 64, 67, 0.3), 0 1px 3px 1px rgba(60, 64, 67, 0.15);\n",
              "    fill: var(--button-hover-fill-color);\n",
              "  }\n",
              "\n",
              "  .colab-df-quickchart-complete:disabled,\n",
              "  .colab-df-quickchart-complete:disabled:hover {\n",
              "    background-color: var(--disabled-bg-color);\n",
              "    fill: var(--disabled-fill-color);\n",
              "    box-shadow: none;\n",
              "  }\n",
              "\n",
              "  .colab-df-spinner {\n",
              "    border: 2px solid var(--fill-color);\n",
              "    border-color: transparent;\n",
              "    border-bottom-color: var(--fill-color);\n",
              "    animation:\n",
              "      spin 1s steps(1) infinite;\n",
              "  }\n",
              "\n",
              "  @keyframes spin {\n",
              "    0% {\n",
              "      border-color: transparent;\n",
              "      border-bottom-color: var(--fill-color);\n",
              "      border-left-color: var(--fill-color);\n",
              "    }\n",
              "    20% {\n",
              "      border-color: transparent;\n",
              "      border-left-color: var(--fill-color);\n",
              "      border-top-color: var(--fill-color);\n",
              "    }\n",
              "    30% {\n",
              "      border-color: transparent;\n",
              "      border-left-color: var(--fill-color);\n",
              "      border-top-color: var(--fill-color);\n",
              "      border-right-color: var(--fill-color);\n",
              "    }\n",
              "    40% {\n",
              "      border-color: transparent;\n",
              "      border-right-color: var(--fill-color);\n",
              "      border-top-color: var(--fill-color);\n",
              "    }\n",
              "    60% {\n",
              "      border-color: transparent;\n",
              "      border-right-color: var(--fill-color);\n",
              "    }\n",
              "    80% {\n",
              "      border-color: transparent;\n",
              "      border-right-color: var(--fill-color);\n",
              "      border-bottom-color: var(--fill-color);\n",
              "    }\n",
              "    90% {\n",
              "      border-color: transparent;\n",
              "      border-bottom-color: var(--fill-color);\n",
              "    }\n",
              "  }\n",
              "</style>\n",
              "\n",
              "  <script>\n",
              "    async function quickchart(key) {\n",
              "      const quickchartButtonEl =\n",
              "        document.querySelector('#' + key + ' button');\n",
              "      quickchartButtonEl.disabled = true;  // To prevent multiple clicks.\n",
              "      quickchartButtonEl.classList.add('colab-df-spinner');\n",
              "      try {\n",
              "        const charts = await google.colab.kernel.invokeFunction(\n",
              "            'suggestCharts', [key], {});\n",
              "      } catch (error) {\n",
              "        console.error('Error during call to suggestCharts:', error);\n",
              "      }\n",
              "      quickchartButtonEl.classList.remove('colab-df-spinner');\n",
              "      quickchartButtonEl.classList.add('colab-df-quickchart-complete');\n",
              "    }\n",
              "    (() => {\n",
              "      let quickchartButtonEl =\n",
              "        document.querySelector('#df-240de14f-8651-4d87-ab22-8efca6babfce button');\n",
              "      quickchartButtonEl.style.display =\n",
              "        google.colab.kernel.accessAllowed ? 'block' : 'none';\n",
              "    })();\n",
              "  </script>\n",
              "</div>\n",
              "    </div>\n",
              "  </div>\n"
            ]
          },
          "metadata": {},
          "execution_count": 65
        }
      ]
    },
    {
      "cell_type": "code",
      "source": [
        "# Effectuez la prédiction\n",
        "predictions_submission = model_dt.predict(X_submission)\n",
        "\n",
        "# Ajoutez les prédictions au DataFrame de soumission\n",
        "submission['prediction'] = predictions_submission\n",
        "\n",
        "# Supprimez la colonne 'label' si elle existe\n",
        "if 'label' in submission.columns:\n",
        "    submission.drop('label', axis=1, inplace=True)\n",
        "\n",
        "# Remplacez les valeurs dans la colonne 'prediction'\n",
        "submission['prediction'] = submission['prediction'].map({0: 'légit', 1: 'phishing'})\n",
        "\n",
        "\n",
        "# Enregistrez le DataFrame de soumission avec les prédictions au format CSV\n",
        "submission.to_csv('/content/drive/MyDrive/ProjetData354/Projet1/fishing-submission-predictions.csv', index=False)"
      ],
      "metadata": {
        "id": "5Qqwo9ZbxoA4"
      },
      "id": "5Qqwo9ZbxoA4",
      "execution_count": null,
      "outputs": []
    },
    {
      "cell_type": "code",
      "source": [
        "# Affichez le DataFrame avec les prédictions\n",
        "prediction = pd.read_csv('/content/drive/MyDrive/ProjetData354/Projet1/fishing-submission-predictions.csv')"
      ],
      "metadata": {
        "id": "XK5zr8FpQnrE"
      },
      "id": "XK5zr8FpQnrE",
      "execution_count": null,
      "outputs": []
    },
    {
      "cell_type": "code",
      "source": [
        "prediction.head(3)"
      ],
      "metadata": {
        "colab": {
          "base_uri": "https://localhost:8080/",
          "height": 143
        },
        "id": "1-g4yTWaT5zK",
        "outputId": "e953fc08-c4e2-4c0e-9756-3e8e76ecdfab"
      },
      "id": "1-g4yTWaT5zK",
      "execution_count": null,
      "outputs": [
        {
          "output_type": "execute_result",
          "data": {
            "text/plain": [
              "      id                                                url prediction\n",
              "0  30508  https://pub-54efd4aa11884bfb834031d41082f502.r...   phishing\n",
              "1   1173      https://rectify-assets-dapps.firebaseapp.com/   phishing\n",
              "2   2736             https://mynumbercardpoint-sounu-go.jp/   phishing"
            ],
            "text/html": [
              "\n",
              "  <div id=\"df-8b7ed8af-e121-45b8-ada3-e24c05072442\" class=\"colab-df-container\">\n",
              "    <div>\n",
              "<style scoped>\n",
              "    .dataframe tbody tr th:only-of-type {\n",
              "        vertical-align: middle;\n",
              "    }\n",
              "\n",
              "    .dataframe tbody tr th {\n",
              "        vertical-align: top;\n",
              "    }\n",
              "\n",
              "    .dataframe thead th {\n",
              "        text-align: right;\n",
              "    }\n",
              "</style>\n",
              "<table border=\"1\" class=\"dataframe\">\n",
              "  <thead>\n",
              "    <tr style=\"text-align: right;\">\n",
              "      <th></th>\n",
              "      <th>id</th>\n",
              "      <th>url</th>\n",
              "      <th>prediction</th>\n",
              "    </tr>\n",
              "  </thead>\n",
              "  <tbody>\n",
              "    <tr>\n",
              "      <th>0</th>\n",
              "      <td>30508</td>\n",
              "      <td>https://pub-54efd4aa11884bfb834031d41082f502.r...</td>\n",
              "      <td>phishing</td>\n",
              "    </tr>\n",
              "    <tr>\n",
              "      <th>1</th>\n",
              "      <td>1173</td>\n",
              "      <td>https://rectify-assets-dapps.firebaseapp.com/</td>\n",
              "      <td>phishing</td>\n",
              "    </tr>\n",
              "    <tr>\n",
              "      <th>2</th>\n",
              "      <td>2736</td>\n",
              "      <td>https://mynumbercardpoint-sounu-go.jp/</td>\n",
              "      <td>phishing</td>\n",
              "    </tr>\n",
              "  </tbody>\n",
              "</table>\n",
              "</div>\n",
              "    <div class=\"colab-df-buttons\">\n",
              "\n",
              "  <div class=\"colab-df-container\">\n",
              "    <button class=\"colab-df-convert\" onclick=\"convertToInteractive('df-8b7ed8af-e121-45b8-ada3-e24c05072442')\"\n",
              "            title=\"Convert this dataframe to an interactive table.\"\n",
              "            style=\"display:none;\">\n",
              "\n",
              "  <svg xmlns=\"http://www.w3.org/2000/svg\" height=\"24px\" viewBox=\"0 -960 960 960\">\n",
              "    <path d=\"M120-120v-720h720v720H120Zm60-500h600v-160H180v160Zm220 220h160v-160H400v160Zm0 220h160v-160H400v160ZM180-400h160v-160H180v160Zm440 0h160v-160H620v160ZM180-180h160v-160H180v160Zm440 0h160v-160H620v160Z\"/>\n",
              "  </svg>\n",
              "    </button>\n",
              "\n",
              "  <style>\n",
              "    .colab-df-container {\n",
              "      display:flex;\n",
              "      gap: 12px;\n",
              "    }\n",
              "\n",
              "    .colab-df-convert {\n",
              "      background-color: #E8F0FE;\n",
              "      border: none;\n",
              "      border-radius: 50%;\n",
              "      cursor: pointer;\n",
              "      display: none;\n",
              "      fill: #1967D2;\n",
              "      height: 32px;\n",
              "      padding: 0 0 0 0;\n",
              "      width: 32px;\n",
              "    }\n",
              "\n",
              "    .colab-df-convert:hover {\n",
              "      background-color: #E2EBFA;\n",
              "      box-shadow: 0px 1px 2px rgba(60, 64, 67, 0.3), 0px 1px 3px 1px rgba(60, 64, 67, 0.15);\n",
              "      fill: #174EA6;\n",
              "    }\n",
              "\n",
              "    .colab-df-buttons div {\n",
              "      margin-bottom: 4px;\n",
              "    }\n",
              "\n",
              "    [theme=dark] .colab-df-convert {\n",
              "      background-color: #3B4455;\n",
              "      fill: #D2E3FC;\n",
              "    }\n",
              "\n",
              "    [theme=dark] .colab-df-convert:hover {\n",
              "      background-color: #434B5C;\n",
              "      box-shadow: 0px 1px 3px 1px rgba(0, 0, 0, 0.15);\n",
              "      filter: drop-shadow(0px 1px 2px rgba(0, 0, 0, 0.3));\n",
              "      fill: #FFFFFF;\n",
              "    }\n",
              "  </style>\n",
              "\n",
              "    <script>\n",
              "      const buttonEl =\n",
              "        document.querySelector('#df-8b7ed8af-e121-45b8-ada3-e24c05072442 button.colab-df-convert');\n",
              "      buttonEl.style.display =\n",
              "        google.colab.kernel.accessAllowed ? 'block' : 'none';\n",
              "\n",
              "      async function convertToInteractive(key) {\n",
              "        const element = document.querySelector('#df-8b7ed8af-e121-45b8-ada3-e24c05072442');\n",
              "        const dataTable =\n",
              "          await google.colab.kernel.invokeFunction('convertToInteractive',\n",
              "                                                    [key], {});\n",
              "        if (!dataTable) return;\n",
              "\n",
              "        const docLinkHtml = 'Like what you see? Visit the ' +\n",
              "          '<a target=\"_blank\" href=https://colab.research.google.com/notebooks/data_table.ipynb>data table notebook</a>'\n",
              "          + ' to learn more about interactive tables.';\n",
              "        element.innerHTML = '';\n",
              "        dataTable['output_type'] = 'display_data';\n",
              "        await google.colab.output.renderOutput(dataTable, element);\n",
              "        const docLink = document.createElement('div');\n",
              "        docLink.innerHTML = docLinkHtml;\n",
              "        element.appendChild(docLink);\n",
              "      }\n",
              "    </script>\n",
              "  </div>\n",
              "\n",
              "\n",
              "<div id=\"df-ed26ae34-46ef-4f3e-9684-56b68e276c45\">\n",
              "  <button class=\"colab-df-quickchart\" onclick=\"quickchart('df-ed26ae34-46ef-4f3e-9684-56b68e276c45')\"\n",
              "            title=\"Suggest charts\"\n",
              "            style=\"display:none;\">\n",
              "\n",
              "<svg xmlns=\"http://www.w3.org/2000/svg\" height=\"24px\"viewBox=\"0 0 24 24\"\n",
              "     width=\"24px\">\n",
              "    <g>\n",
              "        <path d=\"M19 3H5c-1.1 0-2 .9-2 2v14c0 1.1.9 2 2 2h14c1.1 0 2-.9 2-2V5c0-1.1-.9-2-2-2zM9 17H7v-7h2v7zm4 0h-2V7h2v10zm4 0h-2v-4h2v4z\"/>\n",
              "    </g>\n",
              "</svg>\n",
              "  </button>\n",
              "\n",
              "<style>\n",
              "  .colab-df-quickchart {\n",
              "      --bg-color: #E8F0FE;\n",
              "      --fill-color: #1967D2;\n",
              "      --hover-bg-color: #E2EBFA;\n",
              "      --hover-fill-color: #174EA6;\n",
              "      --disabled-fill-color: #AAA;\n",
              "      --disabled-bg-color: #DDD;\n",
              "  }\n",
              "\n",
              "  [theme=dark] .colab-df-quickchart {\n",
              "      --bg-color: #3B4455;\n",
              "      --fill-color: #D2E3FC;\n",
              "      --hover-bg-color: #434B5C;\n",
              "      --hover-fill-color: #FFFFFF;\n",
              "      --disabled-bg-color: #3B4455;\n",
              "      --disabled-fill-color: #666;\n",
              "  }\n",
              "\n",
              "  .colab-df-quickchart {\n",
              "    background-color: var(--bg-color);\n",
              "    border: none;\n",
              "    border-radius: 50%;\n",
              "    cursor: pointer;\n",
              "    display: none;\n",
              "    fill: var(--fill-color);\n",
              "    height: 32px;\n",
              "    padding: 0;\n",
              "    width: 32px;\n",
              "  }\n",
              "\n",
              "  .colab-df-quickchart:hover {\n",
              "    background-color: var(--hover-bg-color);\n",
              "    box-shadow: 0 1px 2px rgba(60, 64, 67, 0.3), 0 1px 3px 1px rgba(60, 64, 67, 0.15);\n",
              "    fill: var(--button-hover-fill-color);\n",
              "  }\n",
              "\n",
              "  .colab-df-quickchart-complete:disabled,\n",
              "  .colab-df-quickchart-complete:disabled:hover {\n",
              "    background-color: var(--disabled-bg-color);\n",
              "    fill: var(--disabled-fill-color);\n",
              "    box-shadow: none;\n",
              "  }\n",
              "\n",
              "  .colab-df-spinner {\n",
              "    border: 2px solid var(--fill-color);\n",
              "    border-color: transparent;\n",
              "    border-bottom-color: var(--fill-color);\n",
              "    animation:\n",
              "      spin 1s steps(1) infinite;\n",
              "  }\n",
              "\n",
              "  @keyframes spin {\n",
              "    0% {\n",
              "      border-color: transparent;\n",
              "      border-bottom-color: var(--fill-color);\n",
              "      border-left-color: var(--fill-color);\n",
              "    }\n",
              "    20% {\n",
              "      border-color: transparent;\n",
              "      border-left-color: var(--fill-color);\n",
              "      border-top-color: var(--fill-color);\n",
              "    }\n",
              "    30% {\n",
              "      border-color: transparent;\n",
              "      border-left-color: var(--fill-color);\n",
              "      border-top-color: var(--fill-color);\n",
              "      border-right-color: var(--fill-color);\n",
              "    }\n",
              "    40% {\n",
              "      border-color: transparent;\n",
              "      border-right-color: var(--fill-color);\n",
              "      border-top-color: var(--fill-color);\n",
              "    }\n",
              "    60% {\n",
              "      border-color: transparent;\n",
              "      border-right-color: var(--fill-color);\n",
              "    }\n",
              "    80% {\n",
              "      border-color: transparent;\n",
              "      border-right-color: var(--fill-color);\n",
              "      border-bottom-color: var(--fill-color);\n",
              "    }\n",
              "    90% {\n",
              "      border-color: transparent;\n",
              "      border-bottom-color: var(--fill-color);\n",
              "    }\n",
              "  }\n",
              "</style>\n",
              "\n",
              "  <script>\n",
              "    async function quickchart(key) {\n",
              "      const quickchartButtonEl =\n",
              "        document.querySelector('#' + key + ' button');\n",
              "      quickchartButtonEl.disabled = true;  // To prevent multiple clicks.\n",
              "      quickchartButtonEl.classList.add('colab-df-spinner');\n",
              "      try {\n",
              "        const charts = await google.colab.kernel.invokeFunction(\n",
              "            'suggestCharts', [key], {});\n",
              "      } catch (error) {\n",
              "        console.error('Error during call to suggestCharts:', error);\n",
              "      }\n",
              "      quickchartButtonEl.classList.remove('colab-df-spinner');\n",
              "      quickchartButtonEl.classList.add('colab-df-quickchart-complete');\n",
              "    }\n",
              "    (() => {\n",
              "      let quickchartButtonEl =\n",
              "        document.querySelector('#df-ed26ae34-46ef-4f3e-9684-56b68e276c45 button');\n",
              "      quickchartButtonEl.style.display =\n",
              "        google.colab.kernel.accessAllowed ? 'block' : 'none';\n",
              "    })();\n",
              "  </script>\n",
              "</div>\n",
              "    </div>\n",
              "  </div>\n"
            ]
          },
          "metadata": {},
          "execution_count": 76
        }
      ]
    },
    {
      "cell_type": "code",
      "source": [
        "# Extraction de la colonne des étiquettes du DataFrame\n",
        "labels = prediction.prediction\n",
        "\n",
        "# Création d'un nouveau DataFrame à partir de la colonne des étiquettes\n",
        "labels = pd.DataFrame(labels)\n",
        "\n",
        "# Calcul de la fréquence et du pourcentage des différentes étiquettes\n",
        "labels_count = labels[\"prediction\"].value_counts()\n",
        "labels_percentage = labels_count / len(labels) * 100\n",
        "\n",
        "# Affichage de la fréquence des étiquettes sous forme de diagramme à barres avec le pourcentage\n",
        "fig, ax = plt.subplots()\n",
        "bars = ax.bar(labels_count.index, labels_count.values, color=['red', 'green'])\n",
        "\n",
        "# Ajout des étiquettes de pourcentage au-dessus des barres\n",
        "for bar, percentage in zip(bars, labels_percentage):\n",
        "    height = bar.get_height()\n",
        "    ax.text(bar.get_x() + bar.get_width() / 2, height, f'{percentage:.2f}%',\n",
        "            ha='center', va='bottom', fontsize=10, color='black')\n",
        "\n",
        "# Configuration du diagramme\n",
        "ax.set_xlabel(\"Label\")  # Axe des x : Étiquettes\n",
        "ax.set_ylabel(\"Fréquences\")  # Axe des y : Fréquences\n",
        "ax.set_title(\"Fréquence des Étiquettes dans le Jeu de Données\")  # Titre du diagramme\n",
        "plt.show()"
      ],
      "metadata": {
        "colab": {
          "base_uri": "https://localhost:8080/",
          "height": 475
        },
        "id": "2jhylAHRX_gk",
        "outputId": "64d01e5a-cdaa-401f-b646-35e504e2ddbc"
      },
      "id": "2jhylAHRX_gk",
      "execution_count": null,
      "outputs": [
        {
          "output_type": "display_data",
          "data": {
            "text/plain": [
              "<Figure size 640x480 with 1 Axes>"
            ],
            "image/png": "[encoded data removed]"
          },
          "metadata": {}
        }
      ]
    },
    {
      "cell_type": "markdown",
      "metadata": {
        "id": "bHGq__gWogw6"
      },
      "source": [
        "#Mise en place d'un pipline"
      ],
      "id": "bHGq__gWogw6"
    },
    {
      "cell_type": "code",
      "execution_count": null,
      "metadata": {
        "id": "WwZQKisMlt2F"
      },
      "outputs": [],
      "source": [
        "from sklearn.pipeline import make_pipeline\n",
        "\n",
        "\n",
        "# Instancier le vectorizer (TfidfVectorizer dans ce cas)\n",
        "vectorizer = TfidfVectorizer(tokenizer=preprocess_initial)\n",
        "\n",
        "\n",
        "# Créer le pipeline avec vectorizer et DecisionTreeClassifier\n",
        "pipeline_ls = make_pipeline(\n",
        "    vectorizer,\n",
        "    DecisionTreeClassifier()\n",
        ")"
      ],
      "id": "WwZQKisMlt2F"
    },
    {
      "cell_type": "code",
      "execution_count": null,
      "metadata": {
        "id": "BekYjGj-rdre"
      },
      "outputs": [],
      "source": [
        "from sklearn.model_selection import train_test_split\n",
        "\n",
        "trainX, testX, trainY, testY = train_test_split(df_phish.url, df_phish.label)"
      ],
      "id": "BekYjGj-rdre"
    },
    {
      "cell_type": "code",
      "execution_count": null,
      "metadata": {
        "colab": {
          "base_uri": "https://localhost:8080/",
          "height": 179
        },
        "id": "96erzeeUsP-1",
        "outputId": "824beaed-f77e-4f75-e56e-cf3ff84b3617"
      },
      "outputs": [
        {
          "output_type": "stream",
          "name": "stderr",
          "text": [
            "/usr/local/lib/python3.10/dist-packages/sklearn/feature_extraction/text.py:528: UserWarning: The parameter 'token_pattern' will not be used since 'tokenizer' is not None'\n",
            "  warnings.warn(\n"
          ]
        },
        {
          "output_type": "execute_result",
          "data": {
            "text/plain": [
              "Pipeline(steps=[('tfidfvectorizer',\n",
              "                 TfidfVectorizer(tokenizer=<function preprocess_initial at 0x7f83743becb0>)),\n",
              "                ('decisiontreeclassifier', DecisionTreeClassifier())])"
            ],
            "text/html": [
              "<style>#sk-container-id-1 {color: black;background-color: white;}#sk-container-id-1 pre{padding: 0;}#sk-container-id-1 div.sk-toggleable {background-color: white;}#sk-container-id-1 label.sk-toggleable__label {cursor: pointer;display: block;width: 100%;margin-bottom: 0;padding: 0.3em;box-sizing: border-box;text-align: center;}#sk-container-id-1 label.sk-toggleable__label-arrow:before {content: \"▸\";float: left;margin-right: 0.25em;color: #696969;}#sk-container-id-1 label.sk-toggleable__label-arrow:hover:before {color: black;}#sk-container-id-1 div.sk-estimator:hover label.sk-toggleable__label-arrow:before {color: black;}#sk-container-id-1 div.sk-toggleable__content {max-height: 0;max-width: 0;overflow: hidden;text-align: left;background-color: #f0f8ff;}#sk-container-id-1 div.sk-toggleable__content pre {margin: 0.2em;color: black;border-radius: 0.25em;background-color: #f0f8ff;}#sk-container-id-1 input.sk-toggleable__control:checked~div.sk-toggleable__content {max-height: 200px;max-width: 100%;overflow: auto;}#sk-container-id-1 input.sk-toggleable__control:checked~label.sk-toggleable__label-arrow:before {content: \"▾\";}#sk-container-id-1 div.sk-estimator input.sk-toggleable__control:checked~label.sk-toggleable__label {background-color: #d4ebff;}#sk-container-id-1 div.sk-label input.sk-toggleable__control:checked~label.sk-toggleable__label {background-color: #d4ebff;}#sk-container-id-1 input.sk-hidden--visually {border: 0;clip: rect(1px 1px 1px 1px);clip: rect(1px, 1px, 1px, 1px);height: 1px;margin: -1px;overflow: hidden;padding: 0;position: absolute;width: 1px;}#sk-container-id-1 div.sk-estimator {font-family: monospace;background-color: #f0f8ff;border: 1px dotted black;border-radius: 0.25em;box-sizing: border-box;margin-bottom: 0.5em;}#sk-container-id-1 div.sk-estimator:hover {background-color: #d4ebff;}#sk-container-id-1 div.sk-parallel-item::after {content: \"\";width: 100%;border-bottom: 1px solid gray;flex-grow: 1;}#sk-container-id-1 div.sk-label:hover label.sk-toggleable__label {background-color: #d4ebff;}#sk-container-id-1 div.sk-serial::before {content: \"\";position: absolute;border-left: 1px solid gray;box-sizing: border-box;top: 0;bottom: 0;left: 50%;z-index: 0;}#sk-container-id-1 div.sk-serial {display: flex;flex-direction: column;align-items: center;background-color: white;padding-right: 0.2em;padding-left: 0.2em;position: relative;}#sk-container-id-1 div.sk-item {position: relative;z-index: 1;}#sk-container-id-1 div.sk-parallel {display: flex;align-items: stretch;justify-content: center;background-color: white;position: relative;}#sk-container-id-1 div.sk-item::before, #sk-container-id-1 div.sk-parallel-item::before {content: \"\";position: absolute;border-left: 1px solid gray;box-sizing: border-box;top: 0;bottom: 0;left: 50%;z-index: -1;}#sk-container-id-1 div.sk-parallel-item {display: flex;flex-direction: column;z-index: 1;position: relative;background-color: white;}#sk-container-id-1 div.sk-parallel-item:first-child::after {align-self: flex-end;width: 50%;}#sk-container-id-1 div.sk-parallel-item:last-child::after {align-self: flex-start;width: 50%;}#sk-container-id-1 div.sk-parallel-item:only-child::after {width: 0;}#sk-container-id-1 div.sk-dashed-wrapped {border: 1px dashed gray;margin: 0 0.4em 0.5em 0.4em;box-sizing: border-box;padding-bottom: 0.4em;background-color: white;}#sk-container-id-1 div.sk-label label {font-family: monospace;font-weight: bold;display: inline-block;line-height: 1.2em;}#sk-container-id-1 div.sk-label-container {text-align: center;}#sk-container-id-1 div.sk-container {/* jupyter's `normalize.less` sets `[hidden] { display: none; }` but bootstrap.min.css set `[hidden] { display: none !important; }` so we also need the `!important` here to be able to override the default hidden behavior on the sphinx rendered scikit-learn.org. See: https://github.com/scikit-learn/scikit-learn/issues/21755 */display: inline-block !important;position: relative;}#sk-container-id-1 div.sk-text-repr-fallback {display: none;}</style><div id=\"sk-container-id-1\" class=\"sk-top-container\"><div class=\"sk-text-repr-fallback\"><pre>Pipeline(steps=[(&#x27;tfidfvectorizer&#x27;,\n",
              "                 TfidfVectorizer(tokenizer=&lt;function preprocess_initial at 0x7f83743becb0&gt;)),\n",
              "                (&#x27;decisiontreeclassifier&#x27;, DecisionTreeClassifier())])</pre><b>In a Jupyter environment, please rerun this cell to show the HTML representation or trust the notebook. <br />On GitHub, the HTML representation is unable to render, please try loading this page with nbviewer.org.</b></div><div class=\"sk-container\" hidden><div class=\"sk-item sk-dashed-wrapped\"><div class=\"sk-label-container\"><div class=\"sk-label sk-toggleable\"><input class=\"sk-toggleable__control sk-hidden--visually\" id=\"sk-estimator-id-1\" type=\"checkbox\" ><label for=\"sk-estimator-id-1\" class=\"sk-toggleable__label sk-toggleable__label-arrow\">Pipeline</label><div class=\"sk-toggleable__content\"><pre>Pipeline(steps=[(&#x27;tfidfvectorizer&#x27;,\n",
              "                 TfidfVectorizer(tokenizer=&lt;function preprocess_initial at 0x7f83743becb0&gt;)),\n",
              "                (&#x27;decisiontreeclassifier&#x27;, DecisionTreeClassifier())])</pre></div></div></div><div class=\"sk-serial\"><div class=\"sk-item\"><div class=\"sk-estimator sk-toggleable\"><input class=\"sk-toggleable__control sk-hidden--visually\" id=\"sk-estimator-id-2\" type=\"checkbox\" ><label for=\"sk-estimator-id-2\" class=\"sk-toggleable__label sk-toggleable__label-arrow\">TfidfVectorizer</label><div class=\"sk-toggleable__content\"><pre>TfidfVectorizer(tokenizer=&lt;function preprocess_initial at 0x7f83743becb0&gt;)</pre></div></div></div><div class=\"sk-item\"><div class=\"sk-estimator sk-toggleable\"><input class=\"sk-toggleable__control sk-hidden--visually\" id=\"sk-estimator-id-3\" type=\"checkbox\" ><label for=\"sk-estimator-id-3\" class=\"sk-toggleable__label sk-toggleable__label-arrow\">DecisionTreeClassifier</label><div class=\"sk-toggleable__content\"><pre>DecisionTreeClassifier()</pre></div></div></div></div></div></div></div>"
            ]
          },
          "metadata": {},
          "execution_count": 82
        }
      ],
      "source": [
        "pipeline_ls.fit(trainX,trainY)"
      ],
      "id": "96erzeeUsP-1"
    },
    {
      "cell_type": "code",
      "execution_count": null,
      "metadata": {
        "colab": {
          "base_uri": "https://localhost:8080/"
        },
        "id": "cyU3JfaatN2l",
        "outputId": "411a8995-9919-4e7d-bbae-c24ca6e6d31b"
      },
      "outputs": [
        {
          "output_type": "execute_result",
          "data": {
            "text/plain": [
              "0.928413535113076"
            ]
          },
          "metadata": {},
          "execution_count": 83
        }
      ],
      "source": [
        "pipeline_ls.score(testX,testY)"
      ],
      "id": "cyU3JfaatN2l"
    },
    {
      "cell_type": "code",
      "execution_count": null,
      "metadata": {
        "colab": {
          "base_uri": "https://localhost:8080/",
          "height": 646
        },
        "id": "SfH6axDft0b6",
        "outputId": "eb61882b-438f-4638-edce-76f106be0aab"
      },
      "outputs": [
        {
          "output_type": "stream",
          "name": "stdout",
          "text": [
            "Training Accuracy : 1.0\n",
            "Testing Accuracy : 0.928413535113076\n",
            "\n",
            "CLASSIFICATION REPORT\n",
            "\n",
            "              precision    recall  f1-score   support\n",
            "\n",
            "     fishing       0.96      0.95      0.95      4489\n",
            "       legit       0.84      0.86      0.85      1392\n",
            "\n",
            "    accuracy                           0.93      5881\n",
            "   macro avg       0.90      0.90      0.90      5881\n",
            "weighted avg       0.93      0.93      0.93      5881\n",
            "\n",
            "\n",
            "CONFUSION MATRIX\n"
          ]
        },
        {
          "output_type": "display_data",
          "data": {
            "text/plain": [
              "<Figure size 600x400 with 2 Axes>"
            ],
            "image/png": "[encoded data removed]"
          },
          "metadata": {}
        }
      ],
      "source": [
        "# Évaluation des performances du modèle sur les données d'entraînement\n",
        "print('Training Accuracy :', pipeline_ls.score(trainX, trainY))\n",
        "\n",
        "# Évaluation des performances du modèle sur les données de test\n",
        "print('Testing Accuracy :', pipeline_ls.score(testX, testY))\n",
        "\n",
        "# Calcul de la matrice de confusion sur les données de test\n",
        "con_mat = pd.DataFrame(confusion_matrix(pipeline_ls.predict(testX), testY),\n",
        "            columns=['Predicted:fishing', 'Predicted:legit'],\n",
        "            index=['Actual:fishing', 'Actual:legit'])\n",
        "\n",
        "# Affichage du rapport de classification\n",
        "print('\\nCLASSIFICATION REPORT\\n')\n",
        "print(classification_report(pipeline_ls.predict(testX), testY,\n",
        "                            target_names=['fishing', 'legit']))\n",
        "\n",
        "# Affichage de la matrice de confusion sous forme de figure\n",
        "print('\\nCONFUSION MATRIX')\n",
        "plt.figure(figsize=(6, 4))\n",
        "sns.heatmap(con_mat, annot=True, fmt='d', cmap=\"coolwarm\")\n",
        "\n",
        "# Affichage de la figure\n",
        "plt.show()"
      ],
      "id": "SfH6axDft0b6"
    },
    {
      "cell_type": "code",
      "execution_count": null,
      "metadata": {
        "id": "Ra3_kuq3v6XR"
      },
      "outputs": [],
      "source": [
        "import pickle\n",
        "\n",
        "\n",
        "pickle.dump(pipeline_ls,open('/content/drive/MyDrive/ProjetData354/Projet1/phishingDT.pkl','wb'))\n"
      ],
      "id": "Ra3_kuq3v6XR"
    },
    {
      "cell_type": "code",
      "execution_count": null,
      "metadata": {
        "colab": {
          "base_uri": "https://localhost:8080/"
        },
        "id": "tyJqf20OxU1p",
        "outputId": "abeafafc-b614-42ba-9941-93f967f937b4"
      },
      "outputs": [
        {
          "output_type": "stream",
          "name": "stdout",
          "text": [
            "0.928413535113076\n"
          ]
        }
      ],
      "source": [
        "loaded_model = pickle.load(open('/content/drive/MyDrive/ProjetData354/Projet1/phishingDT.pkl', 'rb'))\n",
        "result = loaded_model.score(testX,testY)\n",
        "print(result)"
      ],
      "id": "tyJqf20OxU1p"
    },
    {
      "cell_type": "code",
      "execution_count": null,
      "metadata": {
        "colab": {
          "base_uri": "https://localhost:8080/"
        },
        "id": "rzOk5phfyEaL",
        "outputId": "609886f4-e2ae-4747-bda4-ec7dba874810"
      },
      "outputs": [
        {
          "output_type": "stream",
          "name": "stdout",
          "text": [
            "[0 0 1 0]\n",
            "----------------------------------------\n",
            "[1 0 1 1]\n"
          ]
        }
      ],
      "source": [
        "predict_bad = ['yeniik.com.tr/wp-admin/js/login.alibaba.com/login.jsp.php','fazan-pacir.rs/temp/libraries/ipad','tubemoviez.exe','svision-online.de/mgfi/administrator/components/com_babackup/classes/fx29id1.txt']\n",
        "predict_good = ['youtube.com/','youtube.com/watch?v=qI0TQJI3vdU','retailhellunderground.com/','restorevisioncenters.com/html/technology.html']\n",
        "loaded_model = pickle.load(open('/content/drive/MyDrive/ProjetData354/Projet1/phishingDT.pkl', 'rb'))\n",
        "# predict_bad = vectorizers.transform(predict_bad)\n",
        "# predict_good = vectorizer.transform(predict_good)\n",
        "result = loaded_model.predict(predict_bad)\n",
        "result2 = loaded_model.predict(predict_good)\n",
        "print(result)\n",
        "print(\"-\"*40)\n",
        "print(result2)"
      ],
      "id": "rzOk5phfyEaL"
    },
    {
      "cell_type": "markdown",
      "source": [
        "# Mise en production du modèle\n",
        "\n"
      ],
      "metadata": {
        "id": "-9elbA78f-7s"
      },
      "id": "-9elbA78f-7s"
    },
    {
      "cell_type": "markdown",
      "source": [
        " Cliquer ici pour faire des tests:\n",
        " # http://fotiemb.pythonanywhere.com/\n"
      ],
      "metadata": {
        "id": "x-hAauQbgGsC"
      },
      "id": "x-hAauQbgGsC"
    }
  ],
  "metadata": {
    "colab": {
      "provenance": [],
      "gpuType": "T4"
    },
    "kernelspec": {
      "display_name": "Python 3",
      "name": "python3"
    },
    "language_info": {
      "codemirror_mode": {
        "name": "ipython",
        "version": 3
      },
      "file_extension": ".py",
      "mimetype": "text/x-python",
      "name": "python",
      "nbconvert_exporter": "python",
      "pygments_lexer": "ipython3",
      "version": "3.12.0"
    },
    "accelerator": "GPU"
  },
  "nbformat": 4,
  "nbformat_minor": 5
}