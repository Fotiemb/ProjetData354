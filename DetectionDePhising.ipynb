{
  "cells": [
    {
      "cell_type": "code",
      "execution_count": 106,
      "metadata": {
        "id": "b7db6923-c3ea-42ac-9a79-a6074f15d504"
      },
      "outputs": [],
      "source": [
        "import numpy as np\n",
        "import pandas as pd\n",
        "import seaborn as sns\n",
        "import matplotlib.pyplot as plt\n",
        "from wordcloud import WordCloud, STOPWORDS"
      ],
      "id": "b7db6923-c3ea-42ac-9a79-a6074f15d504"
    },
    {
      "cell_type": "code",
      "execution_count": 107,
      "metadata": {
        "colab": {
          "base_uri": "https://localhost:8080/"
        },
        "id": "kY8r33QmyYwb",
        "outputId": "7cdd257f-72a4-4658-9229-3890afe41d9b"
      },
      "outputs": [
        {
          "output_type": "stream",
          "name": "stdout",
          "text": [
            "Drive already mounted at /content/drive; to attempt to forcibly remount, call drive.mount(\"/content/drive\", force_remount=True).\n"
          ]
        }
      ],
      "source": [
        "from google.colab import drive\n",
        "drive.mount('/content/drive')"
      ],
      "id": "kY8r33QmyYwb"
    },
    {
      "cell_type": "code",
      "execution_count": 108,
      "metadata": {
        "id": "c59ff49d-5c50-4ceb-a5ce-4d2555268d68"
      },
      "outputs": [],
      "source": [
        "df_phish = pd.read_csv(\"/content/drive/MyDrive/ProjetData354/Projet1/fishing-train.csv\")"
      ],
      "id": "c59ff49d-5c50-4ceb-a5ce-4d2555268d68"
    },
    {
      "cell_type": "code",
      "execution_count": 109,
      "metadata": {
        "colab": {
          "base_uri": "https://localhost:8080/",
          "height": 206
        },
        "id": "7b635957-250f-4d96-a743-76c94c790523",
        "outputId": "bfb2eee5-1803-47f4-c03d-658f5f5f9fb6"
      },
      "outputs": [
        {
          "output_type": "execute_result",
          "data": {
            "text/plain": [
              "                                                 url    label\n",
              "0  http://mylust.com/videos/198456/svelte-nympho-...    legit\n",
              "1  http://serverfault.com/questions/676825/basic-...    legit\n",
              "2  http://otomoto.pl/osobowe/bmw/seria-3/e36-1990...    legit\n",
              "3  http://motthegioi.vn/khoa-hoc-giao-duc/du-hoc/...    legit\n",
              "4        https://att-yahoo-mail-2023.weeblysite.com/  fishing"
            ],
            "text/html": [
              "\n",
              "  <div id=\"df-f6ce2817-e79e-4b5c-a243-4da5d66abe9b\" class=\"colab-df-container\">\n",
              "    <div>\n",
              "<style scoped>\n",
              "    .dataframe tbody tr th:only-of-type {\n",
              "        vertical-align: middle;\n",
              "    }\n",
              "\n",
              "    .dataframe tbody tr th {\n",
              "        vertical-align: top;\n",
              "    }\n",
              "\n",
              "    .dataframe thead th {\n",
              "        text-align: right;\n",
              "    }\n",
              "</style>\n",
              "<table border=\"1\" class=\"dataframe\">\n",
              "  <thead>\n",
              "    <tr style=\"text-align: right;\">\n",
              "      <th></th>\n",
              "      <th>url</th>\n",
              "      <th>label</th>\n",
              "    </tr>\n",
              "  </thead>\n",
              "  <tbody>\n",
              "    <tr>\n",
              "      <th>0</th>\n",
              "      <td>http://mylust.com/videos/198456/svelte-nympho-...</td>\n",
              "      <td>legit</td>\n",
              "    </tr>\n",
              "    <tr>\n",
              "      <th>1</th>\n",
              "      <td>http://serverfault.com/questions/676825/basic-...</td>\n",
              "      <td>legit</td>\n",
              "    </tr>\n",
              "    <tr>\n",
              "      <th>2</th>\n",
              "      <td>http://otomoto.pl/osobowe/bmw/seria-3/e36-1990...</td>\n",
              "      <td>legit</td>\n",
              "    </tr>\n",
              "    <tr>\n",
              "      <th>3</th>\n",
              "      <td>http://motthegioi.vn/khoa-hoc-giao-duc/du-hoc/...</td>\n",
              "      <td>legit</td>\n",
              "    </tr>\n",
              "    <tr>\n",
              "      <th>4</th>\n",
              "      <td>https://att-yahoo-mail-2023.weeblysite.com/</td>\n",
              "      <td>fishing</td>\n",
              "    </tr>\n",
              "  </tbody>\n",
              "</table>\n",
              "</div>\n",
              "    <div class=\"colab-df-buttons\">\n",
              "\n",
              "  <div class=\"colab-df-container\">\n",
              "    <button class=\"colab-df-convert\" onclick=\"convertToInteractive('df-f6ce2817-e79e-4b5c-a243-4da5d66abe9b')\"\n",
              "            title=\"Convert this dataframe to an interactive table.\"\n",
              "            style=\"display:none;\">\n",
              "\n",
              "  <svg xmlns=\"http://www.w3.org/2000/svg\" height=\"24px\" viewBox=\"0 -960 960 960\">\n",
              "    <path d=\"M120-120v-720h720v720H120Zm60-500h600v-160H180v160Zm220 220h160v-160H400v160Zm0 220h160v-160H400v160ZM180-400h160v-160H180v160Zm440 0h160v-160H620v160ZM180-180h160v-160H180v160Zm440 0h160v-160H620v160Z\"/>\n",
              "  </svg>\n",
              "    </button>\n",
              "\n",
              "  <style>\n",
              "    .colab-df-container {\n",
              "      display:flex;\n",
              "      gap: 12px;\n",
              "    }\n",
              "\n",
              "    .colab-df-convert {\n",
              "      background-color: #E8F0FE;\n",
              "      border: none;\n",
              "      border-radius: 50%;\n",
              "      cursor: pointer;\n",
              "      display: none;\n",
              "      fill: #1967D2;\n",
              "      height: 32px;\n",
              "      padding: 0 0 0 0;\n",
              "      width: 32px;\n",
              "    }\n",
              "\n",
              "    .colab-df-convert:hover {\n",
              "      background-color: #E2EBFA;\n",
              "      box-shadow: 0px 1px 2px rgba(60, 64, 67, 0.3), 0px 1px 3px 1px rgba(60, 64, 67, 0.15);\n",
              "      fill: #174EA6;\n",
              "    }\n",
              "\n",
              "    .colab-df-buttons div {\n",
              "      margin-bottom: 4px;\n",
              "    }\n",
              "\n",
              "    [theme=dark] .colab-df-convert {\n",
              "      background-color: #3B4455;\n",
              "      fill: #D2E3FC;\n",
              "    }\n",
              "\n",
              "    [theme=dark] .colab-df-convert:hover {\n",
              "      background-color: #434B5C;\n",
              "      box-shadow: 0px 1px 3px 1px rgba(0, 0, 0, 0.15);\n",
              "      filter: drop-shadow(0px 1px 2px rgba(0, 0, 0, 0.3));\n",
              "      fill: #FFFFFF;\n",
              "    }\n",
              "  </style>\n",
              "\n",
              "    <script>\n",
              "      const buttonEl =\n",
              "        document.querySelector('#df-f6ce2817-e79e-4b5c-a243-4da5d66abe9b button.colab-df-convert');\n",
              "      buttonEl.style.display =\n",
              "        google.colab.kernel.accessAllowed ? 'block' : 'none';\n",
              "\n",
              "      async function convertToInteractive(key) {\n",
              "        const element = document.querySelector('#df-f6ce2817-e79e-4b5c-a243-4da5d66abe9b');\n",
              "        const dataTable =\n",
              "          await google.colab.kernel.invokeFunction('convertToInteractive',\n",
              "                                                    [key], {});\n",
              "        if (!dataTable) return;\n",
              "\n",
              "        const docLinkHtml = 'Like what you see? Visit the ' +\n",
              "          '<a target=\"_blank\" href=https://colab.research.google.com/notebooks/data_table.ipynb>data table notebook</a>'\n",
              "          + ' to learn more about interactive tables.';\n",
              "        element.innerHTML = '';\n",
              "        dataTable['output_type'] = 'display_data';\n",
              "        await google.colab.output.renderOutput(dataTable, element);\n",
              "        const docLink = document.createElement('div');\n",
              "        docLink.innerHTML = docLinkHtml;\n",
              "        element.appendChild(docLink);\n",
              "      }\n",
              "    </script>\n",
              "  </div>\n",
              "\n",
              "\n",
              "<div id=\"df-0d64d37d-5eed-4840-bf3a-5db0d14c940f\">\n",
              "  <button class=\"colab-df-quickchart\" onclick=\"quickchart('df-0d64d37d-5eed-4840-bf3a-5db0d14c940f')\"\n",
              "            title=\"Suggest charts\"\n",
              "            style=\"display:none;\">\n",
              "\n",
              "<svg xmlns=\"http://www.w3.org/2000/svg\" height=\"24px\"viewBox=\"0 0 24 24\"\n",
              "     width=\"24px\">\n",
              "    <g>\n",
              "        <path d=\"M19 3H5c-1.1 0-2 .9-2 2v14c0 1.1.9 2 2 2h14c1.1 0 2-.9 2-2V5c0-1.1-.9-2-2-2zM9 17H7v-7h2v7zm4 0h-2V7h2v10zm4 0h-2v-4h2v4z\"/>\n",
              "    </g>\n",
              "</svg>\n",
              "  </button>\n",
              "\n",
              "<style>\n",
              "  .colab-df-quickchart {\n",
              "      --bg-color: #E8F0FE;\n",
              "      --fill-color: #1967D2;\n",
              "      --hover-bg-color: #E2EBFA;\n",
              "      --hover-fill-color: #174EA6;\n",
              "      --disabled-fill-color: #AAA;\n",
              "      --disabled-bg-color: #DDD;\n",
              "  }\n",
              "\n",
              "  [theme=dark] .colab-df-quickchart {\n",
              "      --bg-color: #3B4455;\n",
              "      --fill-color: #D2E3FC;\n",
              "      --hover-bg-color: #434B5C;\n",
              "      --hover-fill-color: #FFFFFF;\n",
              "      --disabled-bg-color: #3B4455;\n",
              "      --disabled-fill-color: #666;\n",
              "  }\n",
              "\n",
              "  .colab-df-quickchart {\n",
              "    background-color: var(--bg-color);\n",
              "    border: none;\n",
              "    border-radius: 50%;\n",
              "    cursor: pointer;\n",
              "    display: none;\n",
              "    fill: var(--fill-color);\n",
              "    height: 32px;\n",
              "    padding: 0;\n",
              "    width: 32px;\n",
              "  }\n",
              "\n",
              "  .colab-df-quickchart:hover {\n",
              "    background-color: var(--hover-bg-color);\n",
              "    box-shadow: 0 1px 2px rgba(60, 64, 67, 0.3), 0 1px 3px 1px rgba(60, 64, 67, 0.15);\n",
              "    fill: var(--button-hover-fill-color);\n",
              "  }\n",
              "\n",
              "  .colab-df-quickchart-complete:disabled,\n",
              "  .colab-df-quickchart-complete:disabled:hover {\n",
              "    background-color: var(--disabled-bg-color);\n",
              "    fill: var(--disabled-fill-color);\n",
              "    box-shadow: none;\n",
              "  }\n",
              "\n",
              "  .colab-df-spinner {\n",
              "    border: 2px solid var(--fill-color);\n",
              "    border-color: transparent;\n",
              "    border-bottom-color: var(--fill-color);\n",
              "    animation:\n",
              "      spin 1s steps(1) infinite;\n",
              "  }\n",
              "\n",
              "  @keyframes spin {\n",
              "    0% {\n",
              "      border-color: transparent;\n",
              "      border-bottom-color: var(--fill-color);\n",
              "      border-left-color: var(--fill-color);\n",
              "    }\n",
              "    20% {\n",
              "      border-color: transparent;\n",
              "      border-left-color: var(--fill-color);\n",
              "      border-top-color: var(--fill-color);\n",
              "    }\n",
              "    30% {\n",
              "      border-color: transparent;\n",
              "      border-left-color: var(--fill-color);\n",
              "      border-top-color: var(--fill-color);\n",
              "      border-right-color: var(--fill-color);\n",
              "    }\n",
              "    40% {\n",
              "      border-color: transparent;\n",
              "      border-right-color: var(--fill-color);\n",
              "      border-top-color: var(--fill-color);\n",
              "    }\n",
              "    60% {\n",
              "      border-color: transparent;\n",
              "      border-right-color: var(--fill-color);\n",
              "    }\n",
              "    80% {\n",
              "      border-color: transparent;\n",
              "      border-right-color: var(--fill-color);\n",
              "      border-bottom-color: var(--fill-color);\n",
              "    }\n",
              "    90% {\n",
              "      border-color: transparent;\n",
              "      border-bottom-color: var(--fill-color);\n",
              "    }\n",
              "  }\n",
              "</style>\n",
              "\n",
              "  <script>\n",
              "    async function quickchart(key) {\n",
              "      const quickchartButtonEl =\n",
              "        document.querySelector('#' + key + ' button');\n",
              "      quickchartButtonEl.disabled = true;  // To prevent multiple clicks.\n",
              "      quickchartButtonEl.classList.add('colab-df-spinner');\n",
              "      try {\n",
              "        const charts = await google.colab.kernel.invokeFunction(\n",
              "            'suggestCharts', [key], {});\n",
              "      } catch (error) {\n",
              "        console.error('Error during call to suggestCharts:', error);\n",
              "      }\n",
              "      quickchartButtonEl.classList.remove('colab-df-spinner');\n",
              "      quickchartButtonEl.classList.add('colab-df-quickchart-complete');\n",
              "    }\n",
              "    (() => {\n",
              "      let quickchartButtonEl =\n",
              "        document.querySelector('#df-0d64d37d-5eed-4840-bf3a-5db0d14c940f button');\n",
              "      quickchartButtonEl.style.display =\n",
              "        google.colab.kernel.accessAllowed ? 'block' : 'none';\n",
              "    })();\n",
              "  </script>\n",
              "</div>\n",
              "    </div>\n",
              "  </div>\n"
            ]
          },
          "metadata": {},
          "execution_count": 109
        }
      ],
      "source": [
        "df_phish.head(5)"
      ],
      "id": "7b635957-250f-4d96-a743-76c94c790523"
    },
    {
      "cell_type": "markdown",
      "metadata": {
        "id": "trI2q5EOkVe6"
      },
      "source": [
        "# Analyse des données"
      ],
      "id": "trI2q5EOkVe6"
    },
    {
      "cell_type": "code",
      "execution_count": 110,
      "metadata": {
        "colab": {
          "base_uri": "https://localhost:8080/"
        },
        "id": "8f9c5bcf-ab29-4d6a-8369-b61afeb0548d",
        "outputId": "04a2bb90-e36a-4db2-9519-41fd5be30217"
      },
      "outputs": [
        {
          "output_type": "execute_result",
          "data": {
            "text/plain": [
              "(23523, 2)"
            ]
          },
          "metadata": {},
          "execution_count": 110
        }
      ],
      "source": [
        "# Afficher le nombre de lignes et de colonnes de mon dataset\n",
        "df_phish.shape"
      ],
      "id": "8f9c5bcf-ab29-4d6a-8369-b61afeb0548d"
    },
    {
      "cell_type": "code",
      "execution_count": 111,
      "metadata": {
        "colab": {
          "base_uri": "https://localhost:8080/",
          "height": 206
        },
        "id": "8960c343-b749-4608-969a-46ff82a09648",
        "outputId": "91aa9a9a-771f-442f-8756-7c065987de15"
      },
      "outputs": [
        {
          "output_type": "execute_result",
          "data": {
            "text/plain": [
              "                                                     url  label\n",
              "23518  http://buzzfil.net/article/5285/c-mignon/ce-ch...  legit\n",
              "23519  http://kenh14.vn/doi-song/trao-luu-luon-song-c...  legit\n",
              "23520  http://abcnews.go.com/US/wireStory/exterminato...  legit\n",
              "23521  http://thenextweb.com/apps/2015/05/07/massive-...  legit\n",
              "23522  http://themeforest.net/item/mist-30-business-e...  legit"
            ],
            "text/html": [
              "\n",
              "  <div id=\"df-d42451db-214a-4ec6-b64d-150345786082\" class=\"colab-df-container\">\n",
              "    <div>\n",
              "<style scoped>\n",
              "    .dataframe tbody tr th:only-of-type {\n",
              "        vertical-align: middle;\n",
              "    }\n",
              "\n",
              "    .dataframe tbody tr th {\n",
              "        vertical-align: top;\n",
              "    }\n",
              "\n",
              "    .dataframe thead th {\n",
              "        text-align: right;\n",
              "    }\n",
              "</style>\n",
              "<table border=\"1\" class=\"dataframe\">\n",
              "  <thead>\n",
              "    <tr style=\"text-align: right;\">\n",
              "      <th></th>\n",
              "      <th>url</th>\n",
              "      <th>label</th>\n",
              "    </tr>\n",
              "  </thead>\n",
              "  <tbody>\n",
              "    <tr>\n",
              "      <th>23518</th>\n",
              "      <td>http://buzzfil.net/article/5285/c-mignon/ce-ch...</td>\n",
              "      <td>legit</td>\n",
              "    </tr>\n",
              "    <tr>\n",
              "      <th>23519</th>\n",
              "      <td>http://kenh14.vn/doi-song/trao-luu-luon-song-c...</td>\n",
              "      <td>legit</td>\n",
              "    </tr>\n",
              "    <tr>\n",
              "      <th>23520</th>\n",
              "      <td>http://abcnews.go.com/US/wireStory/exterminato...</td>\n",
              "      <td>legit</td>\n",
              "    </tr>\n",
              "    <tr>\n",
              "      <th>23521</th>\n",
              "      <td>http://thenextweb.com/apps/2015/05/07/massive-...</td>\n",
              "      <td>legit</td>\n",
              "    </tr>\n",
              "    <tr>\n",
              "      <th>23522</th>\n",
              "      <td>http://themeforest.net/item/mist-30-business-e...</td>\n",
              "      <td>legit</td>\n",
              "    </tr>\n",
              "  </tbody>\n",
              "</table>\n",
              "</div>\n",
              "    <div class=\"colab-df-buttons\">\n",
              "\n",
              "  <div class=\"colab-df-container\">\n",
              "    <button class=\"colab-df-convert\" onclick=\"convertToInteractive('df-d42451db-214a-4ec6-b64d-150345786082')\"\n",
              "            title=\"Convert this dataframe to an interactive table.\"\n",
              "            style=\"display:none;\">\n",
              "\n",
              "  <svg xmlns=\"http://www.w3.org/2000/svg\" height=\"24px\" viewBox=\"0 -960 960 960\">\n",
              "    <path d=\"M120-120v-720h720v720H120Zm60-500h600v-160H180v160Zm220 220h160v-160H400v160Zm0 220h160v-160H400v160ZM180-400h160v-160H180v160Zm440 0h160v-160H620v160ZM180-180h160v-160H180v160Zm440 0h160v-160H620v160Z\"/>\n",
              "  </svg>\n",
              "    </button>\n",
              "\n",
              "  <style>\n",
              "    .colab-df-container {\n",
              "      display:flex;\n",
              "      gap: 12px;\n",
              "    }\n",
              "\n",
              "    .colab-df-convert {\n",
              "      background-color: #E8F0FE;\n",
              "      border: none;\n",
              "      border-radius: 50%;\n",
              "      cursor: pointer;\n",
              "      display: none;\n",
              "      fill: #1967D2;\n",
              "      height: 32px;\n",
              "      padding: 0 0 0 0;\n",
              "      width: 32px;\n",
              "    }\n",
              "\n",
              "    .colab-df-convert:hover {\n",
              "      background-color: #E2EBFA;\n",
              "      box-shadow: 0px 1px 2px rgba(60, 64, 67, 0.3), 0px 1px 3px 1px rgba(60, 64, 67, 0.15);\n",
              "      fill: #174EA6;\n",
              "    }\n",
              "\n",
              "    .colab-df-buttons div {\n",
              "      margin-bottom: 4px;\n",
              "    }\n",
              "\n",
              "    [theme=dark] .colab-df-convert {\n",
              "      background-color: #3B4455;\n",
              "      fill: #D2E3FC;\n",
              "    }\n",
              "\n",
              "    [theme=dark] .colab-df-convert:hover {\n",
              "      background-color: #434B5C;\n",
              "      box-shadow: 0px 1px 3px 1px rgba(0, 0, 0, 0.15);\n",
              "      filter: drop-shadow(0px 1px 2px rgba(0, 0, 0, 0.3));\n",
              "      fill: #FFFFFF;\n",
              "    }\n",
              "  </style>\n",
              "\n",
              "    <script>\n",
              "      const buttonEl =\n",
              "        document.querySelector('#df-d42451db-214a-4ec6-b64d-150345786082 button.colab-df-convert');\n",
              "      buttonEl.style.display =\n",
              "        google.colab.kernel.accessAllowed ? 'block' : 'none';\n",
              "\n",
              "      async function convertToInteractive(key) {\n",
              "        const element = document.querySelector('#df-d42451db-214a-4ec6-b64d-150345786082');\n",
              "        const dataTable =\n",
              "          await google.colab.kernel.invokeFunction('convertToInteractive',\n",
              "                                                    [key], {});\n",
              "        if (!dataTable) return;\n",
              "\n",
              "        const docLinkHtml = 'Like what you see? Visit the ' +\n",
              "          '<a target=\"_blank\" href=https://colab.research.google.com/notebooks/data_table.ipynb>data table notebook</a>'\n",
              "          + ' to learn more about interactive tables.';\n",
              "        element.innerHTML = '';\n",
              "        dataTable['output_type'] = 'display_data';\n",
              "        await google.colab.output.renderOutput(dataTable, element);\n",
              "        const docLink = document.createElement('div');\n",
              "        docLink.innerHTML = docLinkHtml;\n",
              "        element.appendChild(docLink);\n",
              "      }\n",
              "    </script>\n",
              "  </div>\n",
              "\n",
              "\n",
              "<div id=\"df-6ae360fb-760f-4db5-b6ef-5a6a98f4c0da\">\n",
              "  <button class=\"colab-df-quickchart\" onclick=\"quickchart('df-6ae360fb-760f-4db5-b6ef-5a6a98f4c0da')\"\n",
              "            title=\"Suggest charts\"\n",
              "            style=\"display:none;\">\n",
              "\n",
              "<svg xmlns=\"http://www.w3.org/2000/svg\" height=\"24px\"viewBox=\"0 0 24 24\"\n",
              "     width=\"24px\">\n",
              "    <g>\n",
              "        <path d=\"M19 3H5c-1.1 0-2 .9-2 2v14c0 1.1.9 2 2 2h14c1.1 0 2-.9 2-2V5c0-1.1-.9-2-2-2zM9 17H7v-7h2v7zm4 0h-2V7h2v10zm4 0h-2v-4h2v4z\"/>\n",
              "    </g>\n",
              "</svg>\n",
              "  </button>\n",
              "\n",
              "<style>\n",
              "  .colab-df-quickchart {\n",
              "      --bg-color: #E8F0FE;\n",
              "      --fill-color: #1967D2;\n",
              "      --hover-bg-color: #E2EBFA;\n",
              "      --hover-fill-color: #174EA6;\n",
              "      --disabled-fill-color: #AAA;\n",
              "      --disabled-bg-color: #DDD;\n",
              "  }\n",
              "\n",
              "  [theme=dark] .colab-df-quickchart {\n",
              "      --bg-color: #3B4455;\n",
              "      --fill-color: #D2E3FC;\n",
              "      --hover-bg-color: #434B5C;\n",
              "      --hover-fill-color: #FFFFFF;\n",
              "      --disabled-bg-color: #3B4455;\n",
              "      --disabled-fill-color: #666;\n",
              "  }\n",
              "\n",
              "  .colab-df-quickchart {\n",
              "    background-color: var(--bg-color);\n",
              "    border: none;\n",
              "    border-radius: 50%;\n",
              "    cursor: pointer;\n",
              "    display: none;\n",
              "    fill: var(--fill-color);\n",
              "    height: 32px;\n",
              "    padding: 0;\n",
              "    width: 32px;\n",
              "  }\n",
              "\n",
              "  .colab-df-quickchart:hover {\n",
              "    background-color: var(--hover-bg-color);\n",
              "    box-shadow: 0 1px 2px rgba(60, 64, 67, 0.3), 0 1px 3px 1px rgba(60, 64, 67, 0.15);\n",
              "    fill: var(--button-hover-fill-color);\n",
              "  }\n",
              "\n",
              "  .colab-df-quickchart-complete:disabled,\n",
              "  .colab-df-quickchart-complete:disabled:hover {\n",
              "    background-color: var(--disabled-bg-color);\n",
              "    fill: var(--disabled-fill-color);\n",
              "    box-shadow: none;\n",
              "  }\n",
              "\n",
              "  .colab-df-spinner {\n",
              "    border: 2px solid var(--fill-color);\n",
              "    border-color: transparent;\n",
              "    border-bottom-color: var(--fill-color);\n",
              "    animation:\n",
              "      spin 1s steps(1) infinite;\n",
              "  }\n",
              "\n",
              "  @keyframes spin {\n",
              "    0% {\n",
              "      border-color: transparent;\n",
              "      border-bottom-color: var(--fill-color);\n",
              "      border-left-color: var(--fill-color);\n",
              "    }\n",
              "    20% {\n",
              "      border-color: transparent;\n",
              "      border-left-color: var(--fill-color);\n",
              "      border-top-color: var(--fill-color);\n",
              "    }\n",
              "    30% {\n",
              "      border-color: transparent;\n",
              "      border-left-color: var(--fill-color);\n",
              "      border-top-color: var(--fill-color);\n",
              "      border-right-color: var(--fill-color);\n",
              "    }\n",
              "    40% {\n",
              "      border-color: transparent;\n",
              "      border-right-color: var(--fill-color);\n",
              "      border-top-color: var(--fill-color);\n",
              "    }\n",
              "    60% {\n",
              "      border-color: transparent;\n",
              "      border-right-color: var(--fill-color);\n",
              "    }\n",
              "    80% {\n",
              "      border-color: transparent;\n",
              "      border-right-color: var(--fill-color);\n",
              "      border-bottom-color: var(--fill-color);\n",
              "    }\n",
              "    90% {\n",
              "      border-color: transparent;\n",
              "      border-bottom-color: var(--fill-color);\n",
              "    }\n",
              "  }\n",
              "</style>\n",
              "\n",
              "  <script>\n",
              "    async function quickchart(key) {\n",
              "      const quickchartButtonEl =\n",
              "        document.querySelector('#' + key + ' button');\n",
              "      quickchartButtonEl.disabled = true;  // To prevent multiple clicks.\n",
              "      quickchartButtonEl.classList.add('colab-df-spinner');\n",
              "      try {\n",
              "        const charts = await google.colab.kernel.invokeFunction(\n",
              "            'suggestCharts', [key], {});\n",
              "      } catch (error) {\n",
              "        console.error('Error during call to suggestCharts:', error);\n",
              "      }\n",
              "      quickchartButtonEl.classList.remove('colab-df-spinner');\n",
              "      quickchartButtonEl.classList.add('colab-df-quickchart-complete');\n",
              "    }\n",
              "    (() => {\n",
              "      let quickchartButtonEl =\n",
              "        document.querySelector('#df-6ae360fb-760f-4db5-b6ef-5a6a98f4c0da button');\n",
              "      quickchartButtonEl.style.display =\n",
              "        google.colab.kernel.accessAllowed ? 'block' : 'none';\n",
              "    })();\n",
              "  </script>\n",
              "</div>\n",
              "    </div>\n",
              "  </div>\n"
            ]
          },
          "metadata": {},
          "execution_count": 111
        }
      ],
      "source": [
        "# Afficher les dernières lignes du DataFrame\n",
        "df_phish.tail()"
      ],
      "id": "8960c343-b749-4608-969a-46ff82a09648"
    },
    {
      "cell_type": "code",
      "execution_count": 112,
      "metadata": {
        "colab": {
          "base_uri": "https://localhost:8080/"
        },
        "id": "LOUigZrInZMJ",
        "outputId": "0718d47e-fa20-4a72-ea98-f575d1e40f93"
      },
      "outputs": [
        {
          "output_type": "execute_result",
          "data": {
            "text/plain": [
              "legit      17688\n",
              "fishing     5835\n",
              "Name: label, dtype: int64"
            ]
          },
          "metadata": {},
          "execution_count": 112
        }
      ],
      "source": [
        "# renvoyer le décompte du nombre d'occurrences de chaque valeur unique dans la colonne 'label' du DataFrame\n",
        "df_phish.label.value_counts()"
      ],
      "id": "LOUigZrInZMJ"
    },
    {
      "cell_type": "code",
      "execution_count": 113,
      "metadata": {
        "colab": {
          "base_uri": "https://localhost:8080/"
        },
        "id": "e52cf522-669c-41cd-a9f8-ddd57e0bbac0",
        "outputId": "a0d1424a-5f20-4762-84af-7ca474f0d42c"
      },
      "outputs": [
        {
          "output_type": "execute_result",
          "data": {
            "text/plain": [
              "Index(['url', 'label'], dtype='object')"
            ]
          },
          "metadata": {},
          "execution_count": 113
        }
      ],
      "source": [
        "# Afficher les colonnes\n",
        "df_phish.columns"
      ],
      "id": "e52cf522-669c-41cd-a9f8-ddd57e0bbac0"
    },
    {
      "cell_type": "code",
      "execution_count": 114,
      "metadata": {
        "colab": {
          "base_uri": "https://localhost:8080/"
        },
        "id": "efbee4a5-5b2b-43a5-bb19-120e464423e7",
        "outputId": "f8b7a880-210c-4127-86fb-7c4bfb8071fb"
      },
      "outputs": [
        {
          "output_type": "stream",
          "name": "stdout",
          "text": [
            "<class 'pandas.core.frame.DataFrame'>\n",
            "RangeIndex: 23523 entries, 0 to 23522\n",
            "Data columns (total 2 columns):\n",
            " #   Column  Non-Null Count  Dtype \n",
            "---  ------  --------------  ----- \n",
            " 0   url     23523 non-null  object\n",
            " 1   label   23523 non-null  object\n",
            "dtypes: object(2)\n",
            "memory usage: 367.7+ KB\n"
          ]
        }
      ],
      "source": [
        "# Information sur le DataFrame\n",
        "df_phish.info()"
      ],
      "id": "efbee4a5-5b2b-43a5-bb19-120e464423e7"
    },
    {
      "cell_type": "markdown",
      "metadata": {
        "id": "7ec80c57-ad8d-441f-96f2-8fc0f9e53843"
      },
      "source": [
        "À propos de l'ensemble de données nous avons 23523 entrées uniques.\n",
        "Il y a deux colonnes, la colonne d'étiquette est une colonne de prédiction dont 2 catégories:\n",
        "- `legit`, ce qui signifie que les URL ne contiennent pas d'éléments malveillants et que ce site n'est pas un phishing.\n",
        "\n",
        "- `fishing` , ce qui signifie que les URL contiennent des éléments malveillants et que ce site est un site de phishing.\n",
        "\n",
        "Il n'y a aucune valeur manquante dans l'ensemble de données."
      ],
      "id": "7ec80c57-ad8d-441f-96f2-8fc0f9e53843"
    },
    {
      "cell_type": "code",
      "execution_count": 115,
      "metadata": {
        "colab": {
          "base_uri": "https://localhost:8080/"
        },
        "id": "2610a865-b72d-48d7-a100-a0bddae1cbec",
        "outputId": "775f4799-a40d-4d4e-ea26-c02e41da6b7e"
      },
      "outputs": [
        {
          "output_type": "execute_result",
          "data": {
            "text/plain": [
              "url      0\n",
              "label    0\n",
              "dtype: int64"
            ]
          },
          "metadata": {},
          "execution_count": 115
        }
      ],
      "source": [
        "# compter le nombre de valeurs nulles dans chaque colonne du DataFrame\n",
        "df_phish.isnull().sum()"
      ],
      "id": "2610a865-b72d-48d7-a100-a0bddae1cbec"
    },
    {
      "cell_type": "code",
      "execution_count": 116,
      "metadata": {
        "colab": {
          "base_uri": "https://localhost:8080/"
        },
        "id": "-824knU4Tvz-",
        "outputId": "690aab32-bb24-4feb-fe62-6c6eea83051e"
      },
      "outputs": [
        {
          "output_type": "execute_result",
          "data": {
            "text/plain": [
              "0"
            ]
          },
          "metadata": {},
          "execution_count": 116
        }
      ],
      "source": [
        "# compter le nombre de valeurs dupliquées dans la colonne \"url\" du DataFrame.\n",
        "df_phish.url.duplicated().sum()"
      ],
      "id": "-824knU4Tvz-"
    },
    {
      "cell_type": "code",
      "execution_count": 117,
      "metadata": {
        "colab": {
          "base_uri": "https://localhost:8080/",
          "height": 385
        },
        "id": "2d844c68-2864-4483-ad6d-9dac8c0c1095",
        "outputId": "47c9566c-9949-4818-d3dc-bb962e627a37"
      },
      "outputs": [
        {
          "output_type": "execute_result",
          "data": {
            "text/plain": [
              "<Axes: >"
            ]
          },
          "metadata": {},
          "execution_count": 117
        },
        {
          "output_type": "display_data",
          "data": {
            "text/plain": [
              "<Figure size 800x400 with 1 Axes>"
            ],
            "image/png": "[encoded data removed]"
          },
          "metadata": {}
        }
      ],
      "source": [
        "# Créer une figure avec une taille de 8x4 pouces\n",
        "plt.figure(figsize=(8, 4))\n",
        "\n",
        "# Créer une carte thermique (heatmap) pour visualiser les valeurs nulles dans le DataFrame df_phish\n",
        "# yticklabels=False : Ne pas afficher les étiquettes sur l'axe des y\n",
        "# cbar=False : Ne pas afficher la barre de couleur sur le côté\n",
        "# cmap='plasma' : Utiliser la palette de couleurs 'plasma'\n",
        "sns.heatmap(df_phish.isnull(), yticklabels=False, cbar=False, cmap='plasma')\n"
      ],
      "id": "2d844c68-2864-4483-ad6d-9dac8c0c1095"
    },
    {
      "cell_type": "code",
      "execution_count": 118,
      "metadata": {
        "colab": {
          "base_uri": "https://localhost:8080/",
          "height": 175
        },
        "id": "7cb495b4-5cca-4845-a554-bbbbe87ce155",
        "outputId": "dad1764f-9050-436d-ca26-aae07db783db"
      },
      "outputs": [
        {
          "output_type": "execute_result",
          "data": {
            "text/plain": [
              "                                                      url  label\n",
              "count                                               23523  23523\n",
              "unique                                              23523      2\n",
              "top     http://mylust.com/videos/198456/svelte-nympho-...  legit\n",
              "freq                                                    1  17688"
            ],
            "text/html": [
              "\n",
              "  <div id=\"df-96019a32-468f-4681-8bdf-6c2e2d7cbcc8\" class=\"colab-df-container\">\n",
              "    <div>\n",
              "<style scoped>\n",
              "    .dataframe tbody tr th:only-of-type {\n",
              "        vertical-align: middle;\n",
              "    }\n",
              "\n",
              "    .dataframe tbody tr th {\n",
              "        vertical-align: top;\n",
              "    }\n",
              "\n",
              "    .dataframe thead th {\n",
              "        text-align: right;\n",
              "    }\n",
              "</style>\n",
              "<table border=\"1\" class=\"dataframe\">\n",
              "  <thead>\n",
              "    <tr style=\"text-align: right;\">\n",
              "      <th></th>\n",
              "      <th>url</th>\n",
              "      <th>label</th>\n",
              "    </tr>\n",
              "  </thead>\n",
              "  <tbody>\n",
              "    <tr>\n",
              "      <th>count</th>\n",
              "      <td>23523</td>\n",
              "      <td>23523</td>\n",
              "    </tr>\n",
              "    <tr>\n",
              "      <th>unique</th>\n",
              "      <td>23523</td>\n",
              "      <td>2</td>\n",
              "    </tr>\n",
              "    <tr>\n",
              "      <th>top</th>\n",
              "      <td>http://mylust.com/videos/198456/svelte-nympho-...</td>\n",
              "      <td>legit</td>\n",
              "    </tr>\n",
              "    <tr>\n",
              "      <th>freq</th>\n",
              "      <td>1</td>\n",
              "      <td>17688</td>\n",
              "    </tr>\n",
              "  </tbody>\n",
              "</table>\n",
              "</div>\n",
              "    <div class=\"colab-df-buttons\">\n",
              "\n",
              "  <div class=\"colab-df-container\">\n",
              "    <button class=\"colab-df-convert\" onclick=\"convertToInteractive('df-96019a32-468f-4681-8bdf-6c2e2d7cbcc8')\"\n",
              "            title=\"Convert this dataframe to an interactive table.\"\n",
              "            style=\"display:none;\">\n",
              "\n",
              "  <svg xmlns=\"http://www.w3.org/2000/svg\" height=\"24px\" viewBox=\"0 -960 960 960\">\n",
              "    <path d=\"M120-120v-720h720v720H120Zm60-500h600v-160H180v160Zm220 220h160v-160H400v160Zm0 220h160v-160H400v160ZM180-400h160v-160H180v160Zm440 0h160v-160H620v160ZM180-180h160v-160H180v160Zm440 0h160v-160H620v160Z\"/>\n",
              "  </svg>\n",
              "    </button>\n",
              "\n",
              "  <style>\n",
              "    .colab-df-container {\n",
              "      display:flex;\n",
              "      gap: 12px;\n",
              "    }\n",
              "\n",
              "    .colab-df-convert {\n",
              "      background-color: #E8F0FE;\n",
              "      border: none;\n",
              "      border-radius: 50%;\n",
              "      cursor: pointer;\n",
              "      display: none;\n",
              "      fill: #1967D2;\n",
              "      height: 32px;\n",
              "      padding: 0 0 0 0;\n",
              "      width: 32px;\n",
              "    }\n",
              "\n",
              "    .colab-df-convert:hover {\n",
              "      background-color: #E2EBFA;\n",
              "      box-shadow: 0px 1px 2px rgba(60, 64, 67, 0.3), 0px 1px 3px 1px rgba(60, 64, 67, 0.15);\n",
              "      fill: #174EA6;\n",
              "    }\n",
              "\n",
              "    .colab-df-buttons div {\n",
              "      margin-bottom: 4px;\n",
              "    }\n",
              "\n",
              "    [theme=dark] .colab-df-convert {\n",
              "      background-color: #3B4455;\n",
              "      fill: #D2E3FC;\n",
              "    }\n",
              "\n",
              "    [theme=dark] .colab-df-convert:hover {\n",
              "      background-color: #434B5C;\n",
              "      box-shadow: 0px 1px 3px 1px rgba(0, 0, 0, 0.15);\n",
              "      filter: drop-shadow(0px 1px 2px rgba(0, 0, 0, 0.3));\n",
              "      fill: #FFFFFF;\n",
              "    }\n",
              "  </style>\n",
              "\n",
              "    <script>\n",
              "      const buttonEl =\n",
              "        document.querySelector('#df-96019a32-468f-4681-8bdf-6c2e2d7cbcc8 button.colab-df-convert');\n",
              "      buttonEl.style.display =\n",
              "        google.colab.kernel.accessAllowed ? 'block' : 'none';\n",
              "\n",
              "      async function convertToInteractive(key) {\n",
              "        const element = document.querySelector('#df-96019a32-468f-4681-8bdf-6c2e2d7cbcc8');\n",
              "        const dataTable =\n",
              "          await google.colab.kernel.invokeFunction('convertToInteractive',\n",
              "                                                    [key], {});\n",
              "        if (!dataTable) return;\n",
              "\n",
              "        const docLinkHtml = 'Like what you see? Visit the ' +\n",
              "          '<a target=\"_blank\" href=https://colab.research.google.com/notebooks/data_table.ipynb>data table notebook</a>'\n",
              "          + ' to learn more about interactive tables.';\n",
              "        element.innerHTML = '';\n",
              "        dataTable['output_type'] = 'display_data';\n",
              "        await google.colab.output.renderOutput(dataTable, element);\n",
              "        const docLink = document.createElement('div');\n",
              "        docLink.innerHTML = docLinkHtml;\n",
              "        element.appendChild(docLink);\n",
              "      }\n",
              "    </script>\n",
              "  </div>\n",
              "\n",
              "\n",
              "<div id=\"df-d0d5739a-73c3-4cc0-8bb0-a899a286a5c3\">\n",
              "  <button class=\"colab-df-quickchart\" onclick=\"quickchart('df-d0d5739a-73c3-4cc0-8bb0-a899a286a5c3')\"\n",
              "            title=\"Suggest charts\"\n",
              "            style=\"display:none;\">\n",
              "\n",
              "<svg xmlns=\"http://www.w3.org/2000/svg\" height=\"24px\"viewBox=\"0 0 24 24\"\n",
              "     width=\"24px\">\n",
              "    <g>\n",
              "        <path d=\"M19 3H5c-1.1 0-2 .9-2 2v14c0 1.1.9 2 2 2h14c1.1 0 2-.9 2-2V5c0-1.1-.9-2-2-2zM9 17H7v-7h2v7zm4 0h-2V7h2v10zm4 0h-2v-4h2v4z\"/>\n",
              "    </g>\n",
              "</svg>\n",
              "  </button>\n",
              "\n",
              "<style>\n",
              "  .colab-df-quickchart {\n",
              "      --bg-color: #E8F0FE;\n",
              "      --fill-color: #1967D2;\n",
              "      --hover-bg-color: #E2EBFA;\n",
              "      --hover-fill-color: #174EA6;\n",
              "      --disabled-fill-color: #AAA;\n",
              "      --disabled-bg-color: #DDD;\n",
              "  }\n",
              "\n",
              "  [theme=dark] .colab-df-quickchart {\n",
              "      --bg-color: #3B4455;\n",
              "      --fill-color: #D2E3FC;\n",
              "      --hover-bg-color: #434B5C;\n",
              "      --hover-fill-color: #FFFFFF;\n",
              "      --disabled-bg-color: #3B4455;\n",
              "      --disabled-fill-color: #666;\n",
              "  }\n",
              "\n",
              "  .colab-df-quickchart {\n",
              "    background-color: var(--bg-color);\n",
              "    border: none;\n",
              "    border-radius: 50%;\n",
              "    cursor: pointer;\n",
              "    display: none;\n",
              "    fill: var(--fill-color);\n",
              "    height: 32px;\n",
              "    padding: 0;\n",
              "    width: 32px;\n",
              "  }\n",
              "\n",
              "  .colab-df-quickchart:hover {\n",
              "    background-color: var(--hover-bg-color);\n",
              "    box-shadow: 0 1px 2px rgba(60, 64, 67, 0.3), 0 1px 3px 1px rgba(60, 64, 67, 0.15);\n",
              "    fill: var(--button-hover-fill-color);\n",
              "  }\n",
              "\n",
              "  .colab-df-quickchart-complete:disabled,\n",
              "  .colab-df-quickchart-complete:disabled:hover {\n",
              "    background-color: var(--disabled-bg-color);\n",
              "    fill: var(--disabled-fill-color);\n",
              "    box-shadow: none;\n",
              "  }\n",
              "\n",
              "  .colab-df-spinner {\n",
              "    border: 2px solid var(--fill-color);\n",
              "    border-color: transparent;\n",
              "    border-bottom-color: var(--fill-color);\n",
              "    animation:\n",
              "      spin 1s steps(1) infinite;\n",
              "  }\n",
              "\n",
              "  @keyframes spin {\n",
              "    0% {\n",
              "      border-color: transparent;\n",
              "      border-bottom-color: var(--fill-color);\n",
              "      border-left-color: var(--fill-color);\n",
              "    }\n",
              "    20% {\n",
              "      border-color: transparent;\n",
              "      border-left-color: var(--fill-color);\n",
              "      border-top-color: var(--fill-color);\n",
              "    }\n",
              "    30% {\n",
              "      border-color: transparent;\n",
              "      border-left-color: var(--fill-color);\n",
              "      border-top-color: var(--fill-color);\n",
              "      border-right-color: var(--fill-color);\n",
              "    }\n",
              "    40% {\n",
              "      border-color: transparent;\n",
              "      border-right-color: var(--fill-color);\n",
              "      border-top-color: var(--fill-color);\n",
              "    }\n",
              "    60% {\n",
              "      border-color: transparent;\n",
              "      border-right-color: var(--fill-color);\n",
              "    }\n",
              "    80% {\n",
              "      border-color: transparent;\n",
              "      border-right-color: var(--fill-color);\n",
              "      border-bottom-color: var(--fill-color);\n",
              "    }\n",
              "    90% {\n",
              "      border-color: transparent;\n",
              "      border-bottom-color: var(--fill-color);\n",
              "    }\n",
              "  }\n",
              "</style>\n",
              "\n",
              "  <script>\n",
              "    async function quickchart(key) {\n",
              "      const quickchartButtonEl =\n",
              "        document.querySelector('#' + key + ' button');\n",
              "      quickchartButtonEl.disabled = true;  // To prevent multiple clicks.\n",
              "      quickchartButtonEl.classList.add('colab-df-spinner');\n",
              "      try {\n",
              "        const charts = await google.colab.kernel.invokeFunction(\n",
              "            'suggestCharts', [key], {});\n",
              "      } catch (error) {\n",
              "        console.error('Error during call to suggestCharts:', error);\n",
              "      }\n",
              "      quickchartButtonEl.classList.remove('colab-df-spinner');\n",
              "      quickchartButtonEl.classList.add('colab-df-quickchart-complete');\n",
              "    }\n",
              "    (() => {\n",
              "      let quickchartButtonEl =\n",
              "        document.querySelector('#df-d0d5739a-73c3-4cc0-8bb0-a899a286a5c3 button');\n",
              "      quickchartButtonEl.style.display =\n",
              "        google.colab.kernel.accessAllowed ? 'block' : 'none';\n",
              "    })();\n",
              "  </script>\n",
              "</div>\n",
              "    </div>\n",
              "  </div>\n"
            ]
          },
          "metadata": {},
          "execution_count": 118
        }
      ],
      "source": [
        "# Affiche les statistiques descriptives du DataFrame df_phish\n",
        "df_phish.describe()"
      ],
      "id": "7cb495b4-5cca-4845-a554-bbbbe87ce155"
    },
    {
      "cell_type": "code",
      "execution_count": 119,
      "metadata": {
        "colab": {
          "base_uri": "https://localhost:8080/",
          "height": 474
        },
        "id": "19b74dec-5f30-4d06-9310-71ef5f24ca17",
        "outputId": "a00070d2-76ae-4159-b107-5b447983fe7d"
      },
      "outputs": [
        {
          "output_type": "display_data",
          "data": {
            "text/plain": [
              "<Figure size 640x480 with 1 Axes>"
            ],
            "image/png": "[encoded data removed]"
          },
          "metadata": {}
        }
      ],
      "source": [
        "# Extraction de la colonne des étiquettes du DataFrame\n",
        "labels = df_phish.label\n",
        "\n",
        "# Création d'un nouveau DataFrame à partir de la colonne des étiquettes\n",
        "labels = pd.DataFrame(labels)\n",
        "\n",
        "# Calcul de la fréquence et du pourcentage des différentes étiquettes\n",
        "labels_count = labels[\"label\"].value_counts()\n",
        "labels_percentage = labels_count / len(labels) * 100\n",
        "\n",
        "# Affichage de la fréquence des étiquettes sous forme de diagramme à barres avec le pourcentage\n",
        "fig, ax = plt.subplots()\n",
        "bars = ax.bar(labels_count.index, labels_count.values, color=['green', 'red'])\n",
        "\n",
        "# Ajout des étiquettes de pourcentage au-dessus des barres\n",
        "for bar, percentage in zip(bars, labels_percentage):\n",
        "    height = bar.get_height()\n",
        "    ax.text(bar.get_x() + bar.get_width() / 2, height, f'{percentage:.2f}%',\n",
        "            ha='center', va='bottom', fontsize=10, color='black')\n",
        "\n",
        "# Configuration du diagramme\n",
        "ax.set_xlabel(\"Label\")  # Axe des x : Étiquettes\n",
        "ax.set_ylabel(\"Fréquences\")  # Axe des y : Fréquences\n",
        "ax.set_title(\"Fréquence des Étiquettes dans le Jeu de Données\")  # Titre du diagramme\n",
        "plt.show()"
      ],
      "id": "19b74dec-5f30-4d06-9310-71ef5f24ca17"
    },
    {
      "cell_type": "markdown",
      "metadata": {
        "id": "EvTrvxEI7fM5"
      },
      "source": [
        "### Remplacer les étiquettes"
      ],
      "id": "EvTrvxEI7fM5"
    },
    {
      "cell_type": "code",
      "execution_count": 120,
      "metadata": {
        "id": "X14lG6FU7LQw"
      },
      "outputs": [],
      "source": [
        "# legit: 0 et fishing: 1\n",
        "df_phish.replace({'legit':0, 'fishing':1}, inplace=True)"
      ],
      "id": "X14lG6FU7LQw"
    },
    {
      "cell_type": "markdown",
      "metadata": {
        "id": "34f3fc41-2391-4397-91f1-f7fa68b1fea0"
      },
      "source": [
        "# Prétraitement"
      ],
      "id": "34f3fc41-2391-4397-91f1-f7fa68b1fea0"
    },
    {
      "cell_type": "code",
      "execution_count": 121,
      "metadata": {
        "colab": {
          "base_uri": "https://localhost:8080/"
        },
        "id": "XRSWvVpVUIZJ",
        "outputId": "7be9ee9a-7d02-4ffb-f9b6-9c95611ed0f9"
      },
      "outputs": [
        {
          "output_type": "stream",
          "name": "stderr",
          "text": [
            "[nltk_data] Downloading package stopwords to /root/nltk_data...\n",
            "[nltk_data]   Package stopwords is already up-to-date!\n"
          ]
        },
        {
          "output_type": "execute_result",
          "data": {
            "text/plain": [
              "True"
            ]
          },
          "metadata": {},
          "execution_count": 121
        }
      ],
      "source": [
        "import nltk\n",
        "from nltk.tokenize import RegexpTokenizer\n",
        "from nltk.stem import SnowballStemmer\n",
        "from nltk.corpus import stopwords\n",
        "from sklearn.feature_extraction.text import TfidfVectorizer\n",
        "\n",
        "# Télécharger les stopwords\n",
        "nltk.download('stopwords')"
      ],
      "id": "XRSWvVpVUIZJ"
    },
    {
      "cell_type": "markdown",
      "metadata": {
        "id": "t7U-uwddnrbI"
      },
      "source": [
        "La fonction `preprocess_initial` effectue la tokenization et la racinisation initiales sur une URL. Elle utilise un tokenizer pour diviser l'URL en mots, un stemmer pour réduire les mots à leur racine, et elle supprime ensuite les stopwords spécifiques aux URL. Enfin, elle concatène les mots résultants pour former une version traitée de l'URL."
      ],
      "id": "t7U-uwddnrbI"
    },
    {
      "cell_type": "code",
      "execution_count": 122,
      "metadata": {
        "id": "zLp1UhkCUM23"
      },
      "outputs": [],
      "source": [
        "def preprocess_initial(url):\n",
        "    \"\"\"\n",
        "    Fonction pour effectuer la tokenization et la racinisation initiales sur une URL.\n",
        "\n",
        "    Parameters:\n",
        "    - url: URL à traiter.\n",
        "\n",
        "    Returns:\n",
        "    - Texte tokenisé et racinisé.\n",
        "    \"\"\"\n",
        "\n",
        "    # Créer le tokenizer\n",
        "    tokenizer = RegexpTokenizer(r'[A-Za-z]+')\n",
        "\n",
        "    # Appliquer la tokenization à l'URL\n",
        "    text_tokenise = tokenizer.tokenize(url)\n",
        "\n",
        "    # Créer le stemmer\n",
        "    stemmer = SnowballStemmer(\"english\")\n",
        "\n",
        "    # Appliquer la racinisation à l'URL\n",
        "    text_stemmed = [stemmer.stem(word) for word in text_tokenise]\n",
        "\n",
        "    # Enlever les stopwords spécifiques aux URL\n",
        "    url_specific_stopwords = set(stopwords.words('english') + ['www', 'http', 'https', 'com', 'org', 'net', 'html', 'php','cf', 'ipf'])\n",
        "    text_stemmed = [word for word in text_stemmed if word.lower() not in url_specific_stopwords]\n",
        "\n",
        "    # Appliquer la concaténation\n",
        "    text_sent = ' '.join(text_stemmed)\n",
        "\n",
        "    return text_sent"
      ],
      "id": "zLp1UhkCUM23"
    },
    {
      "cell_type": "markdown",
      "metadata": {
        "id": "LclW60p6ofFp"
      },
      "source": [
        "Le code ci-dessous crée un nouveau DataFrame appelé `df_phish_processed` et y ajoute les colonnes 'url' et 'label' du DataFrame d'origine `clean_url`. Ensuite, il applique la fonction `preprocess_initial` à la colonne 'url' du DataFrame d'origine pour créer une nouvelle colonne 'text_sent' dans le DataFrame `df_phish_processed`, qui contient les URLs prétraitées."
      ],
      "id": "LclW60p6ofFp"
    },
    {
      "cell_type": "code",
      "execution_count": 123,
      "metadata": {
        "id": "j6QYZmGrsmE8"
      },
      "outputs": [],
      "source": [
        "# Créez un nouveau DataFrame vide\n",
        "df_phish_processed = pd.DataFrame()\n",
        "\n",
        "# Ajoutez la colonne 'url' à partir de notre DataFrame d'origine\n",
        "df_phish_processed['url'] = df_phish['url']\n",
        "\n",
        "# Ajoutez la colonne 'label' à partir de votre DataFrame d'origine\n",
        "df_phish_processed['label'] = df_phish['label']\n",
        "\n",
        "# Appliquez la fonction preprocess_initial à la colonne 'url' pour créer la nouvelle colonne 'text_sent'\n",
        "df_phish_processed['clean_url'] = df_phish['url'].apply(preprocess_initial)"
      ],
      "id": "j6QYZmGrsmE8"
    },
    {
      "cell_type": "code",
      "execution_count": 124,
      "metadata": {
        "colab": {
          "base_uri": "https://localhost:8080/",
          "height": 206
        },
        "id": "aI5N__YHt7Cc",
        "outputId": "ec149008-b69b-479c-b781-523169353099"
      },
      "outputs": [
        {
          "output_type": "execute_result",
          "data": {
            "text/plain": [
              "                                                 url  label  \\\n",
              "0  http://mylust.com/videos/198456/svelte-nympho-...      0   \n",
              "1  http://serverfault.com/questions/676825/basic-...      0   \n",
              "2  http://otomoto.pl/osobowe/bmw/seria-3/e36-1990...      0   \n",
              "3  http://motthegioi.vn/khoa-hoc-giao-duc/du-hoc/...      0   \n",
              "4        https://att-yahoo-mail-2023.weeblysite.com/      1   \n",
              "\n",
              "                                           clean_url  \n",
              "0  mylust video svelt nympho ride lover prick fav...  \n",
              "1  serverfault question basic ncsa authent workl ...  \n",
              "2  otomoto pl osobow bmw seria e sportowi coup ew...  \n",
              "3  motthegioi vn khoa hoc giao duc du hoc nhung d...  \n",
              "4                           att yahoo mail weeblysit  "
            ],
            "text/html": [
              "\n",
              "  <div id=\"df-fb3605f7-3851-48ec-86b0-864e15cb5d5b\" class=\"colab-df-container\">\n",
              "    <div>\n",
              "<style scoped>\n",
              "    .dataframe tbody tr th:only-of-type {\n",
              "        vertical-align: middle;\n",
              "    }\n",
              "\n",
              "    .dataframe tbody tr th {\n",
              "        vertical-align: top;\n",
              "    }\n",
              "\n",
              "    .dataframe thead th {\n",
              "        text-align: right;\n",
              "    }\n",
              "</style>\n",
              "<table border=\"1\" class=\"dataframe\">\n",
              "  <thead>\n",
              "    <tr style=\"text-align: right;\">\n",
              "      <th></th>\n",
              "      <th>url</th>\n",
              "      <th>label</th>\n",
              "      <th>clean_url</th>\n",
              "    </tr>\n",
              "  </thead>\n",
              "  <tbody>\n",
              "    <tr>\n",
              "      <th>0</th>\n",
              "      <td>http://mylust.com/videos/198456/svelte-nympho-...</td>\n",
              "      <td>0</td>\n",
              "      <td>mylust video svelt nympho ride lover prick fav...</td>\n",
              "    </tr>\n",
              "    <tr>\n",
              "      <th>1</th>\n",
              "      <td>http://serverfault.com/questions/676825/basic-...</td>\n",
              "      <td>0</td>\n",
              "      <td>serverfault question basic ncsa authent workl ...</td>\n",
              "    </tr>\n",
              "    <tr>\n",
              "      <th>2</th>\n",
              "      <td>http://otomoto.pl/osobowe/bmw/seria-3/e36-1990...</td>\n",
              "      <td>0</td>\n",
              "      <td>otomoto pl osobow bmw seria e sportowi coup ew...</td>\n",
              "    </tr>\n",
              "    <tr>\n",
              "      <th>3</th>\n",
              "      <td>http://motthegioi.vn/khoa-hoc-giao-duc/du-hoc/...</td>\n",
              "      <td>0</td>\n",
              "      <td>motthegioi vn khoa hoc giao duc du hoc nhung d...</td>\n",
              "    </tr>\n",
              "    <tr>\n",
              "      <th>4</th>\n",
              "      <td>https://att-yahoo-mail-2023.weeblysite.com/</td>\n",
              "      <td>1</td>\n",
              "      <td>att yahoo mail weeblysit</td>\n",
              "    </tr>\n",
              "  </tbody>\n",
              "</table>\n",
              "</div>\n",
              "    <div class=\"colab-df-buttons\">\n",
              "\n",
              "  <div class=\"colab-df-container\">\n",
              "    <button class=\"colab-df-convert\" onclick=\"convertToInteractive('df-fb3605f7-3851-48ec-86b0-864e15cb5d5b')\"\n",
              "            title=\"Convert this dataframe to an interactive table.\"\n",
              "            style=\"display:none;\">\n",
              "\n",
              "  <svg xmlns=\"http://www.w3.org/2000/svg\" height=\"24px\" viewBox=\"0 -960 960 960\">\n",
              "    <path d=\"M120-120v-720h720v720H120Zm60-500h600v-160H180v160Zm220 220h160v-160H400v160Zm0 220h160v-160H400v160ZM180-400h160v-160H180v160Zm440 0h160v-160H620v160ZM180-180h160v-160H180v160Zm440 0h160v-160H620v160Z\"/>\n",
              "  </svg>\n",
              "    </button>\n",
              "\n",
              "  <style>\n",
              "    .colab-df-container {\n",
              "      display:flex;\n",
              "      gap: 12px;\n",
              "    }\n",
              "\n",
              "    .colab-df-convert {\n",
              "      background-color: #E8F0FE;\n",
              "      border: none;\n",
              "      border-radius: 50%;\n",
              "      cursor: pointer;\n",
              "      display: none;\n",
              "      fill: #1967D2;\n",
              "      height: 32px;\n",
              "      padding: 0 0 0 0;\n",
              "      width: 32px;\n",
              "    }\n",
              "\n",
              "    .colab-df-convert:hover {\n",
              "      background-color: #E2EBFA;\n",
              "      box-shadow: 0px 1px 2px rgba(60, 64, 67, 0.3), 0px 1px 3px 1px rgba(60, 64, 67, 0.15);\n",
              "      fill: #174EA6;\n",
              "    }\n",
              "\n",
              "    .colab-df-buttons div {\n",
              "      margin-bottom: 4px;\n",
              "    }\n",
              "\n",
              "    [theme=dark] .colab-df-convert {\n",
              "      background-color: #3B4455;\n",
              "      fill: #D2E3FC;\n",
              "    }\n",
              "\n",
              "    [theme=dark] .colab-df-convert:hover {\n",
              "      background-color: #434B5C;\n",
              "      box-shadow: 0px 1px 3px 1px rgba(0, 0, 0, 0.15);\n",
              "      filter: drop-shadow(0px 1px 2px rgba(0, 0, 0, 0.3));\n",
              "      fill: #FFFFFF;\n",
              "    }\n",
              "  </style>\n",
              "\n",
              "    <script>\n",
              "      const buttonEl =\n",
              "        document.querySelector('#df-fb3605f7-3851-48ec-86b0-864e15cb5d5b button.colab-df-convert');\n",
              "      buttonEl.style.display =\n",
              "        google.colab.kernel.accessAllowed ? 'block' : 'none';\n",
              "\n",
              "      async function convertToInteractive(key) {\n",
              "        const element = document.querySelector('#df-fb3605f7-3851-48ec-86b0-864e15cb5d5b');\n",
              "        const dataTable =\n",
              "          await google.colab.kernel.invokeFunction('convertToInteractive',\n",
              "                                                    [key], {});\n",
              "        if (!dataTable) return;\n",
              "\n",
              "        const docLinkHtml = 'Like what you see? Visit the ' +\n",
              "          '<a target=\"_blank\" href=https://colab.research.google.com/notebooks/data_table.ipynb>data table notebook</a>'\n",
              "          + ' to learn more about interactive tables.';\n",
              "        element.innerHTML = '';\n",
              "        dataTable['output_type'] = 'display_data';\n",
              "        await google.colab.output.renderOutput(dataTable, element);\n",
              "        const docLink = document.createElement('div');\n",
              "        docLink.innerHTML = docLinkHtml;\n",
              "        element.appendChild(docLink);\n",
              "      }\n",
              "    </script>\n",
              "  </div>\n",
              "\n",
              "\n",
              "<div id=\"df-ca5564b2-f052-498d-98d3-b298328821f5\">\n",
              "  <button class=\"colab-df-quickchart\" onclick=\"quickchart('df-ca5564b2-f052-498d-98d3-b298328821f5')\"\n",
              "            title=\"Suggest charts\"\n",
              "            style=\"display:none;\">\n",
              "\n",
              "<svg xmlns=\"http://www.w3.org/2000/svg\" height=\"24px\"viewBox=\"0 0 24 24\"\n",
              "     width=\"24px\">\n",
              "    <g>\n",
              "        <path d=\"M19 3H5c-1.1 0-2 .9-2 2v14c0 1.1.9 2 2 2h14c1.1 0 2-.9 2-2V5c0-1.1-.9-2-2-2zM9 17H7v-7h2v7zm4 0h-2V7h2v10zm4 0h-2v-4h2v4z\"/>\n",
              "    </g>\n",
              "</svg>\n",
              "  </button>\n",
              "\n",
              "<style>\n",
              "  .colab-df-quickchart {\n",
              "      --bg-color: #E8F0FE;\n",
              "      --fill-color: #1967D2;\n",
              "      --hover-bg-color: #E2EBFA;\n",
              "      --hover-fill-color: #174EA6;\n",
              "      --disabled-fill-color: #AAA;\n",
              "      --disabled-bg-color: #DDD;\n",
              "  }\n",
              "\n",
              "  [theme=dark] .colab-df-quickchart {\n",
              "      --bg-color: #3B4455;\n",
              "      --fill-color: #D2E3FC;\n",
              "      --hover-bg-color: #434B5C;\n",
              "      --hover-fill-color: #FFFFFF;\n",
              "      --disabled-bg-color: #3B4455;\n",
              "      --disabled-fill-color: #666;\n",
              "  }\n",
              "\n",
              "  .colab-df-quickchart {\n",
              "    background-color: var(--bg-color);\n",
              "    border: none;\n",
              "    border-radius: 50%;\n",
              "    cursor: pointer;\n",
              "    display: none;\n",
              "    fill: var(--fill-color);\n",
              "    height: 32px;\n",
              "    padding: 0;\n",
              "    width: 32px;\n",
              "  }\n",
              "\n",
              "  .colab-df-quickchart:hover {\n",
              "    background-color: var(--hover-bg-color);\n",
              "    box-shadow: 0 1px 2px rgba(60, 64, 67, 0.3), 0 1px 3px 1px rgba(60, 64, 67, 0.15);\n",
              "    fill: var(--button-hover-fill-color);\n",
              "  }\n",
              "\n",
              "  .colab-df-quickchart-complete:disabled,\n",
              "  .colab-df-quickchart-complete:disabled:hover {\n",
              "    background-color: var(--disabled-bg-color);\n",
              "    fill: var(--disabled-fill-color);\n",
              "    box-shadow: none;\n",
              "  }\n",
              "\n",
              "  .colab-df-spinner {\n",
              "    border: 2px solid var(--fill-color);\n",
              "    border-color: transparent;\n",
              "    border-bottom-color: var(--fill-color);\n",
              "    animation:\n",
              "      spin 1s steps(1) infinite;\n",
              "  }\n",
              "\n",
              "  @keyframes spin {\n",
              "    0% {\n",
              "      border-color: transparent;\n",
              "      border-bottom-color: var(--fill-color);\n",
              "      border-left-color: var(--fill-color);\n",
              "    }\n",
              "    20% {\n",
              "      border-color: transparent;\n",
              "      border-left-color: var(--fill-color);\n",
              "      border-top-color: var(--fill-color);\n",
              "    }\n",
              "    30% {\n",
              "      border-color: transparent;\n",
              "      border-left-color: var(--fill-color);\n",
              "      border-top-color: var(--fill-color);\n",
              "      border-right-color: var(--fill-color);\n",
              "    }\n",
              "    40% {\n",
              "      border-color: transparent;\n",
              "      border-right-color: var(--fill-color);\n",
              "      border-top-color: var(--fill-color);\n",
              "    }\n",
              "    60% {\n",
              "      border-color: transparent;\n",
              "      border-right-color: var(--fill-color);\n",
              "    }\n",
              "    80% {\n",
              "      border-color: transparent;\n",
              "      border-right-color: var(--fill-color);\n",
              "      border-bottom-color: var(--fill-color);\n",
              "    }\n",
              "    90% {\n",
              "      border-color: transparent;\n",
              "      border-bottom-color: var(--fill-color);\n",
              "    }\n",
              "  }\n",
              "</style>\n",
              "\n",
              "  <script>\n",
              "    async function quickchart(key) {\n",
              "      const quickchartButtonEl =\n",
              "        document.querySelector('#' + key + ' button');\n",
              "      quickchartButtonEl.disabled = true;  // To prevent multiple clicks.\n",
              "      quickchartButtonEl.classList.add('colab-df-spinner');\n",
              "      try {\n",
              "        const charts = await google.colab.kernel.invokeFunction(\n",
              "            'suggestCharts', [key], {});\n",
              "      } catch (error) {\n",
              "        console.error('Error during call to suggestCharts:', error);\n",
              "      }\n",
              "      quickchartButtonEl.classList.remove('colab-df-spinner');\n",
              "      quickchartButtonEl.classList.add('colab-df-quickchart-complete');\n",
              "    }\n",
              "    (() => {\n",
              "      let quickchartButtonEl =\n",
              "        document.querySelector('#df-ca5564b2-f052-498d-98d3-b298328821f5 button');\n",
              "      quickchartButtonEl.style.display =\n",
              "        google.colab.kernel.accessAllowed ? 'block' : 'none';\n",
              "    })();\n",
              "  </script>\n",
              "</div>\n",
              "    </div>\n",
              "  </div>\n"
            ]
          },
          "metadata": {},
          "execution_count": 124
        }
      ],
      "source": [
        "# afficher les cinq premières lignes du DataFrame df_phish_processed.\n",
        "df_phish_processed.head(5)"
      ],
      "id": "aI5N__YHt7Cc"
    },
    {
      "cell_type": "markdown",
      "metadata": {
        "id": "MdacYcHHsK1Z"
      },
      "source": [
        "Regardons si nous avons le résulat escompté"
      ],
      "id": "MdacYcHHsK1Z"
    },
    {
      "cell_type": "code",
      "execution_count": 125,
      "metadata": {
        "colab": {
          "base_uri": "https://localhost:8080/"
        },
        "id": "W1qpEuXQunV4",
        "outputId": "8cdd4a87-abf1-4dc1-c3d7-2c69d9075799"
      },
      "outputs": [
        {
          "output_type": "execute_result",
          "data": {
            "text/plain": [
              "0    http://mylust.com/videos/198456/svelte-nympho-...\n",
              "1    http://serverfault.com/questions/676825/basic-...\n",
              "2    http://otomoto.pl/osobowe/bmw/seria-3/e36-1990...\n",
              "Name: url, dtype: object"
            ]
          },
          "metadata": {},
          "execution_count": 125
        }
      ],
      "source": [
        "df_phish['url'].head(3)"
      ],
      "id": "W1qpEuXQunV4"
    },
    {
      "cell_type": "code",
      "execution_count": 126,
      "metadata": {
        "colab": {
          "base_uri": "https://localhost:8080/"
        },
        "id": "sAVWEOyXuMuV",
        "outputId": "c83e76d2-7d2f-4308-976c-92487c0e6489"
      },
      "outputs": [
        {
          "output_type": "execute_result",
          "data": {
            "text/plain": [
              "0    mylust video svelt nympho ride lover prick fav...\n",
              "1    serverfault question basic ncsa authent workl ...\n",
              "2    otomoto pl osobow bmw seria e sportowi coup ew...\n",
              "Name: clean_url, dtype: object"
            ]
          },
          "metadata": {},
          "execution_count": 126
        }
      ],
      "source": [
        "df_phish_processed['clean_url'].head(3)"
      ],
      "id": "sAVWEOyXuMuV"
    },
    {
      "cell_type": "markdown",
      "metadata": {
        "id": "yZ1ApYM7svMx"
      },
      "source": [
        "crée un nouveau DataFrame appelé bad_sites, qui contient uniquement les lignes du DataFrame original df_phish_processed où la colonne 'label' a la valeur 1 c'est à dire phising.\n",
        "Cela sera utile pour la visualisation de nos URLs pretraitées, voir s'il n'y pas de stopwords"
      ],
      "id": "yZ1ApYM7svMx"
    },
    {
      "cell_type": "code",
      "execution_count": 127,
      "metadata": {
        "id": "TNBxMaFvu2_M"
      },
      "outputs": [],
      "source": [
        "bad_sites = df_phish_processed[df_phish_processed.label == 1]"
      ],
      "id": "TNBxMaFvu2_M"
    },
    {
      "cell_type": "code",
      "execution_count": 128,
      "metadata": {
        "colab": {
          "base_uri": "https://localhost:8080/",
          "height": 143
        },
        "id": "b3cgJv9RvXSO",
        "outputId": "d1779113-ea37-4982-f487-6a2f1d6f6a66"
      },
      "outputs": [
        {
          "output_type": "execute_result",
          "data": {
            "text/plain": [
              "                                                  url  label  \\\n",
              "4         https://att-yahoo-mail-2023.weeblysite.com/      1   \n",
              "8   https://new.express.adobe.com/webpage/kz4V6Dar...      1   \n",
              "14  http://vpn287980672.softether.net/~pc119/ANZ/a...      1   \n",
              "\n",
              "                                    clean_url  \n",
              "4                    att yahoo mail weeblysit  \n",
              "8       new express adob webpag kz v darbjh v  \n",
              "14  vpn softeth pc anz apib anzapinetbank htm  "
            ],
            "text/html": [
              "\n",
              "  <div id=\"df-a021ecbf-07d0-4967-ac20-9f1974955e60\" class=\"colab-df-container\">\n",
              "    <div>\n",
              "<style scoped>\n",
              "    .dataframe tbody tr th:only-of-type {\n",
              "        vertical-align: middle;\n",
              "    }\n",
              "\n",
              "    .dataframe tbody tr th {\n",
              "        vertical-align: top;\n",
              "    }\n",
              "\n",
              "    .dataframe thead th {\n",
              "        text-align: right;\n",
              "    }\n",
              "</style>\n",
              "<table border=\"1\" class=\"dataframe\">\n",
              "  <thead>\n",
              "    <tr style=\"text-align: right;\">\n",
              "      <th></th>\n",
              "      <th>url</th>\n",
              "      <th>label</th>\n",
              "      <th>clean_url</th>\n",
              "    </tr>\n",
              "  </thead>\n",
              "  <tbody>\n",
              "    <tr>\n",
              "      <th>4</th>\n",
              "      <td>https://att-yahoo-mail-2023.weeblysite.com/</td>\n",
              "      <td>1</td>\n",
              "      <td>att yahoo mail weeblysit</td>\n",
              "    </tr>\n",
              "    <tr>\n",
              "      <th>8</th>\n",
              "      <td>https://new.express.adobe.com/webpage/kz4V6Dar...</td>\n",
              "      <td>1</td>\n",
              "      <td>new express adob webpag kz v darbjh v</td>\n",
              "    </tr>\n",
              "    <tr>\n",
              "      <th>14</th>\n",
              "      <td>http://vpn287980672.softether.net/~pc119/ANZ/a...</td>\n",
              "      <td>1</td>\n",
              "      <td>vpn softeth pc anz apib anzapinetbank htm</td>\n",
              "    </tr>\n",
              "  </tbody>\n",
              "</table>\n",
              "</div>\n",
              "    <div class=\"colab-df-buttons\">\n",
              "\n",
              "  <div class=\"colab-df-container\">\n",
              "    <button class=\"colab-df-convert\" onclick=\"convertToInteractive('df-a021ecbf-07d0-4967-ac20-9f1974955e60')\"\n",
              "            title=\"Convert this dataframe to an interactive table.\"\n",
              "            style=\"display:none;\">\n",
              "\n",
              "  <svg xmlns=\"http://www.w3.org/2000/svg\" height=\"24px\" viewBox=\"0 -960 960 960\">\n",
              "    <path d=\"M120-120v-720h720v720H120Zm60-500h600v-160H180v160Zm220 220h160v-160H400v160Zm0 220h160v-160H400v160ZM180-400h160v-160H180v160Zm440 0h160v-160H620v160ZM180-180h160v-160H180v160Zm440 0h160v-160H620v160Z\"/>\n",
              "  </svg>\n",
              "    </button>\n",
              "\n",
              "  <style>\n",
              "    .colab-df-container {\n",
              "      display:flex;\n",
              "      gap: 12px;\n",
              "    }\n",
              "\n",
              "    .colab-df-convert {\n",
              "      background-color: #E8F0FE;\n",
              "      border: none;\n",
              "      border-radius: 50%;\n",
              "      cursor: pointer;\n",
              "      display: none;\n",
              "      fill: #1967D2;\n",
              "      height: 32px;\n",
              "      padding: 0 0 0 0;\n",
              "      width: 32px;\n",
              "    }\n",
              "\n",
              "    .colab-df-convert:hover {\n",
              "      background-color: #E2EBFA;\n",
              "      box-shadow: 0px 1px 2px rgba(60, 64, 67, 0.3), 0px 1px 3px 1px rgba(60, 64, 67, 0.15);\n",
              "      fill: #174EA6;\n",
              "    }\n",
              "\n",
              "    .colab-df-buttons div {\n",
              "      margin-bottom: 4px;\n",
              "    }\n",
              "\n",
              "    [theme=dark] .colab-df-convert {\n",
              "      background-color: #3B4455;\n",
              "      fill: #D2E3FC;\n",
              "    }\n",
              "\n",
              "    [theme=dark] .colab-df-convert:hover {\n",
              "      background-color: #434B5C;\n",
              "      box-shadow: 0px 1px 3px 1px rgba(0, 0, 0, 0.15);\n",
              "      filter: drop-shadow(0px 1px 2px rgba(0, 0, 0, 0.3));\n",
              "      fill: #FFFFFF;\n",
              "    }\n",
              "  </style>\n",
              "\n",
              "    <script>\n",
              "      const buttonEl =\n",
              "        document.querySelector('#df-a021ecbf-07d0-4967-ac20-9f1974955e60 button.colab-df-convert');\n",
              "      buttonEl.style.display =\n",
              "        google.colab.kernel.accessAllowed ? 'block' : 'none';\n",
              "\n",
              "      async function convertToInteractive(key) {\n",
              "        const element = document.querySelector('#df-a021ecbf-07d0-4967-ac20-9f1974955e60');\n",
              "        const dataTable =\n",
              "          await google.colab.kernel.invokeFunction('convertToInteractive',\n",
              "                                                    [key], {});\n",
              "        if (!dataTable) return;\n",
              "\n",
              "        const docLinkHtml = 'Like what you see? Visit the ' +\n",
              "          '<a target=\"_blank\" href=https://colab.research.google.com/notebooks/data_table.ipynb>data table notebook</a>'\n",
              "          + ' to learn more about interactive tables.';\n",
              "        element.innerHTML = '';\n",
              "        dataTable['output_type'] = 'display_data';\n",
              "        await google.colab.output.renderOutput(dataTable, element);\n",
              "        const docLink = document.createElement('div');\n",
              "        docLink.innerHTML = docLinkHtml;\n",
              "        element.appendChild(docLink);\n",
              "      }\n",
              "    </script>\n",
              "  </div>\n",
              "\n",
              "\n",
              "<div id=\"df-c64be7f1-780e-4a6c-96b7-c94c4dac809e\">\n",
              "  <button class=\"colab-df-quickchart\" onclick=\"quickchart('df-c64be7f1-780e-4a6c-96b7-c94c4dac809e')\"\n",
              "            title=\"Suggest charts\"\n",
              "            style=\"display:none;\">\n",
              "\n",
              "<svg xmlns=\"http://www.w3.org/2000/svg\" height=\"24px\"viewBox=\"0 0 24 24\"\n",
              "     width=\"24px\">\n",
              "    <g>\n",
              "        <path d=\"M19 3H5c-1.1 0-2 .9-2 2v14c0 1.1.9 2 2 2h14c1.1 0 2-.9 2-2V5c0-1.1-.9-2-2-2zM9 17H7v-7h2v7zm4 0h-2V7h2v10zm4 0h-2v-4h2v4z\"/>\n",
              "    </g>\n",
              "</svg>\n",
              "  </button>\n",
              "\n",
              "<style>\n",
              "  .colab-df-quickchart {\n",
              "      --bg-color: #E8F0FE;\n",
              "      --fill-color: #1967D2;\n",
              "      --hover-bg-color: #E2EBFA;\n",
              "      --hover-fill-color: #174EA6;\n",
              "      --disabled-fill-color: #AAA;\n",
              "      --disabled-bg-color: #DDD;\n",
              "  }\n",
              "\n",
              "  [theme=dark] .colab-df-quickchart {\n",
              "      --bg-color: #3B4455;\n",
              "      --fill-color: #D2E3FC;\n",
              "      --hover-bg-color: #434B5C;\n",
              "      --hover-fill-color: #FFFFFF;\n",
              "      --disabled-bg-color: #3B4455;\n",
              "      --disabled-fill-color: #666;\n",
              "  }\n",
              "\n",
              "  .colab-df-quickchart {\n",
              "    background-color: var(--bg-color);\n",
              "    border: none;\n",
              "    border-radius: 50%;\n",
              "    cursor: pointer;\n",
              "    display: none;\n",
              "    fill: var(--fill-color);\n",
              "    height: 32px;\n",
              "    padding: 0;\n",
              "    width: 32px;\n",
              "  }\n",
              "\n",
              "  .colab-df-quickchart:hover {\n",
              "    background-color: var(--hover-bg-color);\n",
              "    box-shadow: 0 1px 2px rgba(60, 64, 67, 0.3), 0 1px 3px 1px rgba(60, 64, 67, 0.15);\n",
              "    fill: var(--button-hover-fill-color);\n",
              "  }\n",
              "\n",
              "  .colab-df-quickchart-complete:disabled,\n",
              "  .colab-df-quickchart-complete:disabled:hover {\n",
              "    background-color: var(--disabled-bg-color);\n",
              "    fill: var(--disabled-fill-color);\n",
              "    box-shadow: none;\n",
              "  }\n",
              "\n",
              "  .colab-df-spinner {\n",
              "    border: 2px solid var(--fill-color);\n",
              "    border-color: transparent;\n",
              "    border-bottom-color: var(--fill-color);\n",
              "    animation:\n",
              "      spin 1s steps(1) infinite;\n",
              "  }\n",
              "\n",
              "  @keyframes spin {\n",
              "    0% {\n",
              "      border-color: transparent;\n",
              "      border-bottom-color: var(--fill-color);\n",
              "      border-left-color: var(--fill-color);\n",
              "    }\n",
              "    20% {\n",
              "      border-color: transparent;\n",
              "      border-left-color: var(--fill-color);\n",
              "      border-top-color: var(--fill-color);\n",
              "    }\n",
              "    30% {\n",
              "      border-color: transparent;\n",
              "      border-left-color: var(--fill-color);\n",
              "      border-top-color: var(--fill-color);\n",
              "      border-right-color: var(--fill-color);\n",
              "    }\n",
              "    40% {\n",
              "      border-color: transparent;\n",
              "      border-right-color: var(--fill-color);\n",
              "      border-top-color: var(--fill-color);\n",
              "    }\n",
              "    60% {\n",
              "      border-color: transparent;\n",
              "      border-right-color: var(--fill-color);\n",
              "    }\n",
              "    80% {\n",
              "      border-color: transparent;\n",
              "      border-right-color: var(--fill-color);\n",
              "      border-bottom-color: var(--fill-color);\n",
              "    }\n",
              "    90% {\n",
              "      border-color: transparent;\n",
              "      border-bottom-color: var(--fill-color);\n",
              "    }\n",
              "  }\n",
              "</style>\n",
              "\n",
              "  <script>\n",
              "    async function quickchart(key) {\n",
              "      const quickchartButtonEl =\n",
              "        document.querySelector('#' + key + ' button');\n",
              "      quickchartButtonEl.disabled = true;  // To prevent multiple clicks.\n",
              "      quickchartButtonEl.classList.add('colab-df-spinner');\n",
              "      try {\n",
              "        const charts = await google.colab.kernel.invokeFunction(\n",
              "            'suggestCharts', [key], {});\n",
              "      } catch (error) {\n",
              "        console.error('Error during call to suggestCharts:', error);\n",
              "      }\n",
              "      quickchartButtonEl.classList.remove('colab-df-spinner');\n",
              "      quickchartButtonEl.classList.add('colab-df-quickchart-complete');\n",
              "    }\n",
              "    (() => {\n",
              "      let quickchartButtonEl =\n",
              "        document.querySelector('#df-c64be7f1-780e-4a6c-96b7-c94c4dac809e button');\n",
              "      quickchartButtonEl.style.display =\n",
              "        google.colab.kernel.accessAllowed ? 'block' : 'none';\n",
              "    })();\n",
              "  </script>\n",
              "</div>\n",
              "    </div>\n",
              "  </div>\n"
            ]
          },
          "metadata": {},
          "execution_count": 128
        }
      ],
      "source": [
        "bad_sites.head(3)"
      ],
      "id": "b3cgJv9RvXSO"
    },
    {
      "cell_type": "markdown",
      "metadata": {
        "id": "qDCvDad5p8qx"
      },
      "source": [
        "Ce code permet de visualiser les mots les plus fréquents dans les URLs des sites de phishing sous forme d'un nuage de mots. Etant donné que nous avons déjà pretraité les données l'on de devrait pas avoir de stopwods."
      ],
      "id": "qDCvDad5p8qx"
    },
    {
      "cell_type": "code",
      "execution_count": 129,
      "metadata": {
        "colab": {
          "base_uri": "https://localhost:8080/",
          "height": 692
        },
        "id": "9Wbr1ol5veoP",
        "outputId": "7ea1b26d-024f-4b75-ea03-f9cdb83ca32f"
      },
      "outputs": [
        {
          "output_type": "display_data",
          "data": {
            "text/plain": [
              "<Figure size 1000x800 with 1 Axes>"
            ],
            "image/png": "[encoded data removed]"
          },
          "metadata": {}
        }
      ],
      "source": [
        "\n",
        "phishing = bad_sites['clean_url']\n",
        "\n",
        "# Création d'un objet WordCloud avec des paramètres spécifiés\n",
        "phishing_cloud = WordCloud(\n",
        "    width=800, height=500, background_color='white', max_words=50\n",
        ").generate(' '.join(phishing))\n",
        "\n",
        "# Configuration de la taille de la figure du graphique et de la couleur de fond\n",
        "plt.figure(figsize=(10, 8), facecolor='r')\n",
        "\n",
        "# Affichage de l'image WordCloud\n",
        "plt.imshow(phishing_cloud)\n",
        "\n",
        "# Ajout d'un titre au graphique\n",
        "plt.title(\"Comprendre les mots forts dans l'url\", fontsize=20)\n",
        "\n",
        "# Désactivation des étiquettes des axes\n",
        "plt.axis('off')\n",
        "\n",
        "# Ajustement de la mise en page pour une meilleure apparence\n",
        "plt.tight_layout(pad=0)\n",
        "\n",
        "# Affichage du graphique\n",
        "plt.show()"
      ],
      "id": "9Wbr1ol5veoP"
    },
    {
      "cell_type": "markdown",
      "metadata": {
        "id": "sdGp3FmfvsgE"
      },
      "source": [
        "## Vectoriser les données"
      ],
      "id": "sdGp3FmfvsgE"
    },
    {
      "cell_type": "markdown",
      "metadata": {
        "id": "5uWKJ97ZZdeV"
      },
      "source": [
        "- **Matrice TF-IDF (`feature`) :**\n",
        "    \n",
        "  La matrice TF-IDF (`feature`) est une représentation numérique des données textuelles dans notre ensemble de données. Chaque ligne de cette matrice correspond à une URL, et chaque colonne correspond à un terme (mot) unique extrait de l'ensemble des URLs. Les valeurs dans la matrice sont les poids TF-IDF associés à chaque terme pour chaque URL.\n",
        "\n",
        "- **Labels (`df_phish_processed.label`) :**\n",
        "    \n",
        "  La colonne 'label' de notre DataFrame `df_phish_processed` contient les étiquettes correspondant à chaque URL. Dans notre contexte de la détection de phishing, on a une valeur binaire indiquant si une URL est légitime (0) ou malveillante/phishing (1)."
      ],
      "id": "5uWKJ97ZZdeV"
    },
    {
      "cell_type": "code",
      "execution_count": 130,
      "metadata": {
        "id": "uwX1fagevy4b"
      },
      "outputs": [],
      "source": [
        "# Créer une instance du vectoriseur TF-IDF\n",
        "vectorizer = TfidfVectorizer()"
      ],
      "id": "uwX1fagevy4b"
    },
    {
      "cell_type": "code",
      "execution_count": 131,
      "metadata": {
        "id": "rGh_7ajtv30r"
      },
      "outputs": [],
      "source": [
        "# Appliquer le vectoriseur aux données textuelles de la colonne 'clean_url'\n",
        "feature = vectorizer.fit_transform(df_phish_processed['clean_url'])"
      ],
      "id": "rGh_7ajtv30r"
    },
    {
      "cell_type": "code",
      "execution_count": 132,
      "metadata": {
        "colab": {
          "base_uri": "https://localhost:8080/"
        },
        "id": "78xESfIgbIas",
        "outputId": "eee39819-f816-4110-891c-1336e3747d09"
      },
      "outputs": [
        {
          "output_type": "execute_result",
          "data": {
            "text/plain": [
              "array([[0., 0., 0., ..., 0., 0., 0.],\n",
              "       [0., 0., 0., ..., 0., 0., 0.],\n",
              "       [0., 0., 0., ..., 0., 0., 0.],\n",
              "       [0., 0., 0., ..., 0., 0., 0.],\n",
              "       [0., 0., 0., ..., 0., 0., 0.]])"
            ]
          },
          "metadata": {},
          "execution_count": 132
        }
      ],
      "source": [
        "feature[:5].toarray()"
      ],
      "id": "78xESfIgbIas"
    },
    {
      "cell_type": "markdown",
      "metadata": {
        "id": "mPTSJZfHwejd"
      },
      "source": [
        "# Tester et évaluer les modèles"
      ],
      "id": "mPTSJZfHwejd"
    },
    {
      "cell_type": "markdown",
      "metadata": {
        "id": "GzFNDvlhebhL"
      },
      "source": [
        "Cette fonction, `generer_rapport`, génère un rapport visuel comprenant une carte thermique (heatmap) de la matrice de confusion ainsi qu'une impression du rapport de classification. La matrice de confusion est affichée sous forme de heatmap avec des annotations des valeurs. Les étiquettes des axes x et y sont définies comme 'fishing' (phishing) et 'legit' (légitime). Le score de précision du modèle est également affiché dans le titre de la heatmap. Enfin, le rapport de classification est imprimé."
      ],
      "id": "GzFNDvlhebhL"
    },
    {
      "cell_type": "code",
      "execution_count": 133,
      "metadata": {
        "id": "3HvWFDql1HTi"
      },
      "outputs": [],
      "source": [
        "def generer_rapport(matrice_confusion, score, rapport_classification):\n",
        "    \"\"\"\n",
        "    Génère et affiche des rapports graphiques\n",
        "    Arguments par mot-clé :\n",
        "        matrice_confusion - Matrice de confusion générée par le modèle\n",
        "        score --- Score généré par le modèle\n",
        "        rapport_classification - Rapport de classification généré par le modèle\n",
        "\n",
        "    \"\"\"\n",
        "\n",
        "    # Générer la carte thermique de la matrice de confusion\n",
        "    plt.figure(figsize=(5, 5))\n",
        "    sns.heatmap(matrice_confusion,\n",
        "                annot=True,\n",
        "                fmt=\"d\",\n",
        "                linewidths=.5,\n",
        "                square=True,\n",
        "                cmap='viridis',\n",
        "                annot_kws={\"size\": 13},\n",
        "                xticklabels=['fishing', 'legit'],\n",
        "                yticklabels=['fishing', 'legit'])\n",
        "\n",
        "    plt.xticks(rotation='horizontal', fontsize=13)\n",
        "    plt.yticks(rotation='horizontal', fontsize=13)\n",
        "    plt.xlabel('Étiquette Réelle', size=10);\n",
        "    plt.ylabel('Étiquette Prédite', size=10);\n",
        "\n",
        "    titre = 'Score de Précision : {0:.4f}'.format(score)\n",
        "    plt.title(titre, size=15);\n",
        "\n",
        "    # Afficher le rapport de classification et la matrice de confusion\n",
        "    print(rapport_classification)\n",
        "    plt.show()\n"
      ],
      "id": "3HvWFDql1HTi"
    },
    {
      "cell_type": "markdown",
      "metadata": {
        "id": "hw0iPV7u10vC"
      },
      "source": [
        "## Importation des modules"
      ],
      "id": "hw0iPV7u10vC"
    },
    {
      "cell_type": "code",
      "execution_count": 134,
      "metadata": {
        "id": "ot9u-pXS16cQ"
      },
      "outputs": [],
      "source": [
        "from sklearn.ensemble import RandomForestClassifier, VotingClassifier\n",
        "from sklearn.metrics import accuracy_score, confusion_matrix, classification_report\n",
        "from sklearn.model_selection import RepeatedStratifiedKFold, cross_val_score, GridSearchCV, train_test_split\n",
        "from sklearn.svm import SVC\n",
        "from sklearn.linear_model import LogisticRegression\n",
        "from sklearn.naive_bayes import MultinomialNB\n",
        "from sklearn.neighbors import KNeighborsClassifier\n",
        "from sklearn.tree import DecisionTreeClassifier"
      ],
      "id": "ot9u-pXS16cQ"
    },
    {
      "cell_type": "markdown",
      "metadata": {
        "id": "KZYjYzzlb4Tc"
      },
      "source": [
        "Étant donné le déséquilibre des classes, on pourrait opter pour un sous-échantillonnage ou un suréchantillonnage, mais nous allons laisser les données telles qu'elles et voir si nous obtenons de bons résultats."
      ],
      "id": "KZYjYzzlb4Tc"
    },
    {
      "cell_type": "markdown",
      "metadata": {
        "id": "tacoML9FmoY8"
      },
      "source": [
        "### Division des données"
      ],
      "id": "tacoML9FmoY8"
    },
    {
      "cell_type": "code",
      "execution_count": 135,
      "metadata": {
        "id": "2yhRW_OjmuX2"
      },
      "outputs": [],
      "source": [
        "# Diviser les données en ensembles d'entraînement et de test\n",
        "X_train, X_test, y_train, y_test = train_test_split(feature, df_phish_processed.label, test_size=0.2, random_state=42)"
      ],
      "id": "2yhRW_OjmuX2"
    },
    {
      "cell_type": "markdown",
      "metadata": {
        "id": "LQKI3QWunYDx"
      },
      "source": [
        "####  LogisticRegression"
      ],
      "id": "LQKI3QWunYDx"
    },
    {
      "cell_type": "code",
      "execution_count": 136,
      "metadata": {
        "id": "tk3n7_NCtq5T"
      },
      "outputs": [],
      "source": [
        "# Initialiser le modèle LogisticRegression avec des hyperparamètres spécifiés\n",
        "model_lr = LogisticRegression(\n",
        "    C=10.0,\n",
        "    penalty='l2',\n",
        "    solver='liblinear',\n",
        "    max_iter=1000,  # ou une valeur plus grande\n",
        "    random_state=42\n",
        ")\n",
        "\n",
        "# Définir la validation croisée RepeatedStratifiedKFold\n",
        "cv_lr = RepeatedStratifiedKFold(n_splits=5, n_repeats=3, random_state=42)\n",
        "\n",
        "# Liste pour stocker les résultats d'accuracy\n",
        "accuracies = []\n",
        "\n",
        "# Effectuer la validation croisée\n",
        "for train_index, test_index in cv_lr.split(X_train, y_train):\n",
        "    X_train_fold, X_val_fold = X_train[train_index], X_train[test_index]\n",
        "    y_train_fold, y_val_fold = y_train.iloc[train_index], y_train.iloc[test_index]\n",
        "\n",
        "    # Ajuster le modèle sur le fold d'entraînement\n",
        "    model_lr.fit(X_train_fold, y_train_fold)\n",
        "\n",
        "    # Prédire sur le fold de validation\n",
        "    predictions_fold = model_lr.predict(X_val_fold)\n",
        "\n",
        "    # Calculer l'accuracy sur le fold de validation\n",
        "    fold_accuracy = accuracy_score(y_val_fold, predictions_fold)\n",
        "    accuracies.append(fold_accuracy)"
      ],
      "id": "tk3n7_NCtq5T"
    },
    {
      "cell_type": "code",
      "execution_count": 137,
      "metadata": {
        "colab": {
          "base_uri": "https://localhost:8080/"
        },
        "id": "ySEm3ZSWt3TI",
        "outputId": "358add8e-71c8-4e8f-c549-bd9f78862dac"
      },
      "outputs": [
        {
          "output_type": "stream",
          "name": "stdout",
          "text": [
            "Accuracies for each fold: [0.9883103081827843, 0.9859192348565357, 0.9885759829968119, 0.9933563646027106, 0.986181238373638, 0.987778958554729, 0.9883103081827843, 0.9885759829968119, 0.9883072017007707, 0.9872442200372044, 0.9880446333687567, 0.9904357066950054, 0.9829968119022316, 0.9877757108689875, 0.989370183364337]\n"
          ]
        }
      ],
      "source": [
        "# Afficher les accuracies de chaque fold\n",
        "print(\"Accuracies for each fold:\", accuracies)"
      ],
      "id": "ySEm3ZSWt3TI"
    },
    {
      "cell_type": "code",
      "execution_count": 138,
      "metadata": {
        "colab": {
          "base_uri": "https://localhost:8080/"
        },
        "id": "y6P03934uL2T",
        "outputId": "55308089-83de-44e0-ec93-32f66558e628"
      },
      "outputs": [
        {
          "output_type": "stream",
          "name": "stdout",
          "text": [
            "Mean Accuracy:  0.9880788564456066\n"
          ]
        }
      ],
      "source": [
        "# Afficher l'accuracy moyenne sur toutes les folds\n",
        "print(\"Mean Accuracy: \", np.mean(accuracies))"
      ],
      "id": "y6P03934uL2T"
    },
    {
      "cell_type": "code",
      "execution_count": 139,
      "metadata": {
        "id": "AJc4L_NJt9K5"
      },
      "outputs": [],
      "source": [
        "# Tester le modèle sur l'ensemble de test\n",
        "predictions_lr_test = model_lr.predict(X_test)\n",
        "score_lr_test = accuracy_score(y_test, predictions_lr_test)\n",
        "cmatrix_lr_test = confusion_matrix(y_test, predictions_lr_test)\n",
        "creport_lr_test = classification_report(y_test, predictions_lr_test)"
      ],
      "id": "AJc4L_NJt9K5"
    },
    {
      "cell_type": "code",
      "execution_count": 140,
      "metadata": {
        "colab": {
          "base_uri": "https://localhost:8080/",
          "height": 611
        },
        "id": "Xl8IUW7z8tH4",
        "outputId": "1919dbaf-5c01-4f38-acc1-24ac3d71b642"
      },
      "outputs": [
        {
          "output_type": "stream",
          "name": "stdout",
          "text": [
            "Evaluation\n",
            "              precision    recall  f1-score   support\n",
            "\n",
            "           0       0.99      1.00      0.99      3519\n",
            "           1       1.00      0.96      0.98      1186\n",
            "\n",
            "    accuracy                           0.99      4705\n",
            "   macro avg       0.99      0.98      0.99      4705\n",
            "weighted avg       0.99      0.99      0.99      4705\n",
            "\n"
          ]
        },
        {
          "output_type": "display_data",
          "data": {
            "text/plain": [
              "<Figure size 500x500 with 2 Axes>"
            ],
            "image/png": "[encoded data removed]"
          },
          "metadata": {}
        }
      ],
      "source": [
        "print(\"Evaluation\")\n",
        "generer_rapport(cmatrix_lr_test, score_lr_test, creport_lr_test)"
      ],
      "id": "Xl8IUW7z8tH4"
    },
    {
      "cell_type": "markdown",
      "metadata": {
        "id": "ZumtDlEgxtD4"
      },
      "source": [
        "#### DecisionTreeClassifier"
      ],
      "id": "ZumtDlEgxtD4"
    },
    {
      "cell_type": "code",
      "execution_count": 141,
      "metadata": {
        "colab": {
          "base_uri": "https://localhost:8080/"
        },
        "id": "OQScrii_yQ_Q",
        "outputId": "895fe74a-9bd7-4c37-d5d5-0f378162558b"
      },
      "outputs": [
        {
          "output_type": "stream",
          "name": "stdout",
          "text": [
            "Accuracies for each fold with DecisionTreeClassifier: [0.9851222104144527, 0.9800743889479278, 0.9853878852284803, 0.9853840021259633, 0.9808663300558066, 0.9869819341126461, 0.9872476089266737, 0.980605738575983, 0.9779431304809992, 0.9869784746213128, 0.9808714133900106, 0.9845908607863975, 0.9790116896918172, 0.984321020462397, 0.9856497475418549]\n"
          ]
        }
      ],
      "source": [
        "# Créer une instance du modèle DecisionTreeClassifier avec des hyperparamètres spécifiés\n",
        "model_dt = (DecisionTreeClassifier)(\n",
        "    criterion='gini',       # Critère de sélection des features ('gini' ou 'entropy')\n",
        "    splitter='random',        # Stratégie utilisée pour choisir la division à chaque noeud ('best' ou 'random')\n",
        "    max_depth=None,         # Profondeur maximale de l'arbre (None signifie aucune limite)\n",
        "    min_samples_split=2,    # Nombre minimum d'échantillons requis pour diviser un nœud interne\n",
        "    min_samples_leaf=1,     # Nombre minimum d'échantillons requis pour être une feuille\n",
        "    max_features=None,      # Nombre de fonctionnalités à considérer pour la meilleure division\n",
        "    random_state=42\n",
        ")\n",
        "\n",
        "# Définir la validation croisée RepeatedStratifiedKFold\n",
        "cv_dt = RepeatedStratifiedKFold(n_splits=5, n_repeats=3, random_state=42)\n",
        "\n",
        "# Liste pour stocker les résultats d'accuracy\n",
        "accuracies_dt = []\n",
        "\n",
        "# Effectuer la validation croisée\n",
        "for train_index, test_index in cv_dt.split(X_train, y_train):\n",
        "    X_train_fold, X_val_fold = X_train[train_index], X_train[test_index]\n",
        "    y_train_fold, y_val_fold = y_train.iloc[train_index], y_train.iloc[test_index]\n",
        "\n",
        "    # Ajuster le modèle sur le fold d'entraînement\n",
        "    model_dt.fit(X_train_fold, y_train_fold)\n",
        "\n",
        "    # Prédire sur le fold de validation\n",
        "    predictions_fold_dt = model_dt.predict(X_val_fold)\n",
        "\n",
        "    # Calculer l'accuracy sur le fold de validation\n",
        "    fold_accuracy_dt = accuracy_score(y_val_fold, predictions_fold_dt)\n",
        "    accuracies_dt.append(fold_accuracy_dt)\n",
        "\n",
        "# Afficher les accuracies de chaque fold\n",
        "print(\"Accuracies for each fold with DecisionTreeClassifier:\", accuracies_dt)\n"
      ],
      "id": "OQScrii_yQ_Q"
    },
    {
      "cell_type": "code",
      "execution_count": 142,
      "metadata": {
        "colab": {
          "base_uri": "https://localhost:8080/"
        },
        "id": "sZrk2wEV43Mw",
        "outputId": "c6f81e13-02fa-48e1-8c0f-4ba23393b810"
      },
      "outputs": [
        {
          "output_type": "stream",
          "name": "stdout",
          "text": [
            "Moyenne des accuracies: 0.9834024290241815\n"
          ]
        }
      ],
      "source": [
        "# Afficher la moyenne des accuracies sur les différents folds\n",
        "print(\"Moyenne des accuracies:\", np.mean(accuracies_dt))"
      ],
      "id": "sZrk2wEV43Mw"
    },
    {
      "cell_type": "code",
      "execution_count": 143,
      "metadata": {
        "id": "dl_b76q1ylkL"
      },
      "outputs": [],
      "source": [
        "# Tester le meilleur modèle sur l'ensemble de test\n",
        "predictions_dt_test = model_dt.predict(X_test)\n",
        "score_dt_test = accuracy_score(y_test, predictions_dt_test)\n",
        "cmatrix_dt_test = confusion_matrix(y_test, predictions_dt_test)\n",
        "creport_dt_test = classification_report(y_test, predictions_dt_test)"
      ],
      "id": "dl_b76q1ylkL"
    },
    {
      "cell_type": "code",
      "execution_count": 144,
      "metadata": {
        "colab": {
          "base_uri": "https://localhost:8080/",
          "height": 607
        },
        "id": "ycPmfv7iy1Z5",
        "outputId": "86c3624c-3494-4c11-e306-24526ea17d93"
      },
      "outputs": [
        {
          "output_type": "stream",
          "name": "stdout",
          "text": [
            "Evaluation\n",
            "              precision    recall  f1-score   support\n",
            "\n",
            "           0       0.99      0.99      0.99      3519\n",
            "           1       0.96      0.98      0.97      1186\n",
            "\n",
            "    accuracy                           0.98      4705\n",
            "   macro avg       0.98      0.98      0.98      4705\n",
            "weighted avg       0.98      0.98      0.98      4705\n",
            "\n"
          ]
        },
        {
          "output_type": "display_data",
          "data": {
            "text/plain": [
              "<Figure size 500x500 with 2 Axes>"
            ],
            "image/png": "[encoded data removed]"
          },
          "metadata": {}
        }
      ],
      "source": [
        "print(\"Evaluation\")\n",
        "generer_rapport(cmatrix_dt_test, score_dt_test, creport_dt_test)"
      ],
      "id": "ycPmfv7iy1Z5"
    },
    {
      "cell_type": "markdown",
      "metadata": {
        "id": "LeGYMrV4ETfn"
      },
      "source": [
        "#### MultinomialNB"
      ],
      "id": "LeGYMrV4ETfn"
    },
    {
      "cell_type": "code",
      "execution_count": 145,
      "metadata": {
        "id": "hLzJmECiEQ3Q"
      },
      "outputs": [],
      "source": [
        "# Définir le classificateur MultinomialNB\n",
        "model_nb = MultinomialNB()\n",
        "\n",
        "\n",
        "# Définir les hyperparamètres à tester\n",
        "param_grid_nb = {'alpha': [0.001, 0.01, 0.1, 0.5, 1.0], 'fit_prior': [True, False]}\n",
        "\n",
        "# Définir la validation croisée RepeatedStratifiedKFold\n",
        "cv_nb = RepeatedStratifiedKFold(n_splits=5, n_repeats=3, random_state=42)\n",
        "\n",
        "# Créer une instance du modèle MultinomialNB\n",
        "model_nb = MultinomialNB()\n",
        "\n",
        "# Créer l'instance GridSearchCV\n",
        "grid_search_nb = GridSearchCV(estimator=model_nb, param_grid=param_grid_nb, cv=cv_nb, scoring='accuracy', n_jobs=-1)\n",
        "\n",
        "# Ajuster le modèle avec GridSearchCV sur les données d'entraînement\n",
        "grid_result_nb = grid_search_nb.fit(X_train, y_train)\n",
        "\n",
        "# Obtenir le meilleur modèle\n",
        "best_model_nb = grid_result_nb.best_estimator_\n",
        "\n",
        "# Tester le meilleur modèle sur l'ensemble de test\n",
        "predictions_nb_test = best_model_nb.predict(X_test)\n",
        "score_nb_test = accuracy_score(y_test, predictions_nb_test)"
      ],
      "id": "hLzJmECiEQ3Q"
    },
    {
      "cell_type": "code",
      "execution_count": 146,
      "metadata": {
        "colab": {
          "base_uri": "https://localhost:8080/"
        },
        "id": "rMKgtJHmExzh",
        "outputId": "938a0e8f-563d-4e8a-a751-0dd1ef8d5b0f"
      },
      "outputs": [
        {
          "output_type": "stream",
          "name": "stdout",
          "text": [
            "Meilleur modèle MultinomialNB - Résultats sur l'ensemble de test:\n",
            "Accuracy sur l'ensemble de test: 0.9849096705632306\n"
          ]
        }
      ],
      "source": [
        "# Afficher les résultats sur l'ensemble de test\n",
        "print(\"Meilleur modèle MultinomialNB - Résultats sur l'ensemble de test:\")\n",
        "print(\"Accuracy sur l'ensemble de test:\", score_nb_test)"
      ],
      "id": "rMKgtJHmExzh"
    },
    {
      "cell_type": "code",
      "execution_count": 147,
      "metadata": {
        "id": "B73THQCNEsVg"
      },
      "outputs": [],
      "source": [
        "# Tester le meilleur modèle sur l'ensemble de test\n",
        "predictions_nb_test = best_model_nb.predict(X_test)\n",
        "score_nb_test = accuracy_score(y_test, predictions_nb_test)\n",
        "cmatrix_nb_test = confusion_matrix(y_test, predictions_nb_test)\n",
        "creport_nb_test = classification_report(y_test, predictions_nb_test)"
      ],
      "id": "B73THQCNEsVg"
    },
    {
      "cell_type": "code",
      "execution_count": 148,
      "metadata": {
        "colab": {
          "base_uri": "https://localhost:8080/",
          "height": 612
        },
        "id": "dl3CLI3fFrip",
        "outputId": "fa23df9b-dd80-4601-9fe8-74dbacf48ed3"
      },
      "outputs": [
        {
          "output_type": "stream",
          "name": "stdout",
          "text": [
            "Evaluation\n",
            "              precision    recall  f1-score   support\n",
            "\n",
            "           0       0.98      1.00      0.99      3519\n",
            "           1       0.99      0.95      0.97      1186\n",
            "\n",
            "    accuracy                           0.98      4705\n",
            "   macro avg       0.99      0.97      0.98      4705\n",
            "weighted avg       0.98      0.98      0.98      4705\n",
            "\n"
          ]
        },
        {
          "output_type": "display_data",
          "data": {
            "text/plain": [
              "<Figure size 500x500 with 2 Axes>"
            ],
            "image/png": "[encoded data removed]"
          },
          "metadata": {}
        }
      ],
      "source": [
        "print(\"Evaluation\")\n",
        "generer_rapport(cmatrix_nb_test, score_nb_test, creport_nb_test)"
      ],
      "id": "dl3CLI3fFrip"
    },
    {
      "cell_type": "markdown",
      "metadata": {
        "id": "eHXmaxtLcp6Y"
      },
      "source": [
        "## Autres techniques (optionnelles)"
      ],
      "id": "eHXmaxtLcp6Y"
    },
    {
      "cell_type": "markdown",
      "metadata": {
        "id": "7ruA8L_Pqevd"
      },
      "source": [
        "#### Bagging"
      ],
      "id": "7ruA8L_Pqevd"
    },
    {
      "cell_type": "code",
      "execution_count": 149,
      "metadata": {
        "colab": {
          "base_uri": "https://localhost:8080/"
        },
        "id": "ru3jWpXHqjIO",
        "outputId": "acd6f6ac-ab34-43ef-a91a-148c72785ad3"
      },
      "outputs": [
        {
          "output_type": "stream",
          "name": "stdout",
          "text": [
            "Accuracy of Ensemble Model: 0.9878852284803401\n"
          ]
        }
      ],
      "source": [
        "from sklearn.linear_model import LogisticRegressionCV\n",
        "\n",
        "# Ajustez les paramètres pour chaque modèle\n",
        "param_grid_knn = {'n_neighbors': [3, 5, 7]}\n",
        "param_grid_dt = {'max_depth': [None, 10, 20], 'min_samples_leaf': [1, 5, 10]}\n",
        "param_grid_lr = {'Cs': [0.1, 1, 10], 'penalty': ['l2']}\n",
        "\n",
        "# Utilisez GridSearchCV pour trouver les meilleurs paramètres\n",
        "grid_search_knn = GridSearchCV(KNeighborsClassifier(), param_grid_knn, cv=3)\n",
        "grid_search_dt = GridSearchCV(DecisionTreeClassifier(), param_grid_dt, cv=3)\n",
        "grid_search_lr = LogisticRegressionCV(Cs=param_grid_lr['Cs'], penalty=param_grid_lr['penalty'][0], cv=3, solver='liblinear', max_iter=1000)\n",
        "\n",
        "# Entraînez les modèles avec les meilleurs paramètres trouvés\n",
        "knn_classifier = grid_search_knn.fit(X_train, y_train).best_estimator_\n",
        "decision_tree = grid_search_dt.fit(X_train, y_train).best_estimator_\n",
        "logistic_regression = grid_search_lr.fit(X_train, y_train)\n",
        "\n",
        "# Créez un ensemble de modèles avec les meilleurs modèles trouvés\n",
        "ensemble_model = VotingClassifier(estimators=[\n",
        "    ('knn', knn_classifier),\n",
        "    ('dt', decision_tree),\n",
        "    ('lr', logistic_regression)\n",
        "], voting='soft')\n",
        "\n",
        "# Entraînez l'ensemble sur vos données d'entraînement\n",
        "ensemble_model.fit(X_train, y_train)\n",
        "\n",
        "# Faites des prédictions\n",
        "predictions = ensemble_model.predict(X_test)\n",
        "\n",
        "# Évaluez la performance\n",
        "accuracy = accuracy_score(y_test, predictions)\n",
        "print(f\"Accuracy of Ensemble Model: {accuracy}\")\n"
      ],
      "id": "ru3jWpXHqjIO"
    },
    {
      "cell_type": "code",
      "execution_count": 150,
      "metadata": {
        "id": "umWdpYwaiDtW"
      },
      "outputs": [],
      "source": [
        "# Tester le meilleur modèle sur l'ensemble de test\n",
        "predictions_ensemble_test = ensemble_model.predict(X_test)\n",
        "score_ensemble_test = accuracy_score(y_test, predictions_ensemble_test)\n",
        "cmatrix_ensemble_test = confusion_matrix(y_test, predictions_ensemble_test)\n",
        "creport_ensemble_test = classification_report(y_test, predictions_ensemble_test)"
      ],
      "id": "umWdpYwaiDtW"
    },
    {
      "cell_type": "code",
      "execution_count": 151,
      "metadata": {
        "colab": {
          "base_uri": "https://localhost:8080/",
          "height": 607
        },
        "id": "c_bvwpFtiK9v",
        "outputId": "b91f3ce9-f194-49c9-c9b7-f0d966d7a4f1"
      },
      "outputs": [
        {
          "output_type": "stream",
          "name": "stdout",
          "text": [
            "Evaluation\n",
            "              precision    recall  f1-score   support\n",
            "\n",
            "           0       0.99      0.99      0.99      3519\n",
            "           1       0.97      0.98      0.98      1186\n",
            "\n",
            "    accuracy                           0.99      4705\n",
            "   macro avg       0.98      0.99      0.98      4705\n",
            "weighted avg       0.99      0.99      0.99      4705\n",
            "\n"
          ]
        },
        {
          "output_type": "display_data",
          "data": {
            "text/plain": [
              "<Figure size 500x500 with 2 Axes>"
            ],
            "image/png": "[encoded data removed]"
          },
          "metadata": {}
        }
      ],
      "source": [
        "print(\"Evaluation\")\n",
        "generer_rapport(cmatrix_ensemble_test, score_ensemble_test, creport_ensemble_test )"
      ],
      "id": "c_bvwpFtiK9v"
    },
    {
      "cell_type": "markdown",
      "metadata": {
        "id": "N7aNdYlkE3Nm"
      },
      "source": [
        "## Test sur de nouvelles donndonnées"
      ],
      "id": "N7aNdYlkE3Nm"
    },
    {
      "cell_type": "code",
      "execution_count": 152,
      "metadata": {
        "id": "ZRKU-irv3qic"
      },
      "outputs": [],
      "source": [
        "predict_good = ['youtube.com/','youtube.com/watch?v=qI0TQJI3vdU','retailhellunderground.com/','restorevisioncenters.com/html/technology.html']\n",
        "predict_bad = ['yeniik.com.tr/wp-admin/js/login.alibaba.com/login.jsp.php','fazan-pacir.rs/temp/libraries/ipad','tubemoviez.exe','svision-online.de/mgfi/administrator/components/com_babackup/classes/fx29id1.txt']"
      ],
      "id": "ZRKU-irv3qic"
    },
    {
      "cell_type": "markdown",
      "metadata": {
        "id": "_eZyv1c59Vk-"
      },
      "source": [
        "#### LogisticRegression"
      ],
      "id": "_eZyv1c59Vk-"
    },
    {
      "cell_type": "code",
      "execution_count": 153,
      "metadata": {
        "colab": {
          "base_uri": "https://localhost:8080/"
        },
        "id": "2Hjf2rDM9U8m",
        "outputId": "3ca6b1bc-d97f-4040-e1a2-7b78babe8aac"
      },
      "outputs": [
        {
          "output_type": "stream",
          "name": "stdout",
          "text": [
            "[1 0 1 1]\n",
            "----------------------------------------\n",
            "[1 0 1 0]\n"
          ]
        }
      ],
      "source": [
        "# Assurez-vous de transformer les nouvelles données de la même manière que vos données d'entraînement\n",
        "good_predict = vectorizer.transform(predict_good)\n",
        "bad_predict = vectorizer.transform(predict_bad)\n",
        "\n",
        "# Effectuez la prédiction\n",
        "resultat1 = model_lr.predict(good_predict)\n",
        "resultat2 = model_lr.predict(bad_predict)\n",
        "\n",
        "print(resultat1)\n",
        "print(\"-\"*40)\n",
        "print(resultat2)"
      ],
      "id": "2Hjf2rDM9U8m"
    },
    {
      "cell_type": "markdown",
      "metadata": {
        "id": "2a0RYjFx-rWx"
      },
      "source": [
        "#### DecisionTreeClassifier"
      ],
      "id": "2a0RYjFx-rWx"
    },
    {
      "cell_type": "code",
      "execution_count": 154,
      "metadata": {
        "colab": {
          "base_uri": "https://localhost:8080/"
        },
        "id": "11TIlJro-q3S",
        "outputId": "44bc87fc-6205-4387-e816-f48af179f720"
      },
      "outputs": [
        {
          "output_type": "stream",
          "name": "stdout",
          "text": [
            "[1 0 1 1]\n",
            "----------------------------------------\n",
            "[1 1 1 1]\n"
          ]
        }
      ],
      "source": [
        "# Assurez-vous de transformer les nouvelles données de la même manière que vos données d'entraînement\n",
        "good_predict = vectorizer.transform(predict_good)\n",
        "bad_predict = vectorizer.transform(predict_bad)\n",
        "\n",
        "# Effectuez la prédiction\n",
        "resultat1 = model_dt.predict(good_predict)\n",
        "resultat2 = model_dt.predict(bad_predict)\n",
        "\n",
        "print(resultat1)\n",
        "print(\"-\"*40)\n",
        "print(resultat2)"
      ],
      "id": "11TIlJro-q3S"
    },
    {
      "cell_type": "markdown",
      "metadata": {
        "id": "dsTaaM01_Wmv"
      },
      "source": [
        "### MultinomialNB"
      ],
      "id": "dsTaaM01_Wmv"
    },
    {
      "cell_type": "code",
      "execution_count": 155,
      "metadata": {
        "colab": {
          "base_uri": "https://localhost:8080/"
        },
        "id": "qzP1cBRS_Zsw",
        "outputId": "d3fc2998-f05a-4a76-d0e6-c25745fa0b7e"
      },
      "outputs": [
        {
          "output_type": "stream",
          "name": "stdout",
          "text": [
            "[0 0 0 0]\n",
            "----------------------------------------\n",
            "[1 0 0 1]\n"
          ]
        }
      ],
      "source": [
        "# Assurez-vous de transformer les nouvelles données de la même manière que vos données d'entraînement\n",
        "good_predict = vectorizer.transform(predict_good)\n",
        "bad_predict = vectorizer.transform(predict_bad)\n",
        "\n",
        "# Effectuez la prédiction\n",
        "resultat1 = best_model_nb.predict(good_predict)\n",
        "resultat2 = best_model_nb.predict(bad_predict)\n",
        "\n",
        "print(resultat1)\n",
        "print(\"-\"*40)\n",
        "print(resultat2)"
      ],
      "id": "qzP1cBRS_Zsw"
    },
    {
      "cell_type": "markdown",
      "metadata": {
        "id": "pd4QgK17DQCR"
      },
      "source": [
        "#### Bagging"
      ],
      "id": "pd4QgK17DQCR"
    },
    {
      "cell_type": "code",
      "execution_count": 156,
      "metadata": {
        "colab": {
          "base_uri": "https://localhost:8080/"
        },
        "id": "LcIE0mUtDXe3",
        "outputId": "254a846f-5a7a-4073-e9d5-b7d3d12437b1"
      },
      "outputs": [
        {
          "output_type": "stream",
          "name": "stdout",
          "text": [
            "[1 0 1 1]\n",
            "----------------------------------------\n",
            "[1 1 1 0]\n"
          ]
        }
      ],
      "source": [
        "# Assurez-vous de transformer les nouvelles données de la même manière que vos données d'entraînement\n",
        "good_predict = vectorizer.transform(predict_good)\n",
        "bad_predict = vectorizer.transform(predict_bad)\n",
        "\n",
        "# Effectuez la prédiction\n",
        "resultat1 = ensemble_model.predict(good_predict)\n",
        "resultat2 = ensemble_model.predict(bad_predict)\n",
        "\n",
        "print(resultat1)\n",
        "print(\"-\"*40)\n",
        "print(resultat2)"
      ],
      "id": "LcIE0mUtDXe3"
    },
    {
      "cell_type": "markdown",
      "metadata": {
        "id": "0J2YOQIwBk1H"
      },
      "source": [
        "# rééchantillonnage"
      ],
      "id": "0J2YOQIwBk1H"
    },
    {
      "cell_type": "markdown",
      "metadata": {
        "id": "E5juwQQpADmn"
      },
      "source": [
        "Utilisons des techniques de rééchantillonnage comme la suréchantillonnage(oversampling) de la classe minoritaire (phishing) ou la sous-échantillonnage (undersampling) de la classe majoritaire (légitime).\n",
        "\n",
        "Nous allons opter pour un sous-échantillonnage de la classe majoritaire"
      ],
      "id": "E5juwQQpADmn"
    },
    {
      "cell_type": "code",
      "execution_count": 157,
      "metadata": {
        "id": "Qx4R_U9VBcOZ"
      },
      "outputs": [],
      "source": [
        "from imblearn.under_sampling import RandomUnderSampler\n",
        "\n",
        "\n",
        "# Instanciez la classe RandomUnderSampler\n",
        "rus = RandomUnderSampler(sampling_strategy=0.4, random_state=42)\n",
        "\n",
        "# Appliquez le sous-échantillonnage sur l'ensemble d'entraînement\n",
        "X_train_resampled, y_train_resampled = rus.fit_resample(X_train, y_train)"
      ],
      "id": "Qx4R_U9VBcOZ"
    },
    {
      "cell_type": "markdown",
      "source": [
        "#### LogisticRegression"
      ],
      "metadata": {
        "id": "VB4SVUhauIKQ"
      },
      "id": "VB4SVUhauIKQ"
    },
    {
      "cell_type": "code",
      "execution_count": 158,
      "metadata": {
        "colab": {
          "base_uri": "https://localhost:8080/"
        },
        "id": "Bh92CW5wCDkC",
        "outputId": "00458b17-9d0a-4785-c12b-4038d1e08ae6"
      },
      "outputs": [
        {
          "output_type": "stream",
          "name": "stdout",
          "text": [
            "Accuracy: 0.9543039319872476\n"
          ]
        }
      ],
      "source": [
        "# Créez et entraînez votre modèle sur l'ensemble d'entraînement sous-échantillonné\n",
        "model_lo = LogisticRegression()  # Remplacez par le modèle de votre choix\n",
        "model_lo.fit(X_train_resampled, y_train_resampled)\n",
        "\n",
        "# Faites des prédictions sur l'ensemble de test original\n",
        "predictions = model_lo.predict(X_test)\n",
        "\n",
        "# Évaluez la performance du modèle\n",
        "accuracy = accuracy_score(y_test, predictions)\n",
        "report = classification_report(y_test, predictions)\n",
        "\n",
        "# Affichez les résultats\n",
        "print(f\"Accuracy: {accuracy}\")"
      ],
      "id": "Bh92CW5wCDkC"
    },
    {
      "cell_type": "code",
      "source": [
        "# Tester le modèle sur l'ensemble de test\n",
        "predictions_lo_test = model_lo.predict(X_test)\n",
        "score_lo_test = accuracy_score(y_test, predictions_lo_test)\n",
        "cmatrix_lo_test = confusion_matrix(y_test, predictions_lo_test)\n",
        "creport_lo_test = classification_report(y_test, predictions_lo_test)"
      ],
      "metadata": {
        "id": "uKzov70NujQv"
      },
      "id": "uKzov70NujQv",
      "execution_count": 159,
      "outputs": []
    },
    {
      "cell_type": "code",
      "source": [
        "print(\"Evaluation\")\n",
        "generer_rapport(cmatrix_lo_test, score_lo_test, creport_lo_test)"
      ],
      "metadata": {
        "colab": {
          "base_uri": "https://localhost:8080/",
          "height": 611
        },
        "id": "n2wYL6envHif",
        "outputId": "68820407-89e1-427d-a659-fb1e3281b05a"
      },
      "id": "n2wYL6envHif",
      "execution_count": 160,
      "outputs": [
        {
          "output_type": "stream",
          "name": "stdout",
          "text": [
            "Evaluation\n",
            "              precision    recall  f1-score   support\n",
            "\n",
            "           0       0.94      1.00      0.97      3519\n",
            "           1       1.00      0.82      0.90      1186\n",
            "\n",
            "    accuracy                           0.95      4705\n",
            "   macro avg       0.97      0.91      0.94      4705\n",
            "weighted avg       0.96      0.95      0.95      4705\n",
            "\n"
          ]
        },
        {
          "output_type": "display_data",
          "data": {
            "text/plain": [
              "<Figure size 500x500 with 2 Axes>"
            ],
            "image/png": "[encoded data removed]"
          },
          "metadata": {}
        }
      ]
    },
    {
      "cell_type": "markdown",
      "source": [
        "#### DecisionTreeClassifier"
      ],
      "metadata": {
        "id": "UMaStvVswfQS"
      },
      "id": "UMaStvVswfQS"
    },
    {
      "cell_type": "code",
      "source": [
        "# Créez et entraînez votre modèle sur l'ensemble d'entraînement sous-échantillonné\n",
        "model_DT = DecisionTreeClassifier()  # Remplacez par le modèle de votre choix\n",
        "model_DT.fit(X_train_resampled, y_train_resampled)\n",
        "\n",
        "# Faites des prédictions sur l'ensemble de test original\n",
        "predictions = model_DT.predict(X_test)\n",
        "\n",
        "# Évaluez la performance du modèle\n",
        "accuracy = accuracy_score(y_test, predictions)\n",
        "report = classification_report(y_test, predictions)\n",
        "\n",
        "# Affichez les résultats\n",
        "print(f\"Accuracy: {accuracy}\")"
      ],
      "metadata": {
        "colab": {
          "base_uri": "https://localhost:8080/"
        },
        "id": "ahdmbzlpwe5L",
        "outputId": "8ae6862d-9530-4d27-8e1a-7dedf48853b9"
      },
      "id": "ahdmbzlpwe5L",
      "execution_count": 161,
      "outputs": [
        {
          "output_type": "stream",
          "name": "stdout",
          "text": [
            "Accuracy: 0.9825717321997874\n"
          ]
        }
      ]
    },
    {
      "cell_type": "code",
      "source": [
        "# Tester le modèle sur l'ensemble de test\n",
        "predictions_DT_test = model_DT.predict(X_test)\n",
        "score_DT_test = accuracy_score(y_test, predictions_DT_test)\n",
        "cmatrix_DT_test = confusion_matrix(y_test, predictions_DT_test)\n",
        "creport_DT_test = classification_report(y_test, predictions_DT_test)"
      ],
      "metadata": {
        "id": "T8rMEhPuwvW6"
      },
      "id": "T8rMEhPuwvW6",
      "execution_count": 162,
      "outputs": []
    },
    {
      "cell_type": "code",
      "source": [
        "print(\"Evaluation\")\n",
        "generer_rapport(cmatrix_DT_test, score_DT_test, creport_DT_test)"
      ],
      "metadata": {
        "colab": {
          "base_uri": "https://localhost:8080/",
          "height": 607
        },
        "id": "WCsDcdy7wyWH",
        "outputId": "5bd0d440-365c-433f-efe9-87c64f623db9"
      },
      "id": "WCsDcdy7wyWH",
      "execution_count": 163,
      "outputs": [
        {
          "output_type": "stream",
          "name": "stdout",
          "text": [
            "Evaluation\n",
            "              precision    recall  f1-score   support\n",
            "\n",
            "           0       0.99      0.99      0.99      3519\n",
            "           1       0.96      0.97      0.97      1186\n",
            "\n",
            "    accuracy                           0.98      4705\n",
            "   macro avg       0.98      0.98      0.98      4705\n",
            "weighted avg       0.98      0.98      0.98      4705\n",
            "\n"
          ]
        },
        {
          "output_type": "display_data",
          "data": {
            "text/plain": [
              "<Figure size 500x500 with 2 Axes>"
            ],
            "image/png": "[encoded data removed]"
          },
          "metadata": {}
        }
      ]
    },
    {
      "cell_type": "markdown",
      "source": [
        "#### MultinomialNB"
      ],
      "metadata": {
        "id": "Rubr67UiyNin"
      },
      "id": "Rubr67UiyNin"
    },
    {
      "cell_type": "code",
      "source": [
        "# Créez et entraînez votre modèle sur l'ensemble d'entraînement sous-échantillonné\n",
        "model_NB = MultinomialNB()\n",
        "model_NB.fit(X_train_resampled, y_train_resampled)\n",
        "\n",
        "# Faites des prédictions sur l'ensemble de test original\n",
        "predictionsNB = model_NB.predict(X_test)\n",
        "\n",
        "# Évaluez la performance du modèle\n",
        "accuracy = accuracy_score(y_test, predictionsNB)\n",
        "\n",
        "# Affichez les résultats\n",
        "print(f\"Accuracy: {accuracy}\")"
      ],
      "metadata": {
        "colab": {
          "base_uri": "https://localhost:8080/"
        },
        "id": "cDHPQLwgyRyK",
        "outputId": "edae899f-172c-4ab4-d24a-cc7b83ecaf38"
      },
      "id": "cDHPQLwgyRyK",
      "execution_count": 164,
      "outputs": [
        {
          "output_type": "stream",
          "name": "stdout",
          "text": [
            "Accuracy: 0.9407013815090329\n"
          ]
        }
      ]
    },
    {
      "cell_type": "code",
      "source": [
        "# Tester le modèle sur l'ensemble de test\n",
        "predictions_NB_test = model_NB.predict(X_test)\n",
        "score_NB_test = accuracy_score(y_test, predictions_NB_test)\n",
        "cmatrix_NB_test = confusion_matrix(y_test, predictions_NB_test)\n",
        "creport_NB_test = classification_report(y_test, predictions_NB_test)"
      ],
      "metadata": {
        "id": "x4KhZLDYyeWZ"
      },
      "id": "x4KhZLDYyeWZ",
      "execution_count": 165,
      "outputs": []
    },
    {
      "cell_type": "code",
      "source": [
        "print(\"Evaluation\")\n",
        "generer_rapport(cmatrix_NB_test, score_NB_test, creport_NB_test)"
      ],
      "metadata": {
        "colab": {
          "base_uri": "https://localhost:8080/",
          "height": 611
        },
        "id": "9aXWBuCAygn9",
        "outputId": "ae7fdeff-b531-4b54-8ec4-6e9bdbaf381a"
      },
      "id": "9aXWBuCAygn9",
      "execution_count": 166,
      "outputs": [
        {
          "output_type": "stream",
          "name": "stdout",
          "text": [
            "Evaluation\n",
            "              precision    recall  f1-score   support\n",
            "\n",
            "           0       0.93      1.00      0.96      3519\n",
            "           1       1.00      0.77      0.87      1186\n",
            "\n",
            "    accuracy                           0.94      4705\n",
            "   macro avg       0.96      0.88      0.91      4705\n",
            "weighted avg       0.94      0.94      0.94      4705\n",
            "\n"
          ]
        },
        {
          "output_type": "display_data",
          "data": {
            "text/plain": [
              "<Figure size 500x500 with 2 Axes>"
            ],
            "image/png": "[encoded data removed]"
          },
          "metadata": {}
        }
      ]
    },
    {
      "cell_type": "markdown",
      "source": [
        "## Evalution sur les données rééchantillonnage"
      ],
      "metadata": {
        "id": "LYgz-UL3zkGR"
      },
      "id": "LYgz-UL3zkGR"
    },
    {
      "cell_type": "markdown",
      "source": [
        "#### LogisticRegression"
      ],
      "metadata": {
        "id": "knDblCCQ0MV9"
      },
      "id": "knDblCCQ0MV9"
    },
    {
      "cell_type": "code",
      "source": [
        "# Assurez-vous de transformer les nouvelles données de la même manière que vos données d'entraînement\n",
        "good_predict = vectorizer.transform(predict_good)\n",
        "bad_predict = vectorizer.transform(predict_bad)\n",
        "\n",
        "# Effectuez la prédiction\n",
        "resultat1 = model_lo.predict(good_predict)\n",
        "resultat2 = model_lo.predict(bad_predict)\n",
        "\n",
        "print(resultat1)\n",
        "print(\"-\"*40)\n",
        "print(resultat2)"
      ],
      "metadata": {
        "colab": {
          "base_uri": "https://localhost:8080/"
        },
        "id": "q8uwtlByz6WZ",
        "outputId": "0e9d2d57-dd53-4e07-bc55-50ebc5c405ce"
      },
      "id": "q8uwtlByz6WZ",
      "execution_count": 167,
      "outputs": [
        {
          "output_type": "stream",
          "name": "stdout",
          "text": [
            "[0 0 0 0]\n",
            "----------------------------------------\n",
            "[1 0 0 0]\n"
          ]
        }
      ]
    },
    {
      "cell_type": "markdown",
      "source": [
        "#### DecisionTreeClassifier"
      ],
      "metadata": {
        "id": "yBwsmvRt0bLo"
      },
      "id": "yBwsmvRt0bLo"
    },
    {
      "cell_type": "code",
      "source": [
        "# Assurez-vous de transformer les nouvelles données de la même manière que vos données d'entraînement\n",
        "good_predict = vectorizer.transform(predict_good)\n",
        "bad_predict = vectorizer.transform(predict_bad)\n",
        "\n",
        "# Effectuez la prédiction\n",
        "resultat1 = model_DT.predict(good_predict)\n",
        "resultat2 = model_DT.predict(bad_predict)\n",
        "\n",
        "print(resultat1)\n",
        "print(\"-\"*40)\n",
        "print(resultat2)"
      ],
      "metadata": {
        "colab": {
          "base_uri": "https://localhost:8080/"
        },
        "id": "x9AoJOod0diW",
        "outputId": "b621da8b-988a-412b-f098-7ac02519905a"
      },
      "id": "x9AoJOod0diW",
      "execution_count": 168,
      "outputs": [
        {
          "output_type": "stream",
          "name": "stdout",
          "text": [
            "[1 0 1 1]\n",
            "----------------------------------------\n",
            "[1 1 1 1]\n"
          ]
        }
      ]
    },
    {
      "cell_type": "markdown",
      "source": [
        "#### MultinomialNB"
      ],
      "metadata": {
        "id": "6wIkseeI06mI"
      },
      "id": "6wIkseeI06mI"
    },
    {
      "cell_type": "code",
      "source": [
        "# Assurez-vous de transformer les nouvelles données de la même manière que vos données d'entraînement\n",
        "good_predict = vectorizer.transform(predict_good)\n",
        "bad_predict = vectorizer.transform(predict_bad)\n",
        "\n",
        "# Effectuez la prédiction\n",
        "resultat1 = model_NB.predict(good_predict)\n",
        "resultat2 = model_NB.predict(bad_predict)\n",
        "\n",
        "print(resultat1)\n",
        "print(\"-\"*40)\n",
        "print(resultat2)"
      ],
      "metadata": {
        "colab": {
          "base_uri": "https://localhost:8080/"
        },
        "id": "t5ylTMBR1G6I",
        "outputId": "016c9b77-7659-4f2d-ce49-48bc4336c50a"
      },
      "id": "t5ylTMBR1G6I",
      "execution_count": 169,
      "outputs": [
        {
          "output_type": "stream",
          "name": "stdout",
          "text": [
            "[0 0 0 0]\n",
            "----------------------------------------\n",
            "[0 0 0 0]\n"
          ]
        }
      ]
    },
    {
      "cell_type": "markdown",
      "source": [
        "## **Après analyse nous avons opté pour le modèle trois c'est à dire MultinomialNB dans le cas des données non rééchantillonnées**"
      ],
      "metadata": {
        "id": "9jkvkjhR1-6J"
      },
      "id": "9jkvkjhR1-6J"
    },
    {
      "cell_type": "markdown",
      "metadata": {
        "id": "Ac4gkjmtu0eR"
      },
      "source": [
        "#Préduction du label - fichier de soumission"
      ],
      "id": "Ac4gkjmtu0eR"
    },
    {
      "cell_type": "code",
      "execution_count": 170,
      "metadata": {
        "id": "V4CZHh7ovt7b"
      },
      "outputs": [],
      "source": [
        "submission = pd.read_csv('/content/drive/MyDrive/ProjetData354/Projet1/fishing-submission.csv')"
      ],
      "id": "V4CZHh7ovt7b"
    },
    {
      "cell_type": "code",
      "execution_count": 171,
      "metadata": {
        "colab": {
          "base_uri": "https://localhost:8080/",
          "height": 143
        },
        "id": "qGLE5P-SPRUO",
        "outputId": "101904b3-67c0-4dcf-9400-819bc02651df"
      },
      "outputs": [
        {
          "output_type": "execute_result",
          "data": {
            "text/plain": [
              "      id                                                url  label\n",
              "0  30508  https://pub-54efd4aa11884bfb834031d41082f502.r...    NaN\n",
              "1   1173      https://rectify-assets-dapps.firebaseapp.com/    NaN\n",
              "2   2736             https://mynumbercardpoint-sounu-go.jp/    NaN"
            ],
            "text/html": [
              "\n",
              "  <div id=\"df-47061d75-2f8c-4d13-aa2e-e8d95264e1aa\" class=\"colab-df-container\">\n",
              "    <div>\n",
              "<style scoped>\n",
              "    .dataframe tbody tr th:only-of-type {\n",
              "        vertical-align: middle;\n",
              "    }\n",
              "\n",
              "    .dataframe tbody tr th {\n",
              "        vertical-align: top;\n",
              "    }\n",
              "\n",
              "    .dataframe thead th {\n",
              "        text-align: right;\n",
              "    }\n",
              "</style>\n",
              "<table border=\"1\" class=\"dataframe\">\n",
              "  <thead>\n",
              "    <tr style=\"text-align: right;\">\n",
              "      <th></th>\n",
              "      <th>id</th>\n",
              "      <th>url</th>\n",
              "      <th>label</th>\n",
              "    </tr>\n",
              "  </thead>\n",
              "  <tbody>\n",
              "    <tr>\n",
              "      <th>0</th>\n",
              "      <td>30508</td>\n",
              "      <td>https://pub-54efd4aa11884bfb834031d41082f502.r...</td>\n",
              "      <td>NaN</td>\n",
              "    </tr>\n",
              "    <tr>\n",
              "      <th>1</th>\n",
              "      <td>1173</td>\n",
              "      <td>https://rectify-assets-dapps.firebaseapp.com/</td>\n",
              "      <td>NaN</td>\n",
              "    </tr>\n",
              "    <tr>\n",
              "      <th>2</th>\n",
              "      <td>2736</td>\n",
              "      <td>https://mynumbercardpoint-sounu-go.jp/</td>\n",
              "      <td>NaN</td>\n",
              "    </tr>\n",
              "  </tbody>\n",
              "</table>\n",
              "</div>\n",
              "    <div class=\"colab-df-buttons\">\n",
              "\n",
              "  <div class=\"colab-df-container\">\n",
              "    <button class=\"colab-df-convert\" onclick=\"convertToInteractive('df-47061d75-2f8c-4d13-aa2e-e8d95264e1aa')\"\n",
              "            title=\"Convert this dataframe to an interactive table.\"\n",
              "            style=\"display:none;\">\n",
              "\n",
              "  <svg xmlns=\"http://www.w3.org/2000/svg\" height=\"24px\" viewBox=\"0 -960 960 960\">\n",
              "    <path d=\"M120-120v-720h720v720H120Zm60-500h600v-160H180v160Zm220 220h160v-160H400v160Zm0 220h160v-160H400v160ZM180-400h160v-160H180v160Zm440 0h160v-160H620v160ZM180-180h160v-160H180v160Zm440 0h160v-160H620v160Z\"/>\n",
              "  </svg>\n",
              "    </button>\n",
              "\n",
              "  <style>\n",
              "    .colab-df-container {\n",
              "      display:flex;\n",
              "      gap: 12px;\n",
              "    }\n",
              "\n",
              "    .colab-df-convert {\n",
              "      background-color: #E8F0FE;\n",
              "      border: none;\n",
              "      border-radius: 50%;\n",
              "      cursor: pointer;\n",
              "      display: none;\n",
              "      fill: #1967D2;\n",
              "      height: 32px;\n",
              "      padding: 0 0 0 0;\n",
              "      width: 32px;\n",
              "    }\n",
              "\n",
              "    .colab-df-convert:hover {\n",
              "      background-color: #E2EBFA;\n",
              "      box-shadow: 0px 1px 2px rgba(60, 64, 67, 0.3), 0px 1px 3px 1px rgba(60, 64, 67, 0.15);\n",
              "      fill: #174EA6;\n",
              "    }\n",
              "\n",
              "    .colab-df-buttons div {\n",
              "      margin-bottom: 4px;\n",
              "    }\n",
              "\n",
              "    [theme=dark] .colab-df-convert {\n",
              "      background-color: #3B4455;\n",
              "      fill: #D2E3FC;\n",
              "    }\n",
              "\n",
              "    [theme=dark] .colab-df-convert:hover {\n",
              "      background-color: #434B5C;\n",
              "      box-shadow: 0px 1px 3px 1px rgba(0, 0, 0, 0.15);\n",
              "      filter: drop-shadow(0px 1px 2px rgba(0, 0, 0, 0.3));\n",
              "      fill: #FFFFFF;\n",
              "    }\n",
              "  </style>\n",
              "\n",
              "    <script>\n",
              "      const buttonEl =\n",
              "        document.querySelector('#df-47061d75-2f8c-4d13-aa2e-e8d95264e1aa button.colab-df-convert');\n",
              "      buttonEl.style.display =\n",
              "        google.colab.kernel.accessAllowed ? 'block' : 'none';\n",
              "\n",
              "      async function convertToInteractive(key) {\n",
              "        const element = document.querySelector('#df-47061d75-2f8c-4d13-aa2e-e8d95264e1aa');\n",
              "        const dataTable =\n",
              "          await google.colab.kernel.invokeFunction('convertToInteractive',\n",
              "                                                    [key], {});\n",
              "        if (!dataTable) return;\n",
              "\n",
              "        const docLinkHtml = 'Like what you see? Visit the ' +\n",
              "          '<a target=\"_blank\" href=https://colab.research.google.com/notebooks/data_table.ipynb>data table notebook</a>'\n",
              "          + ' to learn more about interactive tables.';\n",
              "        element.innerHTML = '';\n",
              "        dataTable['output_type'] = 'display_data';\n",
              "        await google.colab.output.renderOutput(dataTable, element);\n",
              "        const docLink = document.createElement('div');\n",
              "        docLink.innerHTML = docLinkHtml;\n",
              "        element.appendChild(docLink);\n",
              "      }\n",
              "    </script>\n",
              "  </div>\n",
              "\n",
              "\n",
              "<div id=\"df-a8eafde6-de04-405f-aeaf-8afbb6e1d95e\">\n",
              "  <button class=\"colab-df-quickchart\" onclick=\"quickchart('df-a8eafde6-de04-405f-aeaf-8afbb6e1d95e')\"\n",
              "            title=\"Suggest charts\"\n",
              "            style=\"display:none;\">\n",
              "\n",
              "<svg xmlns=\"http://www.w3.org/2000/svg\" height=\"24px\"viewBox=\"0 0 24 24\"\n",
              "     width=\"24px\">\n",
              "    <g>\n",
              "        <path d=\"M19 3H5c-1.1 0-2 .9-2 2v14c0 1.1.9 2 2 2h14c1.1 0 2-.9 2-2V5c0-1.1-.9-2-2-2zM9 17H7v-7h2v7zm4 0h-2V7h2v10zm4 0h-2v-4h2v4z\"/>\n",
              "    </g>\n",
              "</svg>\n",
              "  </button>\n",
              "\n",
              "<style>\n",
              "  .colab-df-quickchart {\n",
              "      --bg-color: #E8F0FE;\n",
              "      --fill-color: #1967D2;\n",
              "      --hover-bg-color: #E2EBFA;\n",
              "      --hover-fill-color: #174EA6;\n",
              "      --disabled-fill-color: #AAA;\n",
              "      --disabled-bg-color: #DDD;\n",
              "  }\n",
              "\n",
              "  [theme=dark] .colab-df-quickchart {\n",
              "      --bg-color: #3B4455;\n",
              "      --fill-color: #D2E3FC;\n",
              "      --hover-bg-color: #434B5C;\n",
              "      --hover-fill-color: #FFFFFF;\n",
              "      --disabled-bg-color: #3B4455;\n",
              "      --disabled-fill-color: #666;\n",
              "  }\n",
              "\n",
              "  .colab-df-quickchart {\n",
              "    background-color: var(--bg-color);\n",
              "    border: none;\n",
              "    border-radius: 50%;\n",
              "    cursor: pointer;\n",
              "    display: none;\n",
              "    fill: var(--fill-color);\n",
              "    height: 32px;\n",
              "    padding: 0;\n",
              "    width: 32px;\n",
              "  }\n",
              "\n",
              "  .colab-df-quickchart:hover {\n",
              "    background-color: var(--hover-bg-color);\n",
              "    box-shadow: 0 1px 2px rgba(60, 64, 67, 0.3), 0 1px 3px 1px rgba(60, 64, 67, 0.15);\n",
              "    fill: var(--button-hover-fill-color);\n",
              "  }\n",
              "\n",
              "  .colab-df-quickchart-complete:disabled,\n",
              "  .colab-df-quickchart-complete:disabled:hover {\n",
              "    background-color: var(--disabled-bg-color);\n",
              "    fill: var(--disabled-fill-color);\n",
              "    box-shadow: none;\n",
              "  }\n",
              "\n",
              "  .colab-df-spinner {\n",
              "    border: 2px solid var(--fill-color);\n",
              "    border-color: transparent;\n",
              "    border-bottom-color: var(--fill-color);\n",
              "    animation:\n",
              "      spin 1s steps(1) infinite;\n",
              "  }\n",
              "\n",
              "  @keyframes spin {\n",
              "    0% {\n",
              "      border-color: transparent;\n",
              "      border-bottom-color: var(--fill-color);\n",
              "      border-left-color: var(--fill-color);\n",
              "    }\n",
              "    20% {\n",
              "      border-color: transparent;\n",
              "      border-left-color: var(--fill-color);\n",
              "      border-top-color: var(--fill-color);\n",
              "    }\n",
              "    30% {\n",
              "      border-color: transparent;\n",
              "      border-left-color: var(--fill-color);\n",
              "      border-top-color: var(--fill-color);\n",
              "      border-right-color: var(--fill-color);\n",
              "    }\n",
              "    40% {\n",
              "      border-color: transparent;\n",
              "      border-right-color: var(--fill-color);\n",
              "      border-top-color: var(--fill-color);\n",
              "    }\n",
              "    60% {\n",
              "      border-color: transparent;\n",
              "      border-right-color: var(--fill-color);\n",
              "    }\n",
              "    80% {\n",
              "      border-color: transparent;\n",
              "      border-right-color: var(--fill-color);\n",
              "      border-bottom-color: var(--fill-color);\n",
              "    }\n",
              "    90% {\n",
              "      border-color: transparent;\n",
              "      border-bottom-color: var(--fill-color);\n",
              "    }\n",
              "  }\n",
              "</style>\n",
              "\n",
              "  <script>\n",
              "    async function quickchart(key) {\n",
              "      const quickchartButtonEl =\n",
              "        document.querySelector('#' + key + ' button');\n",
              "      quickchartButtonEl.disabled = true;  // To prevent multiple clicks.\n",
              "      quickchartButtonEl.classList.add('colab-df-spinner');\n",
              "      try {\n",
              "        const charts = await google.colab.kernel.invokeFunction(\n",
              "            'suggestCharts', [key], {});\n",
              "      } catch (error) {\n",
              "        console.error('Error during call to suggestCharts:', error);\n",
              "      }\n",
              "      quickchartButtonEl.classList.remove('colab-df-spinner');\n",
              "      quickchartButtonEl.classList.add('colab-df-quickchart-complete');\n",
              "    }\n",
              "    (() => {\n",
              "      let quickchartButtonEl =\n",
              "        document.querySelector('#df-a8eafde6-de04-405f-aeaf-8afbb6e1d95e button');\n",
              "      quickchartButtonEl.style.display =\n",
              "        google.colab.kernel.accessAllowed ? 'block' : 'none';\n",
              "    })();\n",
              "  </script>\n",
              "</div>\n",
              "    </div>\n",
              "  </div>\n"
            ]
          },
          "metadata": {},
          "execution_count": 171
        }
      ],
      "source": [
        "submission.head(3)"
      ],
      "id": "qGLE5P-SPRUO"
    },
    {
      "cell_type": "code",
      "execution_count": 172,
      "metadata": {
        "id": "I0sfDZLWwhYx"
      },
      "outputs": [],
      "source": [
        "# Supposons que 'url' est la colonne contenant les URL dans votre DataFrame\n",
        "submission['clean_url'] = submission['url'].apply(preprocess_initial)\n",
        "\n",
        "# Transformez les nouvelles données en utilisant le même vectorizer que celui utilisé pour les données d'entraînement\n",
        "X_submission = vectorizer.transform(submission['clean_url'])"
      ],
      "id": "I0sfDZLWwhYx"
    },
    {
      "cell_type": "code",
      "execution_count": 173,
      "metadata": {
        "colab": {
          "base_uri": "https://localhost:8080/",
          "height": 143
        },
        "id": "zXa7KeyoPgqz",
        "outputId": "449fe478-8a77-4df0-828a-adb622b0b284"
      },
      "outputs": [
        {
          "output_type": "execute_result",
          "data": {
            "text/plain": [
              "      id                                                url  label  \\\n",
              "0  30508  https://pub-54efd4aa11884bfb834031d41082f502.r...    NaN   \n",
              "1   1173      https://rectify-assets-dapps.firebaseapp.com/    NaN   \n",
              "2   2736             https://mynumbercardpoint-sounu-go.jp/    NaN   \n",
              "\n",
              "                        clean_url  \n",
              "0      pub efd aa bfb f r dev res  \n",
              "1  rectifi asset dapp firebaseapp  \n",
              "2   mynumbercardpoint sounu go jp  "
            ],
            "text/html": [
              "\n",
              "  <div id=\"df-cf897bbe-3c46-4eb6-8211-5c771fcedcae\" class=\"colab-df-container\">\n",
              "    <div>\n",
              "<style scoped>\n",
              "    .dataframe tbody tr th:only-of-type {\n",
              "        vertical-align: middle;\n",
              "    }\n",
              "\n",
              "    .dataframe tbody tr th {\n",
              "        vertical-align: top;\n",
              "    }\n",
              "\n",
              "    .dataframe thead th {\n",
              "        text-align: right;\n",
              "    }\n",
              "</style>\n",
              "<table border=\"1\" class=\"dataframe\">\n",
              "  <thead>\n",
              "    <tr style=\"text-align: right;\">\n",
              "      <th></th>\n",
              "      <th>id</th>\n",
              "      <th>url</th>\n",
              "      <th>label</th>\n",
              "      <th>clean_url</th>\n",
              "    </tr>\n",
              "  </thead>\n",
              "  <tbody>\n",
              "    <tr>\n",
              "      <th>0</th>\n",
              "      <td>30508</td>\n",
              "      <td>https://pub-54efd4aa11884bfb834031d41082f502.r...</td>\n",
              "      <td>NaN</td>\n",
              "      <td>pub efd aa bfb f r dev res</td>\n",
              "    </tr>\n",
              "    <tr>\n",
              "      <th>1</th>\n",
              "      <td>1173</td>\n",
              "      <td>https://rectify-assets-dapps.firebaseapp.com/</td>\n",
              "      <td>NaN</td>\n",
              "      <td>rectifi asset dapp firebaseapp</td>\n",
              "    </tr>\n",
              "    <tr>\n",
              "      <th>2</th>\n",
              "      <td>2736</td>\n",
              "      <td>https://mynumbercardpoint-sounu-go.jp/</td>\n",
              "      <td>NaN</td>\n",
              "      <td>mynumbercardpoint sounu go jp</td>\n",
              "    </tr>\n",
              "  </tbody>\n",
              "</table>\n",
              "</div>\n",
              "    <div class=\"colab-df-buttons\">\n",
              "\n",
              "  <div class=\"colab-df-container\">\n",
              "    <button class=\"colab-df-convert\" onclick=\"convertToInteractive('df-cf897bbe-3c46-4eb6-8211-5c771fcedcae')\"\n",
              "            title=\"Convert this dataframe to an interactive table.\"\n",
              "            style=\"display:none;\">\n",
              "\n",
              "  <svg xmlns=\"http://www.w3.org/2000/svg\" height=\"24px\" viewBox=\"0 -960 960 960\">\n",
              "    <path d=\"M120-120v-720h720v720H120Zm60-500h600v-160H180v160Zm220 220h160v-160H400v160Zm0 220h160v-160H400v160ZM180-400h160v-160H180v160Zm440 0h160v-160H620v160ZM180-180h160v-160H180v160Zm440 0h160v-160H620v160Z\"/>\n",
              "  </svg>\n",
              "    </button>\n",
              "\n",
              "  <style>\n",
              "    .colab-df-container {\n",
              "      display:flex;\n",
              "      gap: 12px;\n",
              "    }\n",
              "\n",
              "    .colab-df-convert {\n",
              "      background-color: #E8F0FE;\n",
              "      border: none;\n",
              "      border-radius: 50%;\n",
              "      cursor: pointer;\n",
              "      display: none;\n",
              "      fill: #1967D2;\n",
              "      height: 32px;\n",
              "      padding: 0 0 0 0;\n",
              "      width: 32px;\n",
              "    }\n",
              "\n",
              "    .colab-df-convert:hover {\n",
              "      background-color: #E2EBFA;\n",
              "      box-shadow: 0px 1px 2px rgba(60, 64, 67, 0.3), 0px 1px 3px 1px rgba(60, 64, 67, 0.15);\n",
              "      fill: #174EA6;\n",
              "    }\n",
              "\n",
              "    .colab-df-buttons div {\n",
              "      margin-bottom: 4px;\n",
              "    }\n",
              "\n",
              "    [theme=dark] .colab-df-convert {\n",
              "      background-color: #3B4455;\n",
              "      fill: #D2E3FC;\n",
              "    }\n",
              "\n",
              "    [theme=dark] .colab-df-convert:hover {\n",
              "      background-color: #434B5C;\n",
              "      box-shadow: 0px 1px 3px 1px rgba(0, 0, 0, 0.15);\n",
              "      filter: drop-shadow(0px 1px 2px rgba(0, 0, 0, 0.3));\n",
              "      fill: #FFFFFF;\n",
              "    }\n",
              "  </style>\n",
              "\n",
              "    <script>\n",
              "      const buttonEl =\n",
              "        document.querySelector('#df-cf897bbe-3c46-4eb6-8211-5c771fcedcae button.colab-df-convert');\n",
              "      buttonEl.style.display =\n",
              "        google.colab.kernel.accessAllowed ? 'block' : 'none';\n",
              "\n",
              "      async function convertToInteractive(key) {\n",
              "        const element = document.querySelector('#df-cf897bbe-3c46-4eb6-8211-5c771fcedcae');\n",
              "        const dataTable =\n",
              "          await google.colab.kernel.invokeFunction('convertToInteractive',\n",
              "                                                    [key], {});\n",
              "        if (!dataTable) return;\n",
              "\n",
              "        const docLinkHtml = 'Like what you see? Visit the ' +\n",
              "          '<a target=\"_blank\" href=https://colab.research.google.com/notebooks/data_table.ipynb>data table notebook</a>'\n",
              "          + ' to learn more about interactive tables.';\n",
              "        element.innerHTML = '';\n",
              "        dataTable['output_type'] = 'display_data';\n",
              "        await google.colab.output.renderOutput(dataTable, element);\n",
              "        const docLink = document.createElement('div');\n",
              "        docLink.innerHTML = docLinkHtml;\n",
              "        element.appendChild(docLink);\n",
              "      }\n",
              "    </script>\n",
              "  </div>\n",
              "\n",
              "\n",
              "<div id=\"df-32fd04fa-a994-415d-89bb-2712cc6eec5b\">\n",
              "  <button class=\"colab-df-quickchart\" onclick=\"quickchart('df-32fd04fa-a994-415d-89bb-2712cc6eec5b')\"\n",
              "            title=\"Suggest charts\"\n",
              "            style=\"display:none;\">\n",
              "\n",
              "<svg xmlns=\"http://www.w3.org/2000/svg\" height=\"24px\"viewBox=\"0 0 24 24\"\n",
              "     width=\"24px\">\n",
              "    <g>\n",
              "        <path d=\"M19 3H5c-1.1 0-2 .9-2 2v14c0 1.1.9 2 2 2h14c1.1 0 2-.9 2-2V5c0-1.1-.9-2-2-2zM9 17H7v-7h2v7zm4 0h-2V7h2v10zm4 0h-2v-4h2v4z\"/>\n",
              "    </g>\n",
              "</svg>\n",
              "  </button>\n",
              "\n",
              "<style>\n",
              "  .colab-df-quickchart {\n",
              "      --bg-color: #E8F0FE;\n",
              "      --fill-color: #1967D2;\n",
              "      --hover-bg-color: #E2EBFA;\n",
              "      --hover-fill-color: #174EA6;\n",
              "      --disabled-fill-color: #AAA;\n",
              "      --disabled-bg-color: #DDD;\n",
              "  }\n",
              "\n",
              "  [theme=dark] .colab-df-quickchart {\n",
              "      --bg-color: #3B4455;\n",
              "      --fill-color: #D2E3FC;\n",
              "      --hover-bg-color: #434B5C;\n",
              "      --hover-fill-color: #FFFFFF;\n",
              "      --disabled-bg-color: #3B4455;\n",
              "      --disabled-fill-color: #666;\n",
              "  }\n",
              "\n",
              "  .colab-df-quickchart {\n",
              "    background-color: var(--bg-color);\n",
              "    border: none;\n",
              "    border-radius: 50%;\n",
              "    cursor: pointer;\n",
              "    display: none;\n",
              "    fill: var(--fill-color);\n",
              "    height: 32px;\n",
              "    padding: 0;\n",
              "    width: 32px;\n",
              "  }\n",
              "\n",
              "  .colab-df-quickchart:hover {\n",
              "    background-color: var(--hover-bg-color);\n",
              "    box-shadow: 0 1px 2px rgba(60, 64, 67, 0.3), 0 1px 3px 1px rgba(60, 64, 67, 0.15);\n",
              "    fill: var(--button-hover-fill-color);\n",
              "  }\n",
              "\n",
              "  .colab-df-quickchart-complete:disabled,\n",
              "  .colab-df-quickchart-complete:disabled:hover {\n",
              "    background-color: var(--disabled-bg-color);\n",
              "    fill: var(--disabled-fill-color);\n",
              "    box-shadow: none;\n",
              "  }\n",
              "\n",
              "  .colab-df-spinner {\n",
              "    border: 2px solid var(--fill-color);\n",
              "    border-color: transparent;\n",
              "    border-bottom-color: var(--fill-color);\n",
              "    animation:\n",
              "      spin 1s steps(1) infinite;\n",
              "  }\n",
              "\n",
              "  @keyframes spin {\n",
              "    0% {\n",
              "      border-color: transparent;\n",
              "      border-bottom-color: var(--fill-color);\n",
              "      border-left-color: var(--fill-color);\n",
              "    }\n",
              "    20% {\n",
              "      border-color: transparent;\n",
              "      border-left-color: var(--fill-color);\n",
              "      border-top-color: var(--fill-color);\n",
              "    }\n",
              "    30% {\n",
              "      border-color: transparent;\n",
              "      border-left-color: var(--fill-color);\n",
              "      border-top-color: var(--fill-color);\n",
              "      border-right-color: var(--fill-color);\n",
              "    }\n",
              "    40% {\n",
              "      border-color: transparent;\n",
              "      border-right-color: var(--fill-color);\n",
              "      border-top-color: var(--fill-color);\n",
              "    }\n",
              "    60% {\n",
              "      border-color: transparent;\n",
              "      border-right-color: var(--fill-color);\n",
              "    }\n",
              "    80% {\n",
              "      border-color: transparent;\n",
              "      border-right-color: var(--fill-color);\n",
              "      border-bottom-color: var(--fill-color);\n",
              "    }\n",
              "    90% {\n",
              "      border-color: transparent;\n",
              "      border-bottom-color: var(--fill-color);\n",
              "    }\n",
              "  }\n",
              "</style>\n",
              "\n",
              "  <script>\n",
              "    async function quickchart(key) {\n",
              "      const quickchartButtonEl =\n",
              "        document.querySelector('#' + key + ' button');\n",
              "      quickchartButtonEl.disabled = true;  // To prevent multiple clicks.\n",
              "      quickchartButtonEl.classList.add('colab-df-spinner');\n",
              "      try {\n",
              "        const charts = await google.colab.kernel.invokeFunction(\n",
              "            'suggestCharts', [key], {});\n",
              "      } catch (error) {\n",
              "        console.error('Error during call to suggestCharts:', error);\n",
              "      }\n",
              "      quickchartButtonEl.classList.remove('colab-df-spinner');\n",
              "      quickchartButtonEl.classList.add('colab-df-quickchart-complete');\n",
              "    }\n",
              "    (() => {\n",
              "      let quickchartButtonEl =\n",
              "        document.querySelector('#df-32fd04fa-a994-415d-89bb-2712cc6eec5b button');\n",
              "      quickchartButtonEl.style.display =\n",
              "        google.colab.kernel.accessAllowed ? 'block' : 'none';\n",
              "    })();\n",
              "  </script>\n",
              "</div>\n",
              "    </div>\n",
              "  </div>\n"
            ]
          },
          "metadata": {},
          "execution_count": 173
        }
      ],
      "source": [
        "submission.head(3)"
      ],
      "id": "zXa7KeyoPgqz"
    },
    {
      "cell_type": "code",
      "execution_count": 174,
      "metadata": {
        "id": "5Qqwo9ZbxoA4"
      },
      "outputs": [],
      "source": [
        "# Effectuez la prédiction\n",
        "predictions_submission = best_model_nb.predict(X_submission)\n",
        "\n",
        "# Ajoutez les prédictions au DataFrame de soumission\n",
        "submission['prediction'] = predictions_submission\n",
        "\n",
        "# Supprimez la colonne 'label' si elle existe\n",
        "if 'label' in submission.columns:\n",
        "    submission.drop('label', axis=1, inplace=True)\n",
        "\n",
        "# Remplacez les valeurs dans la colonne 'prediction'\n",
        "submission['prediction'] = submission['prediction'].map({0: 'légit', 1: 'phishing'})\n",
        "\n",
        "\n",
        "# Enregistrez le DataFrame de soumission avec les prédictions au format CSV\n",
        "submission.to_csv('/content/drive/MyDrive/ProjetData354/Projet1/fishing-submission-predictions.csv', index=False)"
      ],
      "id": "5Qqwo9ZbxoA4"
    },
    {
      "cell_type": "code",
      "execution_count": 175,
      "metadata": {
        "id": "XK5zr8FpQnrE"
      },
      "outputs": [],
      "source": [
        "# Affichez le DataFrame avec les prédictions\n",
        "prediction = pd.read_csv('/content/drive/MyDrive/ProjetData354/Projet1/fishing-submission-predictions.csv')"
      ],
      "id": "XK5zr8FpQnrE"
    },
    {
      "cell_type": "code",
      "execution_count": 176,
      "metadata": {
        "colab": {
          "base_uri": "https://localhost:8080/",
          "height": 143
        },
        "id": "1-g4yTWaT5zK",
        "outputId": "8e67d223-bd23-499b-b6f8-2407aedd8ef6"
      },
      "outputs": [
        {
          "output_type": "execute_result",
          "data": {
            "text/plain": [
              "      id                                                url  \\\n",
              "0  30508  https://pub-54efd4aa11884bfb834031d41082f502.r...   \n",
              "1   1173      https://rectify-assets-dapps.firebaseapp.com/   \n",
              "2   2736             https://mynumbercardpoint-sounu-go.jp/   \n",
              "\n",
              "                        clean_url prediction  \n",
              "0      pub efd aa bfb f r dev res      légit  \n",
              "1  rectifi asset dapp firebaseapp   phishing  \n",
              "2   mynumbercardpoint sounu go jp   phishing  "
            ],
            "text/html": [
              "\n",
              "  <div id=\"df-59920526-65c2-47ec-b8a2-0c584d978590\" class=\"colab-df-container\">\n",
              "    <div>\n",
              "<style scoped>\n",
              "    .dataframe tbody tr th:only-of-type {\n",
              "        vertical-align: middle;\n",
              "    }\n",
              "\n",
              "    .dataframe tbody tr th {\n",
              "        vertical-align: top;\n",
              "    }\n",
              "\n",
              "    .dataframe thead th {\n",
              "        text-align: right;\n",
              "    }\n",
              "</style>\n",
              "<table border=\"1\" class=\"dataframe\">\n",
              "  <thead>\n",
              "    <tr style=\"text-align: right;\">\n",
              "      <th></th>\n",
              "      <th>id</th>\n",
              "      <th>url</th>\n",
              "      <th>clean_url</th>\n",
              "      <th>prediction</th>\n",
              "    </tr>\n",
              "  </thead>\n",
              "  <tbody>\n",
              "    <tr>\n",
              "      <th>0</th>\n",
              "      <td>30508</td>\n",
              "      <td>https://pub-54efd4aa11884bfb834031d41082f502.r...</td>\n",
              "      <td>pub efd aa bfb f r dev res</td>\n",
              "      <td>légit</td>\n",
              "    </tr>\n",
              "    <tr>\n",
              "      <th>1</th>\n",
              "      <td>1173</td>\n",
              "      <td>https://rectify-assets-dapps.firebaseapp.com/</td>\n",
              "      <td>rectifi asset dapp firebaseapp</td>\n",
              "      <td>phishing</td>\n",
              "    </tr>\n",
              "    <tr>\n",
              "      <th>2</th>\n",
              "      <td>2736</td>\n",
              "      <td>https://mynumbercardpoint-sounu-go.jp/</td>\n",
              "      <td>mynumbercardpoint sounu go jp</td>\n",
              "      <td>phishing</td>\n",
              "    </tr>\n",
              "  </tbody>\n",
              "</table>\n",
              "</div>\n",
              "    <div class=\"colab-df-buttons\">\n",
              "\n",
              "  <div class=\"colab-df-container\">\n",
              "    <button class=\"colab-df-convert\" onclick=\"convertToInteractive('df-59920526-65c2-47ec-b8a2-0c584d978590')\"\n",
              "            title=\"Convert this dataframe to an interactive table.\"\n",
              "            style=\"display:none;\">\n",
              "\n",
              "  <svg xmlns=\"http://www.w3.org/2000/svg\" height=\"24px\" viewBox=\"0 -960 960 960\">\n",
              "    <path d=\"M120-120v-720h720v720H120Zm60-500h600v-160H180v160Zm220 220h160v-160H400v160Zm0 220h160v-160H400v160ZM180-400h160v-160H180v160Zm440 0h160v-160H620v160ZM180-180h160v-160H180v160Zm440 0h160v-160H620v160Z\"/>\n",
              "  </svg>\n",
              "    </button>\n",
              "\n",
              "  <style>\n",
              "    .colab-df-container {\n",
              "      display:flex;\n",
              "      gap: 12px;\n",
              "    }\n",
              "\n",
              "    .colab-df-convert {\n",
              "      background-color: #E8F0FE;\n",
              "      border: none;\n",
              "      border-radius: 50%;\n",
              "      cursor: pointer;\n",
              "      display: none;\n",
              "      fill: #1967D2;\n",
              "      height: 32px;\n",
              "      padding: 0 0 0 0;\n",
              "      width: 32px;\n",
              "    }\n",
              "\n",
              "    .colab-df-convert:hover {\n",
              "      background-color: #E2EBFA;\n",
              "      box-shadow: 0px 1px 2px rgba(60, 64, 67, 0.3), 0px 1px 3px 1px rgba(60, 64, 67, 0.15);\n",
              "      fill: #174EA6;\n",
              "    }\n",
              "\n",
              "    .colab-df-buttons div {\n",
              "      margin-bottom: 4px;\n",
              "    }\n",
              "\n",
              "    [theme=dark] .colab-df-convert {\n",
              "      background-color: #3B4455;\n",
              "      fill: #D2E3FC;\n",
              "    }\n",
              "\n",
              "    [theme=dark] .colab-df-convert:hover {\n",
              "      background-color: #434B5C;\n",
              "      box-shadow: 0px 1px 3px 1px rgba(0, 0, 0, 0.15);\n",
              "      filter: drop-shadow(0px 1px 2px rgba(0, 0, 0, 0.3));\n",
              "      fill: #FFFFFF;\n",
              "    }\n",
              "  </style>\n",
              "\n",
              "    <script>\n",
              "      const buttonEl =\n",
              "        document.querySelector('#df-59920526-65c2-47ec-b8a2-0c584d978590 button.colab-df-convert');\n",
              "      buttonEl.style.display =\n",
              "        google.colab.kernel.accessAllowed ? 'block' : 'none';\n",
              "\n",
              "      async function convertToInteractive(key) {\n",
              "        const element = document.querySelector('#df-59920526-65c2-47ec-b8a2-0c584d978590');\n",
              "        const dataTable =\n",
              "          await google.colab.kernel.invokeFunction('convertToInteractive',\n",
              "                                                    [key], {});\n",
              "        if (!dataTable) return;\n",
              "\n",
              "        const docLinkHtml = 'Like what you see? Visit the ' +\n",
              "          '<a target=\"_blank\" href=https://colab.research.google.com/notebooks/data_table.ipynb>data table notebook</a>'\n",
              "          + ' to learn more about interactive tables.';\n",
              "        element.innerHTML = '';\n",
              "        dataTable['output_type'] = 'display_data';\n",
              "        await google.colab.output.renderOutput(dataTable, element);\n",
              "        const docLink = document.createElement('div');\n",
              "        docLink.innerHTML = docLinkHtml;\n",
              "        element.appendChild(docLink);\n",
              "      }\n",
              "    </script>\n",
              "  </div>\n",
              "\n",
              "\n",
              "<div id=\"df-c6151dcc-0bb6-4609-ab23-0d7094e6aff6\">\n",
              "  <button class=\"colab-df-quickchart\" onclick=\"quickchart('df-c6151dcc-0bb6-4609-ab23-0d7094e6aff6')\"\n",
              "            title=\"Suggest charts\"\n",
              "            style=\"display:none;\">\n",
              "\n",
              "<svg xmlns=\"http://www.w3.org/2000/svg\" height=\"24px\"viewBox=\"0 0 24 24\"\n",
              "     width=\"24px\">\n",
              "    <g>\n",
              "        <path d=\"M19 3H5c-1.1 0-2 .9-2 2v14c0 1.1.9 2 2 2h14c1.1 0 2-.9 2-2V5c0-1.1-.9-2-2-2zM9 17H7v-7h2v7zm4 0h-2V7h2v10zm4 0h-2v-4h2v4z\"/>\n",
              "    </g>\n",
              "</svg>\n",
              "  </button>\n",
              "\n",
              "<style>\n",
              "  .colab-df-quickchart {\n",
              "      --bg-color: #E8F0FE;\n",
              "      --fill-color: #1967D2;\n",
              "      --hover-bg-color: #E2EBFA;\n",
              "      --hover-fill-color: #174EA6;\n",
              "      --disabled-fill-color: #AAA;\n",
              "      --disabled-bg-color: #DDD;\n",
              "  }\n",
              "\n",
              "  [theme=dark] .colab-df-quickchart {\n",
              "      --bg-color: #3B4455;\n",
              "      --fill-color: #D2E3FC;\n",
              "      --hover-bg-color: #434B5C;\n",
              "      --hover-fill-color: #FFFFFF;\n",
              "      --disabled-bg-color: #3B4455;\n",
              "      --disabled-fill-color: #666;\n",
              "  }\n",
              "\n",
              "  .colab-df-quickchart {\n",
              "    background-color: var(--bg-color);\n",
              "    border: none;\n",
              "    border-radius: 50%;\n",
              "    cursor: pointer;\n",
              "    display: none;\n",
              "    fill: var(--fill-color);\n",
              "    height: 32px;\n",
              "    padding: 0;\n",
              "    width: 32px;\n",
              "  }\n",
              "\n",
              "  .colab-df-quickchart:hover {\n",
              "    background-color: var(--hover-bg-color);\n",
              "    box-shadow: 0 1px 2px rgba(60, 64, 67, 0.3), 0 1px 3px 1px rgba(60, 64, 67, 0.15);\n",
              "    fill: var(--button-hover-fill-color);\n",
              "  }\n",
              "\n",
              "  .colab-df-quickchart-complete:disabled,\n",
              "  .colab-df-quickchart-complete:disabled:hover {\n",
              "    background-color: var(--disabled-bg-color);\n",
              "    fill: var(--disabled-fill-color);\n",
              "    box-shadow: none;\n",
              "  }\n",
              "\n",
              "  .colab-df-spinner {\n",
              "    border: 2px solid var(--fill-color);\n",
              "    border-color: transparent;\n",
              "    border-bottom-color: var(--fill-color);\n",
              "    animation:\n",
              "      spin 1s steps(1) infinite;\n",
              "  }\n",
              "\n",
              "  @keyframes spin {\n",
              "    0% {\n",
              "      border-color: transparent;\n",
              "      border-bottom-color: var(--fill-color);\n",
              "      border-left-color: var(--fill-color);\n",
              "    }\n",
              "    20% {\n",
              "      border-color: transparent;\n",
              "      border-left-color: var(--fill-color);\n",
              "      border-top-color: var(--fill-color);\n",
              "    }\n",
              "    30% {\n",
              "      border-color: transparent;\n",
              "      border-left-color: var(--fill-color);\n",
              "      border-top-color: var(--fill-color);\n",
              "      border-right-color: var(--fill-color);\n",
              "    }\n",
              "    40% {\n",
              "      border-color: transparent;\n",
              "      border-right-color: var(--fill-color);\n",
              "      border-top-color: var(--fill-color);\n",
              "    }\n",
              "    60% {\n",
              "      border-color: transparent;\n",
              "      border-right-color: var(--fill-color);\n",
              "    }\n",
              "    80% {\n",
              "      border-color: transparent;\n",
              "      border-right-color: var(--fill-color);\n",
              "      border-bottom-color: var(--fill-color);\n",
              "    }\n",
              "    90% {\n",
              "      border-color: transparent;\n",
              "      border-bottom-color: var(--fill-color);\n",
              "    }\n",
              "  }\n",
              "</style>\n",
              "\n",
              "  <script>\n",
              "    async function quickchart(key) {\n",
              "      const quickchartButtonEl =\n",
              "        document.querySelector('#' + key + ' button');\n",
              "      quickchartButtonEl.disabled = true;  // To prevent multiple clicks.\n",
              "      quickchartButtonEl.classList.add('colab-df-spinner');\n",
              "      try {\n",
              "        const charts = await google.colab.kernel.invokeFunction(\n",
              "            'suggestCharts', [key], {});\n",
              "      } catch (error) {\n",
              "        console.error('Error during call to suggestCharts:', error);\n",
              "      }\n",
              "      quickchartButtonEl.classList.remove('colab-df-spinner');\n",
              "      quickchartButtonEl.classList.add('colab-df-quickchart-complete');\n",
              "    }\n",
              "    (() => {\n",
              "      let quickchartButtonEl =\n",
              "        document.querySelector('#df-c6151dcc-0bb6-4609-ab23-0d7094e6aff6 button');\n",
              "      quickchartButtonEl.style.display =\n",
              "        google.colab.kernel.accessAllowed ? 'block' : 'none';\n",
              "    })();\n",
              "  </script>\n",
              "</div>\n",
              "    </div>\n",
              "  </div>\n"
            ]
          },
          "metadata": {},
          "execution_count": 176
        }
      ],
      "source": [
        "prediction.head(3)"
      ],
      "id": "1-g4yTWaT5zK"
    },
    {
      "cell_type": "code",
      "execution_count": 177,
      "metadata": {
        "colab": {
          "base_uri": "https://localhost:8080/",
          "height": 475
        },
        "id": "2jhylAHRX_gk",
        "outputId": "a3aaf0d8-8eee-49f6-9d93-1858a9e2377e"
      },
      "outputs": [
        {
          "output_type": "display_data",
          "data": {
            "text/plain": [
              "<Figure size 640x480 with 1 Axes>"
            ],
            "image/png": "[encoded data removed]"
          },
          "metadata": {}
        }
      ],
      "source": [
        "# Extraction de la colonne des étiquettes du DataFrame\n",
        "labels = prediction.prediction\n",
        "\n",
        "# Création d'un nouveau DataFrame à partir de la colonne des étiquettes\n",
        "labels = pd.DataFrame(labels)\n",
        "\n",
        "# Calcul de la fréquence et du pourcentage des différentes étiquettes\n",
        "labels_count = labels[\"prediction\"].value_counts()\n",
        "labels_percentage = labels_count / len(labels) * 100\n",
        "\n",
        "# Affichage de la fréquence des étiquettes sous forme de diagramme à barres avec le pourcentage\n",
        "fig, ax = plt.subplots()\n",
        "bars = ax.bar(labels_count.index, labels_count.values, color=['red', 'green'])\n",
        "\n",
        "# Ajout des étiquettes de pourcentage au-dessus des barres\n",
        "for bar, percentage in zip(bars, labels_percentage):\n",
        "    height = bar.get_height()\n",
        "    ax.text(bar.get_x() + bar.get_width() / 2, height, f'{percentage:.2f}%',\n",
        "            ha='center', va='bottom', fontsize=10, color='black')\n",
        "\n",
        "# Configuration du diagramme\n",
        "ax.set_xlabel(\"Label\")  # Axe des x : Étiquettes\n",
        "ax.set_ylabel(\"Fréquences\")  # Axe des y : Fréquences\n",
        "ax.set_title(\"Fréquence des Étiquettes dans le Jeu de Données\")  # Titre du diagramme\n",
        "plt.show()"
      ],
      "id": "2jhylAHRX_gk"
    },
    {
      "cell_type": "markdown",
      "metadata": {
        "id": "bHGq__gWogw6"
      },
      "source": [
        "#Mise en place d'un pipline"
      ],
      "id": "bHGq__gWogw6"
    },
    {
      "cell_type": "code",
      "execution_count": 178,
      "metadata": {
        "id": "WwZQKisMlt2F"
      },
      "outputs": [],
      "source": [
        "from sklearn.pipeline import make_pipeline\n",
        "\n",
        "\n",
        "# Instancier le vectorizer (TfidfVectorizer dans ce cas)\n",
        "vectorizer = TfidfVectorizer(tokenizer=preprocess_initial)\n",
        "\n",
        "\n",
        "# Créer le pipeline avec vectorizer et DecisionTreeClassifier\n",
        "pipeline_ls = make_pipeline(\n",
        "    vectorizer,\n",
        "    MultinomialNB()\n",
        ")"
      ],
      "id": "WwZQKisMlt2F"
    },
    {
      "cell_type": "code",
      "execution_count": 181,
      "metadata": {
        "id": "BekYjGj-rdre"
      },
      "outputs": [],
      "source": [
        "from sklearn.model_selection import train_test_split\n",
        "\n",
        "trainX, testX, trainY, testY = train_test_split(df_phish_processed.url, df_phish_processed.label)"
      ],
      "id": "BekYjGj-rdre"
    },
    {
      "cell_type": "code",
      "execution_count": 182,
      "metadata": {
        "colab": {
          "base_uri": "https://localhost:8080/",
          "height": 125
        },
        "id": "96erzeeUsP-1",
        "outputId": "ce6dd182-b92a-4bfc-b6c9-906d1130d344"
      },
      "outputs": [
        {
          "output_type": "execute_result",
          "data": {
            "text/plain": [
              "Pipeline(steps=[('tfidfvectorizer',\n",
              "                 TfidfVectorizer(tokenizer=<function preprocess_initial at 0x790bfec9f5b0>)),\n",
              "                ('multinomialnb', MultinomialNB())])"
            ],
            "text/html": [
              "<style>#sk-container-id-4 {color: black;background-color: white;}#sk-container-id-4 pre{padding: 0;}#sk-container-id-4 div.sk-toggleable {background-color: white;}#sk-container-id-4 label.sk-toggleable__label {cursor: pointer;display: block;width: 100%;margin-bottom: 0;padding: 0.3em;box-sizing: border-box;text-align: center;}#sk-container-id-4 label.sk-toggleable__label-arrow:before {content: \"▸\";float: left;margin-right: 0.25em;color: #696969;}#sk-container-id-4 label.sk-toggleable__label-arrow:hover:before {color: black;}#sk-container-id-4 div.sk-estimator:hover label.sk-toggleable__label-arrow:before {color: black;}#sk-container-id-4 div.sk-toggleable__content {max-height: 0;max-width: 0;overflow: hidden;text-align: left;background-color: #f0f8ff;}#sk-container-id-4 div.sk-toggleable__content pre {margin: 0.2em;color: black;border-radius: 0.25em;background-color: #f0f8ff;}#sk-container-id-4 input.sk-toggleable__control:checked~div.sk-toggleable__content {max-height: 200px;max-width: 100%;overflow: auto;}#sk-container-id-4 input.sk-toggleable__control:checked~label.sk-toggleable__label-arrow:before {content: \"▾\";}#sk-container-id-4 div.sk-estimator input.sk-toggleable__control:checked~label.sk-toggleable__label {background-color: #d4ebff;}#sk-container-id-4 div.sk-label input.sk-toggleable__control:checked~label.sk-toggleable__label {background-color: #d4ebff;}#sk-container-id-4 input.sk-hidden--visually {border: 0;clip: rect(1px 1px 1px 1px);clip: rect(1px, 1px, 1px, 1px);height: 1px;margin: -1px;overflow: hidden;padding: 0;position: absolute;width: 1px;}#sk-container-id-4 div.sk-estimator {font-family: monospace;background-color: #f0f8ff;border: 1px dotted black;border-radius: 0.25em;box-sizing: border-box;margin-bottom: 0.5em;}#sk-container-id-4 div.sk-estimator:hover {background-color: #d4ebff;}#sk-container-id-4 div.sk-parallel-item::after {content: \"\";width: 100%;border-bottom: 1px solid gray;flex-grow: 1;}#sk-container-id-4 div.sk-label:hover label.sk-toggleable__label {background-color: #d4ebff;}#sk-container-id-4 div.sk-serial::before {content: \"\";position: absolute;border-left: 1px solid gray;box-sizing: border-box;top: 0;bottom: 0;left: 50%;z-index: 0;}#sk-container-id-4 div.sk-serial {display: flex;flex-direction: column;align-items: center;background-color: white;padding-right: 0.2em;padding-left: 0.2em;position: relative;}#sk-container-id-4 div.sk-item {position: relative;z-index: 1;}#sk-container-id-4 div.sk-parallel {display: flex;align-items: stretch;justify-content: center;background-color: white;position: relative;}#sk-container-id-4 div.sk-item::before, #sk-container-id-4 div.sk-parallel-item::before {content: \"\";position: absolute;border-left: 1px solid gray;box-sizing: border-box;top: 0;bottom: 0;left: 50%;z-index: -1;}#sk-container-id-4 div.sk-parallel-item {display: flex;flex-direction: column;z-index: 1;position: relative;background-color: white;}#sk-container-id-4 div.sk-parallel-item:first-child::after {align-self: flex-end;width: 50%;}#sk-container-id-4 div.sk-parallel-item:last-child::after {align-self: flex-start;width: 50%;}#sk-container-id-4 div.sk-parallel-item:only-child::after {width: 0;}#sk-container-id-4 div.sk-dashed-wrapped {border: 1px dashed gray;margin: 0 0.4em 0.5em 0.4em;box-sizing: border-box;padding-bottom: 0.4em;background-color: white;}#sk-container-id-4 div.sk-label label {font-family: monospace;font-weight: bold;display: inline-block;line-height: 1.2em;}#sk-container-id-4 div.sk-label-container {text-align: center;}#sk-container-id-4 div.sk-container {/* jupyter's `normalize.less` sets `[hidden] { display: none; }` but bootstrap.min.css set `[hidden] { display: none !important; }` so we also need the `!important` here to be able to override the default hidden behavior on the sphinx rendered scikit-learn.org. See: https://github.com/scikit-learn/scikit-learn/issues/21755 */display: inline-block !important;position: relative;}#sk-container-id-4 div.sk-text-repr-fallback {display: none;}</style><div id=\"sk-container-id-4\" class=\"sk-top-container\"><div class=\"sk-text-repr-fallback\"><pre>Pipeline(steps=[(&#x27;tfidfvectorizer&#x27;,\n",
              "                 TfidfVectorizer(tokenizer=&lt;function preprocess_initial at 0x790bfec9f5b0&gt;)),\n",
              "                (&#x27;multinomialnb&#x27;, MultinomialNB())])</pre><b>In a Jupyter environment, please rerun this cell to show the HTML representation or trust the notebook. <br />On GitHub, the HTML representation is unable to render, please try loading this page with nbviewer.org.</b></div><div class=\"sk-container\" hidden><div class=\"sk-item sk-dashed-wrapped\"><div class=\"sk-label-container\"><div class=\"sk-label sk-toggleable\"><input class=\"sk-toggleable__control sk-hidden--visually\" id=\"sk-estimator-id-10\" type=\"checkbox\" ><label for=\"sk-estimator-id-10\" class=\"sk-toggleable__label sk-toggleable__label-arrow\">Pipeline</label><div class=\"sk-toggleable__content\"><pre>Pipeline(steps=[(&#x27;tfidfvectorizer&#x27;,\n",
              "                 TfidfVectorizer(tokenizer=&lt;function preprocess_initial at 0x790bfec9f5b0&gt;)),\n",
              "                (&#x27;multinomialnb&#x27;, MultinomialNB())])</pre></div></div></div><div class=\"sk-serial\"><div class=\"sk-item\"><div class=\"sk-estimator sk-toggleable\"><input class=\"sk-toggleable__control sk-hidden--visually\" id=\"sk-estimator-id-11\" type=\"checkbox\" ><label for=\"sk-estimator-id-11\" class=\"sk-toggleable__label sk-toggleable__label-arrow\">TfidfVectorizer</label><div class=\"sk-toggleable__content\"><pre>TfidfVectorizer(tokenizer=&lt;function preprocess_initial at 0x790bfec9f5b0&gt;)</pre></div></div></div><div class=\"sk-item\"><div class=\"sk-estimator sk-toggleable\"><input class=\"sk-toggleable__control sk-hidden--visually\" id=\"sk-estimator-id-12\" type=\"checkbox\" ><label for=\"sk-estimator-id-12\" class=\"sk-toggleable__label sk-toggleable__label-arrow\">MultinomialNB</label><div class=\"sk-toggleable__content\"><pre>MultinomialNB()</pre></div></div></div></div></div></div></div>"
            ]
          },
          "metadata": {},
          "execution_count": 182
        }
      ],
      "source": [
        "pipeline_ls.fit(trainX,trainY)"
      ],
      "id": "96erzeeUsP-1"
    },
    {
      "cell_type": "code",
      "execution_count": 183,
      "metadata": {
        "colab": {
          "base_uri": "https://localhost:8080/"
        },
        "id": "cyU3JfaatN2l",
        "outputId": "ee701a7d-e270-419b-96a3-b2756f46ced0"
      },
      "outputs": [
        {
          "output_type": "execute_result",
          "data": {
            "text/plain": [
              "0.7888114266281244"
            ]
          },
          "metadata": {},
          "execution_count": 183
        }
      ],
      "source": [
        "pipeline_ls.score(testX,testY)"
      ],
      "id": "cyU3JfaatN2l"
    },
    {
      "cell_type": "code",
      "execution_count": 184,
      "metadata": {
        "colab": {
          "base_uri": "https://localhost:8080/",
          "height": 646
        },
        "id": "SfH6axDft0b6",
        "outputId": "3d35d590-65cb-4252-fffa-ea55fde7f7c9"
      },
      "outputs": [
        {
          "output_type": "stream",
          "name": "stdout",
          "text": [
            "Training Accuracy : 0.7879492121074708\n",
            "Testing Accuracy : 0.7888114266281244\n",
            "\n",
            "CLASSIFICATION REPORT\n",
            "\n",
            "              precision    recall  f1-score   support\n",
            "\n",
            "     fishing       1.00      0.78      0.88      5671\n",
            "       legit       0.14      0.98      0.25       210\n",
            "\n",
            "    accuracy                           0.79      5881\n",
            "   macro avg       0.57      0.88      0.56      5881\n",
            "weighted avg       0.97      0.79      0.85      5881\n",
            "\n",
            "\n",
            "CONFUSION MATRIX\n"
          ]
        },
        {
          "output_type": "display_data",
          "data": {
            "text/plain": [
              "<Figure size 600x400 with 2 Axes>"
            ],
            "image/png": "[encoded data removed]"
          },
          "metadata": {}
        }
      ],
      "source": [
        "# Évaluation des performances du modèle sur les données d'entraînement\n",
        "print('Training Accuracy :', pipeline_ls.score(trainX, trainY))\n",
        "\n",
        "# Évaluation des performances du modèle sur les données de test\n",
        "print('Testing Accuracy :', pipeline_ls.score(testX, testY))\n",
        "\n",
        "# Calcul de la matrice de confusion sur les données de test\n",
        "con_mat = pd.DataFrame(confusion_matrix(pipeline_ls.predict(testX), testY),\n",
        "            columns=['Predicted:fishing', 'Predicted:legit'],\n",
        "            index=['Actual:fishing', 'Actual:legit'])\n",
        "\n",
        "# Affichage du rapport de classification\n",
        "print('\\nCLASSIFICATION REPORT\\n')\n",
        "print(classification_report(pipeline_ls.predict(testX), testY,\n",
        "                            target_names=['fishing', 'legit']))\n",
        "\n",
        "# Affichage de la matrice de confusion sous forme de figure\n",
        "print('\\nCONFUSION MATRIX')\n",
        "plt.figure(figsize=(6, 4))\n",
        "sns.heatmap(con_mat, annot=True, fmt='d', cmap=\"coolwarm\")\n",
        "\n",
        "# Affichage de la figure\n",
        "plt.show()"
      ],
      "id": "SfH6axDft0b6"
    },
    {
      "cell_type": "code",
      "execution_count": 185,
      "metadata": {
        "id": "Ra3_kuq3v6XR"
      },
      "outputs": [],
      "source": [
        "import pickle\n",
        "\n",
        "\n",
        "pickle.dump(pipeline_ls,open('/content/drive/MyDrive/ProjetData354/Projet1/phishing.pkl','wb'))\n"
      ],
      "id": "Ra3_kuq3v6XR"
    },
    {
      "cell_type": "code",
      "execution_count": 186,
      "metadata": {
        "colab": {
          "base_uri": "https://localhost:8080/"
        },
        "id": "tyJqf20OxU1p",
        "outputId": "66d7a143-b121-431f-bb4f-cc97ba4666de"
      },
      "outputs": [
        {
          "output_type": "stream",
          "name": "stdout",
          "text": [
            "0.7888114266281244\n"
          ]
        }
      ],
      "source": [
        "loaded_model = pickle.load(open('/content/drive/MyDrive/ProjetData354/Projet1/phishing.pkl', 'rb'))\n",
        "result = loaded_model.score(testX,testY)\n",
        "print(result)"
      ],
      "id": "tyJqf20OxU1p"
    },
    {
      "cell_type": "markdown",
      "metadata": {
        "id": "-9elbA78f-7s"
      },
      "source": [
        "# Mise en production du modèle\n",
        "\n"
      ],
      "id": "-9elbA78f-7s"
    },
    {
      "cell_type": "markdown",
      "metadata": {
        "id": "x-hAauQbgGsC"
      },
      "source": [
        " Cliquer ici pour faire des tests:\n",
        " # http://fotiemb.pythonanywhere.com/\n"
      ],
      "id": "x-hAauQbgGsC"
    }
  ],
  "metadata": {
    "accelerator": "GPU",
    "colab": {
      "provenance": []
    },
    "kernelspec": {
      "display_name": "Python 3",
      "name": "python3"
    },
    "language_info": {
      "codemirror_mode": {
        "name": "ipython",
        "version": 3
      },
      "file_extension": ".py",
      "mimetype": "text/x-python",
      "name": "python",
      "nbconvert_exporter": "python",
      "pygments_lexer": "ipython3",
      "version": "3.12.0"
    }
  },
  "nbformat": 4,
  "nbformat_minor": 5
}